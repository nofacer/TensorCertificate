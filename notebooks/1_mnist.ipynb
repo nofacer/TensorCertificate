{
 "cells": [
  {
   "cell_type": "code",
   "execution_count": 1,
   "id": "potential-browse",
   "metadata": {},
   "outputs": [
    {
     "name": "stdout",
     "output_type": "stream",
     "text": [
      "Requirement already satisfied: tensorflow_history_plot in /Users/xubinni/.pyenv/versions/3.8.0/lib/python3.8/site-packages (0.1.2)\n",
      "Requirement already satisfied: numpy in /Users/xubinni/.pyenv/versions/3.8.0/lib/python3.8/site-packages (from tensorflow_history_plot) (1.19.5)\n",
      "Requirement already satisfied: tensorflow in /Users/xubinni/.pyenv/versions/3.8.0/lib/python3.8/site-packages (from tensorflow_history_plot) (2.4.1)\n",
      "Requirement already satisfied: matplotlib in /Users/xubinni/.pyenv/versions/3.8.0/lib/python3.8/site-packages (from tensorflow_history_plot) (3.3.3)\n",
      "Requirement already satisfied: pyparsing!=2.0.4,!=2.1.2,!=2.1.6,>=2.0.3 in /Users/xubinni/.pyenv/versions/3.8.0/lib/python3.8/site-packages (from matplotlib->tensorflow_history_plot) (2.4.7)\n",
      "Requirement already satisfied: kiwisolver>=1.0.1 in /Users/xubinni/.pyenv/versions/3.8.0/lib/python3.8/site-packages (from matplotlib->tensorflow_history_plot) (1.3.1)\n",
      "Requirement already satisfied: python-dateutil>=2.1 in /Users/xubinni/.pyenv/versions/3.8.0/lib/python3.8/site-packages (from matplotlib->tensorflow_history_plot) (2.8.1)\n",
      "Requirement already satisfied: pillow>=6.2.0 in /Users/xubinni/.pyenv/versions/3.8.0/lib/python3.8/site-packages (from matplotlib->tensorflow_history_plot) (8.1.0)\n",
      "Requirement already satisfied: cycler>=0.10 in /Users/xubinni/.pyenv/versions/3.8.0/lib/python3.8/site-packages (from matplotlib->tensorflow_history_plot) (0.10.0)\n",
      "Requirement already satisfied: six in /Users/xubinni/.pyenv/versions/3.8.0/lib/python3.8/site-packages (from cycler>=0.10->matplotlib->tensorflow_history_plot) (1.15.0)\n",
      "Requirement already satisfied: flatbuffers~=1.12.0 in /Users/xubinni/.pyenv/versions/3.8.0/lib/python3.8/site-packages (from tensorflow->tensorflow_history_plot) (1.12)\n",
      "Requirement already satisfied: keras-preprocessing~=1.1.2 in /Users/xubinni/.pyenv/versions/3.8.0/lib/python3.8/site-packages (from tensorflow->tensorflow_history_plot) (1.1.2)\n",
      "Requirement already satisfied: protobuf>=3.9.2 in /Users/xubinni/.pyenv/versions/3.8.0/lib/python3.8/site-packages (from tensorflow->tensorflow_history_plot) (3.14.0)\n",
      "Requirement already satisfied: gast==0.3.3 in /Users/xubinni/.pyenv/versions/3.8.0/lib/python3.8/site-packages (from tensorflow->tensorflow_history_plot) (0.3.3)\n",
      "Requirement already satisfied: tensorboard~=2.4 in /Users/xubinni/.pyenv/versions/3.8.0/lib/python3.8/site-packages (from tensorflow->tensorflow_history_plot) (2.4.1)\n",
      "Requirement already satisfied: wrapt~=1.12.1 in /Users/xubinni/.pyenv/versions/3.8.0/lib/python3.8/site-packages (from tensorflow->tensorflow_history_plot) (1.12.1)\n",
      "Requirement already satisfied: h5py~=2.10.0 in /Users/xubinni/.pyenv/versions/3.8.0/lib/python3.8/site-packages (from tensorflow->tensorflow_history_plot) (2.10.0)\n",
      "Requirement already satisfied: absl-py~=0.10 in /Users/xubinni/.pyenv/versions/3.8.0/lib/python3.8/site-packages (from tensorflow->tensorflow_history_plot) (0.10.0)\n",
      "Requirement already satisfied: termcolor~=1.1.0 in /Users/xubinni/.pyenv/versions/3.8.0/lib/python3.8/site-packages (from tensorflow->tensorflow_history_plot) (1.1.0)\n",
      "Requirement already satisfied: typing-extensions~=3.7.4 in /Users/xubinni/.pyenv/versions/3.8.0/lib/python3.8/site-packages (from tensorflow->tensorflow_history_plot) (3.7.4.3)\n",
      "Requirement already satisfied: tensorflow-estimator<2.5.0,>=2.4.0 in /Users/xubinni/.pyenv/versions/3.8.0/lib/python3.8/site-packages (from tensorflow->tensorflow_history_plot) (2.4.0)\n",
      "Requirement already satisfied: wheel~=0.35 in /Users/xubinni/.pyenv/versions/3.8.0/lib/python3.8/site-packages (from tensorflow->tensorflow_history_plot) (0.36.2)\n",
      "Requirement already satisfied: astunparse~=1.6.3 in /Users/xubinni/.pyenv/versions/3.8.0/lib/python3.8/site-packages (from tensorflow->tensorflow_history_plot) (1.6.3)\n",
      "Requirement already satisfied: grpcio~=1.32.0 in /Users/xubinni/.pyenv/versions/3.8.0/lib/python3.8/site-packages (from tensorflow->tensorflow_history_plot) (1.32.0)\n",
      "Requirement already satisfied: google-pasta~=0.2 in /Users/xubinni/.pyenv/versions/3.8.0/lib/python3.8/site-packages (from tensorflow->tensorflow_history_plot) (0.2.0)\n",
      "Requirement already satisfied: opt-einsum~=3.3.0 in /Users/xubinni/.pyenv/versions/3.8.0/lib/python3.8/site-packages (from tensorflow->tensorflow_history_plot) (3.3.0)\n",
      "Requirement already satisfied: setuptools>=41.0.0 in /Users/xubinni/.pyenv/versions/3.8.0/lib/python3.8/site-packages (from tensorboard~=2.4->tensorflow->tensorflow_history_plot) (41.2.0)\n",
      "Requirement already satisfied: markdown>=2.6.8 in /Users/xubinni/.pyenv/versions/3.8.0/lib/python3.8/site-packages (from tensorboard~=2.4->tensorflow->tensorflow_history_plot) (3.3.3)\n",
      "Requirement already satisfied: google-auth<2,>=1.6.3 in /Users/xubinni/.pyenv/versions/3.8.0/lib/python3.8/site-packages (from tensorboard~=2.4->tensorflow->tensorflow_history_plot) (1.24.0)\n",
      "Requirement already satisfied: google-auth-oauthlib<0.5,>=0.4.1 in /Users/xubinni/.pyenv/versions/3.8.0/lib/python3.8/site-packages (from tensorboard~=2.4->tensorflow->tensorflow_history_plot) (0.4.2)\n",
      "Requirement already satisfied: requests<3,>=2.21.0 in /Users/xubinni/.pyenv/versions/3.8.0/lib/python3.8/site-packages (from tensorboard~=2.4->tensorflow->tensorflow_history_plot) (2.25.1)\n",
      "Requirement already satisfied: werkzeug>=0.11.15 in /Users/xubinni/.pyenv/versions/3.8.0/lib/python3.8/site-packages (from tensorboard~=2.4->tensorflow->tensorflow_history_plot) (1.0.1)\n",
      "Requirement already satisfied: tensorboard-plugin-wit>=1.6.0 in /Users/xubinni/.pyenv/versions/3.8.0/lib/python3.8/site-packages (from tensorboard~=2.4->tensorflow->tensorflow_history_plot) (1.8.0)\n",
      "Requirement already satisfied: rsa<5,>=3.1.4 in /Users/xubinni/.pyenv/versions/3.8.0/lib/python3.8/site-packages (from google-auth<2,>=1.6.3->tensorboard~=2.4->tensorflow->tensorflow_history_plot) (4.7)\n",
      "Requirement already satisfied: pyasn1-modules>=0.2.1 in /Users/xubinni/.pyenv/versions/3.8.0/lib/python3.8/site-packages (from google-auth<2,>=1.6.3->tensorboard~=2.4->tensorflow->tensorflow_history_plot) (0.2.8)\n",
      "Requirement already satisfied: cachetools<5.0,>=2.0.0 in /Users/xubinni/.pyenv/versions/3.8.0/lib/python3.8/site-packages (from google-auth<2,>=1.6.3->tensorboard~=2.4->tensorflow->tensorflow_history_plot) (4.2.0)\n",
      "Requirement already satisfied: requests-oauthlib>=0.7.0 in /Users/xubinni/.pyenv/versions/3.8.0/lib/python3.8/site-packages (from google-auth-oauthlib<0.5,>=0.4.1->tensorboard~=2.4->tensorflow->tensorflow_history_plot) (1.3.0)\n",
      "Requirement already satisfied: pyasn1<0.5.0,>=0.4.6 in /Users/xubinni/.pyenv/versions/3.8.0/lib/python3.8/site-packages (from pyasn1-modules>=0.2.1->google-auth<2,>=1.6.3->tensorboard~=2.4->tensorflow->tensorflow_history_plot) (0.4.8)\n",
      "Requirement already satisfied: urllib3<1.27,>=1.21.1 in /Users/xubinni/.pyenv/versions/3.8.0/lib/python3.8/site-packages (from requests<3,>=2.21.0->tensorboard~=2.4->tensorflow->tensorflow_history_plot) (1.26.2)\n",
      "Requirement already satisfied: chardet<5,>=3.0.2 in /Users/xubinni/.pyenv/versions/3.8.0/lib/python3.8/site-packages (from requests<3,>=2.21.0->tensorboard~=2.4->tensorflow->tensorflow_history_plot) (4.0.0)\n",
      "Requirement already satisfied: certifi>=2017.4.17 in /Users/xubinni/.pyenv/versions/3.8.0/lib/python3.8/site-packages (from requests<3,>=2.21.0->tensorboard~=2.4->tensorflow->tensorflow_history_plot) (2020.12.5)\n",
      "Requirement already satisfied: idna<3,>=2.5 in /Users/xubinni/.pyenv/versions/3.8.0/lib/python3.8/site-packages (from requests<3,>=2.21.0->tensorboard~=2.4->tensorflow->tensorflow_history_plot) (2.10)\n",
      "Requirement already satisfied: oauthlib>=3.0.0 in /Users/xubinni/.pyenv/versions/3.8.0/lib/python3.8/site-packages (from requests-oauthlib>=0.7.0->google-auth-oauthlib<0.5,>=0.4.1->tensorboard~=2.4->tensorflow->tensorflow_history_plot) (3.1.0)\n"
     ]
    }
   ],
   "source": [
    "!pip install tensorflow_history_plot"
   ]
  },
  {
   "cell_type": "code",
   "execution_count": 2,
   "id": "included-hostel",
   "metadata": {},
   "outputs": [],
   "source": [
    "import tensorflow as tf\n",
    "import tensorflow_datasets as tfds\n",
    "import numpy as np\n",
    "import matplotlib.pyplot as plt\n",
    "import PIL.ImageOps\n",
    "from tensorflow_history_plot import show_acc"
   ]
  },
  {
   "cell_type": "code",
   "execution_count": 3,
   "id": "rolled-theater",
   "metadata": {},
   "outputs": [],
   "source": [
    "gpus = tf.config.experimental.list_physical_devices('GPU')\n",
    "if gpus:\n",
    "    try:\n",
    "        tf.config.experimental.set_visible_devices(gpus[0], 'GPU')\n",
    "    except RuntimeError as e:\n",
    "        print(e)"
   ]
  },
  {
   "cell_type": "markdown",
   "id": "worldwide-module",
   "metadata": {},
   "source": [
    "## Load Dataset"
   ]
  },
  {
   "cell_type": "code",
   "execution_count": 4,
   "id": "missing-quest",
   "metadata": {},
   "outputs": [],
   "source": [
    "(ds_train, ds_test), ds_info = tfds.load('mnist', split=['train', 'test'], with_info=True, as_supervised=True)"
   ]
  },
  {
   "cell_type": "markdown",
   "id": "warming-respect",
   "metadata": {},
   "source": [
    "## Show Dataset Info "
   ]
  },
  {
   "cell_type": "code",
   "execution_count": 5,
   "id": "opposite-shepherd",
   "metadata": {},
   "outputs": [
    {
     "data": {
      "text/plain": [
       "tfds.core.DatasetInfo(\n",
       "    name='mnist',\n",
       "    full_name='mnist/3.0.1',\n",
       "    description=\"\"\"\n",
       "    The MNIST database of handwritten digits.\n",
       "    \"\"\",\n",
       "    homepage='http://yann.lecun.com/exdb/mnist/',\n",
       "    data_path='/Users/xubinni/tensorflow_datasets/mnist/3.0.1',\n",
       "    download_size=11.06 MiB,\n",
       "    dataset_size=21.00 MiB,\n",
       "    features=FeaturesDict({\n",
       "        'image': Image(shape=(28, 28, 1), dtype=tf.uint8),\n",
       "        'label': ClassLabel(shape=(), dtype=tf.int64, num_classes=10),\n",
       "    }),\n",
       "    supervised_keys=('image', 'label'),\n",
       "    splits={\n",
       "        'test': <SplitInfo num_examples=10000, num_shards=1>,\n",
       "        'train': <SplitInfo num_examples=60000, num_shards=1>,\n",
       "    },\n",
       "    citation=\"\"\"@article{lecun2010mnist,\n",
       "      title={MNIST handwritten digit database},\n",
       "      author={LeCun, Yann and Cortes, Corinna and Burges, CJ},\n",
       "      journal={ATT Labs [Online]. Available: http://yann.lecun.com/exdb/mnist},\n",
       "      volume={2},\n",
       "      year={2010}\n",
       "    }\"\"\",\n",
       ")"
      ]
     },
     "execution_count": 5,
     "metadata": {},
     "output_type": "execute_result"
    }
   ],
   "source": [
    "ds_info"
   ]
  },
  {
   "cell_type": "markdown",
   "id": "received-device",
   "metadata": {},
   "source": [
    "## Show a sample Data"
   ]
  },
  {
   "cell_type": "code",
   "execution_count": 6,
   "id": "experimental-weekly",
   "metadata": {},
   "outputs": [
    {
     "name": "stdout",
     "output_type": "stream",
     "text": [
      "size:(28, 28, 1),max:255,min:0\n",
      "label:4\n"
     ]
    },
    {
     "data": {
      "image/png": "[encoded data removed]",
      "text/plain": [
       "<Figure size 432x288 with 1 Axes>"
      ]
     },
     "metadata": {
      "needs_background": "light"
     },
     "output_type": "display_data"
    }
   ],
   "source": [
    "for element in ds_train.as_numpy_iterator():\n",
    "    sample_data, sample_label = element\n",
    "    break\n",
    "\n",
    "print(\"size:{},max:{},min:{}\".format(sample_data.shape,\n",
    "                                     np.max(sample_data),\n",
    "                                     np.min(sample_data)))\n",
    "print(\"label:{}\".format(sample_label))\n",
    "plt.imshow(sample_data, interpolation='nearest', cmap=\"gray\")\n",
    "plt.show()"
   ]
  },
  {
   "cell_type": "code",
   "execution_count": 7,
   "id": "champion-sellers",
   "metadata": {},
   "outputs": [],
   "source": [
    "IMG_HEIGHT = 28\n",
    "IMG_WIDTH = 28"
   ]
  },
  {
   "cell_type": "markdown",
   "id": "searching-franchise",
   "metadata": {},
   "source": [
    "## Normalize\n",
    "因为数据集的值的范围是0～255，所以需要归一化一下。"
   ]
  },
  {
   "cell_type": "code",
   "execution_count": 8,
   "id": "occupational-estate",
   "metadata": {},
   "outputs": [],
   "source": [
    "def normalize_img(image, label):\n",
    "    \"\"\"Normalizes images: `uint8` -> `float32`.\"\"\"\n",
    "    return tf.cast(image, tf.float32) / 255., label"
   ]
  },
  {
   "cell_type": "code",
   "execution_count": 9,
   "id": "basic-color",
   "metadata": {},
   "outputs": [
    {
     "name": "stdout",
     "output_type": "stream",
     "text": [
      "size:(28, 28, 1),max:1.0,min:0.0\n"
     ]
    },
    {
     "data": {
      "image/png": "[encoded data removed]",
      "text/plain": [
       "<Figure size 432x288 with 1 Axes>"
      ]
     },
     "metadata": {
      "needs_background": "light"
     },
     "output_type": "display_data"
    }
   ],
   "source": [
    "nor_sample_data, _ = normalize_img(sample_data, sample_label)\n",
    "print(\"size:{},max:{},min:{}\".format(nor_sample_data.shape,\n",
    "                                     np.max(nor_sample_data),\n",
    "                                     np.min(nor_sample_data)))\n",
    "plt.imshow(nor_sample_data, interpolation='nearest', cmap=\"gray\")\n",
    "plt.show()"
   ]
  },
  {
   "cell_type": "markdown",
   "id": "civilian-circumstances",
   "metadata": {},
   "source": [
    "## Build Input Pipeline"
   ]
  },
  {
   "cell_type": "code",
   "execution_count": 10,
   "id": "victorian-japan",
   "metadata": {},
   "outputs": [],
   "source": [
    "ds_train = ds_train.map(normalize_img, num_parallel_calls=tf.data.experimental.AUTOTUNE) \\\n",
    "    .cache() \\\n",
    "    .shuffle(ds_info.splits['train'].num_examples) \\\n",
    "    .batch(128) \\\n",
    "    .prefetch(tf.data.experimental.AUTOTUNE)"
   ]
  },
  {
   "cell_type": "code",
   "execution_count": 11,
   "id": "macro-shock",
   "metadata": {},
   "outputs": [],
   "source": [
    "ds_test = ds_test.map(normalize_img, num_parallel_calls=tf.data.experimental.AUTOTUNE) \\\n",
    "    .batch(128) \\\n",
    "    .cache() \\\n",
    "    .prefetch(tf.data.experimental.AUTOTUNE)"
   ]
  },
  {
   "cell_type": "markdown",
   "id": "behind-diversity",
   "metadata": {},
   "source": [
    "## Build Model"
   ]
  },
  {
   "cell_type": "code",
   "execution_count": 12,
   "id": "forty-holder",
   "metadata": {},
   "outputs": [],
   "source": [
    "model = tf.keras.models.Sequential([\n",
    "    tf.keras.layers.Flatten(input_shape=(IMG_HEIGHT, IMG_WIDTH)),\n",
    "    tf.keras.layers.Dense(128, activation='relu'),\n",
    "    tf.keras.layers.Dense(10)\n",
    "])"
   ]
  },
  {
   "cell_type": "markdown",
   "id": "designing-glasgow",
   "metadata": {},
   "source": [
    "## Compile Model"
   ]
  },
  {
   "cell_type": "code",
   "execution_count": 13,
   "id": "familiar-explosion",
   "metadata": {},
   "outputs": [],
   "source": [
    "model.compile(\n",
    "    optimizer=tf.keras.optimizers.Adam(0.001),\n",
    "    loss=tf.keras.losses.SparseCategoricalCrossentropy(from_logits=True),\n",
    "    metrics=['accuracy'],\n",
    ")"
   ]
  },
  {
   "cell_type": "markdown",
   "id": "postal-qualification",
   "metadata": {},
   "source": [
    "## Train"
   ]
  },
  {
   "cell_type": "code",
   "execution_count": 14,
   "id": "bigger-watch",
   "metadata": {},
   "outputs": [
    {
     "name": "stdout",
     "output_type": "stream",
     "text": [
      "Epoch 1/60\n",
      "469/469 [==============================] - 3s 3ms/step - loss: 0.6104 - accuracy: 0.8317 - val_loss: 0.1945 - val_accuracy: 0.9448\n",
      "Epoch 2/60\n",
      "469/469 [==============================] - 1s 1ms/step - loss: 0.1751 - accuracy: 0.9503 - val_loss: 0.1377 - val_accuracy: 0.9597\n",
      "Epoch 3/60\n",
      "469/469 [==============================] - 1s 1ms/step - loss: 0.1219 - accuracy: 0.9654 - val_loss: 0.1122 - val_accuracy: 0.9674\n",
      "Epoch 4/60\n",
      "469/469 [==============================] - 1s 1ms/step - loss: 0.0952 - accuracy: 0.9726 - val_loss: 0.0945 - val_accuracy: 0.9705\n",
      "Epoch 5/60\n",
      "469/469 [==============================] - 1s 1ms/step - loss: 0.0724 - accuracy: 0.9788 - val_loss: 0.0853 - val_accuracy: 0.9734\n",
      "Epoch 6/60\n",
      "469/469 [==============================] - 1s 1ms/step - loss: 0.0610 - accuracy: 0.9832 - val_loss: 0.0788 - val_accuracy: 0.9753\n",
      "Epoch 7/60\n",
      "469/469 [==============================] - 1s 1ms/step - loss: 0.0520 - accuracy: 0.9852 - val_loss: 0.0782 - val_accuracy: 0.9758\n",
      "Epoch 8/60\n",
      "469/469 [==============================] - 1s 1ms/step - loss: 0.0440 - accuracy: 0.9878 - val_loss: 0.0757 - val_accuracy: 0.9750\n",
      "Epoch 9/60\n",
      "469/469 [==============================] - 1s 1ms/step - loss: 0.0352 - accuracy: 0.9904 - val_loss: 0.0727 - val_accuracy: 0.9764\n",
      "Epoch 10/60\n",
      "469/469 [==============================] - 1s 1ms/step - loss: 0.0311 - accuracy: 0.9914 - val_loss: 0.0764 - val_accuracy: 0.9760\n",
      "Epoch 11/60\n",
      "469/469 [==============================] - 1s 1ms/step - loss: 0.0256 - accuracy: 0.9931 - val_loss: 0.0733 - val_accuracy: 0.9772\n",
      "Epoch 12/60\n",
      "469/469 [==============================] - 1s 1ms/step - loss: 0.0214 - accuracy: 0.9951 - val_loss: 0.0757 - val_accuracy: 0.9759\n",
      "Epoch 13/60\n",
      "469/469 [==============================] - 1s 1ms/step - loss: 0.0173 - accuracy: 0.9962 - val_loss: 0.0716 - val_accuracy: 0.9779\n",
      "Epoch 14/60\n",
      "469/469 [==============================] - 1s 1ms/step - loss: 0.0153 - accuracy: 0.9966 - val_loss: 0.0694 - val_accuracy: 0.9781\n",
      "Epoch 15/60\n",
      "469/469 [==============================] - 1s 1ms/step - loss: 0.0127 - accuracy: 0.9975 - val_loss: 0.0715 - val_accuracy: 0.9789\n",
      "Epoch 16/60\n",
      "469/469 [==============================] - 1s 1ms/step - loss: 0.0117 - accuracy: 0.9978 - val_loss: 0.0779 - val_accuracy: 0.9779\n",
      "Epoch 17/60\n",
      "469/469 [==============================] - 1s 1ms/step - loss: 0.0094 - accuracy: 0.9984 - val_loss: 0.0700 - val_accuracy: 0.9784\n",
      "Epoch 18/60\n",
      "469/469 [==============================] - 1s 1ms/step - loss: 0.0086 - accuracy: 0.9985 - val_loss: 0.0753 - val_accuracy: 0.9783\n",
      "Epoch 19/60\n",
      "469/469 [==============================] - 1s 1ms/step - loss: 0.0086 - accuracy: 0.9980 - val_loss: 0.0774 - val_accuracy: 0.9783\n",
      "Epoch 20/60\n",
      "469/469 [==============================] - 1s 1ms/step - loss: 0.0059 - accuracy: 0.9993 - val_loss: 0.0751 - val_accuracy: 0.9796\n",
      "Epoch 21/60\n",
      "469/469 [==============================] - 1s 1ms/step - loss: 0.0054 - accuracy: 0.9992 - val_loss: 0.0771 - val_accuracy: 0.9781\n",
      "Epoch 22/60\n",
      "469/469 [==============================] - 1s 1ms/step - loss: 0.0069 - accuracy: 0.9986 - val_loss: 0.0884 - val_accuracy: 0.9767\n",
      "Epoch 23/60\n",
      "469/469 [==============================] - 0s 989us/step - loss: 0.0046 - accuracy: 0.9993 - val_loss: 0.1006 - val_accuracy: 0.9747\n",
      "Epoch 24/60\n",
      "469/469 [==============================] - 1s 1ms/step - loss: 0.0056 - accuracy: 0.9990 - val_loss: 0.0873 - val_accuracy: 0.9781\n",
      "Epoch 25/60\n",
      "469/469 [==============================] - 1s 1ms/step - loss: 0.0037 - accuracy: 0.9995 - val_loss: 0.0832 - val_accuracy: 0.9794\n",
      "Epoch 26/60\n",
      "469/469 [==============================] - 1s 1ms/step - loss: 0.0020 - accuracy: 1.0000 - val_loss: 0.0892 - val_accuracy: 0.9775\n",
      "Epoch 27/60\n",
      "469/469 [==============================] - 1s 1ms/step - loss: 0.0025 - accuracy: 0.9996 - val_loss: 0.0865 - val_accuracy: 0.9786\n",
      "Epoch 28/60\n",
      "469/469 [==============================] - 1s 1ms/step - loss: 0.0038 - accuracy: 0.9992 - val_loss: 0.1021 - val_accuracy: 0.9754\n",
      "Epoch 29/60\n",
      "469/469 [==============================] - 1s 1ms/step - loss: 0.0073 - accuracy: 0.9980 - val_loss: 0.0880 - val_accuracy: 0.9799\n",
      "Epoch 30/60\n",
      "469/469 [==============================] - 0s 992us/step - loss: 0.0014 - accuracy: 0.9999 - val_loss: 0.0886 - val_accuracy: 0.9787\n",
      "Epoch 31/60\n",
      "469/469 [==============================] - 0s 981us/step - loss: 0.0012 - accuracy: 0.9999 - val_loss: 0.0863 - val_accuracy: 0.9797\n",
      "Epoch 32/60\n",
      "469/469 [==============================] - 1s 1ms/step - loss: 6.4646e-04 - accuracy: 1.0000 - val_loss: 0.0869 - val_accuracy: 0.9800\n",
      "Epoch 33/60\n",
      "469/469 [==============================] - 0s 1ms/step - loss: 0.0032 - accuracy: 0.9992 - val_loss: 0.0998 - val_accuracy: 0.9768\n",
      "Epoch 34/60\n",
      "469/469 [==============================] - 1s 1ms/step - loss: 0.0051 - accuracy: 0.9986 - val_loss: 0.0934 - val_accuracy: 0.9786\n",
      "Epoch 35/60\n",
      "469/469 [==============================] - 1s 1ms/step - loss: 9.6738e-04 - accuracy: 1.0000 - val_loss: 0.0914 - val_accuracy: 0.9785\n",
      "Epoch 36/60\n",
      "469/469 [==============================] - 0s 988us/step - loss: 5.1687e-04 - accuracy: 1.0000 - val_loss: 0.0907 - val_accuracy: 0.9796\n",
      "Epoch 37/60\n",
      "469/469 [==============================] - 1s 1ms/step - loss: 4.2776e-04 - accuracy: 1.0000 - val_loss: 0.0919 - val_accuracy: 0.9795\n",
      "Epoch 38/60\n",
      "469/469 [==============================] - 1s 1ms/step - loss: 3.6286e-04 - accuracy: 1.0000 - val_loss: 0.0917 - val_accuracy: 0.9796\n",
      "Epoch 39/60\n",
      "469/469 [==============================] - 1s 1ms/step - loss: 3.2482e-04 - accuracy: 1.0000 - val_loss: 0.0937 - val_accuracy: 0.9792\n",
      "Epoch 40/60\n",
      "469/469 [==============================] - 1s 1ms/step - loss: 2.9355e-04 - accuracy: 1.0000 - val_loss: 0.0935 - val_accuracy: 0.9794\n",
      "Epoch 41/60\n",
      "469/469 [==============================] - 1s 1ms/step - loss: 2.8331e-04 - accuracy: 1.0000 - val_loss: 0.0937 - val_accuracy: 0.9796\n",
      "Epoch 42/60\n",
      "469/469 [==============================] - 0s 999us/step - loss: 0.0025 - accuracy: 0.9993 - val_loss: 0.1128 - val_accuracy: 0.9772\n",
      "Epoch 43/60\n",
      "469/469 [==============================] - 1s 1ms/step - loss: 0.0077 - accuracy: 0.9972 - val_loss: 0.1030 - val_accuracy: 0.9791\n",
      "Epoch 44/60\n",
      "469/469 [==============================] - 1s 1ms/step - loss: 0.0016 - accuracy: 0.9997 - val_loss: 0.0985 - val_accuracy: 0.9790\n",
      "Epoch 45/60\n",
      "469/469 [==============================] - 0s 996us/step - loss: 4.3842e-04 - accuracy: 1.0000 - val_loss: 0.1008 - val_accuracy: 0.9787\n",
      "Epoch 46/60\n",
      "469/469 [==============================] - 1s 1ms/step - loss: 2.8157e-04 - accuracy: 1.0000 - val_loss: 0.1007 - val_accuracy: 0.9793\n",
      "Epoch 47/60\n",
      "469/469 [==============================] - 1s 1ms/step - loss: 2.2435e-04 - accuracy: 1.0000 - val_loss: 0.1015 - val_accuracy: 0.9788\n",
      "Epoch 48/60\n",
      "469/469 [==============================] - 0s 996us/step - loss: 1.9460e-04 - accuracy: 1.0000 - val_loss: 0.1008 - val_accuracy: 0.9787\n",
      "Epoch 49/60\n",
      "469/469 [==============================] - 0s 976us/step - loss: 1.7564e-04 - accuracy: 1.0000 - val_loss: 0.1027 - val_accuracy: 0.9790\n",
      "Epoch 50/60\n",
      "469/469 [==============================] - 0s 986us/step - loss: 1.5282e-04 - accuracy: 1.0000 - val_loss: 0.1024 - val_accuracy: 0.9794\n",
      "Epoch 51/60\n",
      "469/469 [==============================] - 0s 995us/step - loss: 1.4981e-04 - accuracy: 1.0000 - val_loss: 0.1030 - val_accuracy: 0.9794\n",
      "Epoch 52/60\n",
      "469/469 [==============================] - 1s 1ms/step - loss: 1.3187e-04 - accuracy: 1.0000 - val_loss: 0.1136 - val_accuracy: 0.9773\n",
      "Epoch 53/60\n",
      "469/469 [==============================] - 1s 1ms/step - loss: 0.0203 - accuracy: 0.9937 - val_loss: 0.1157 - val_accuracy: 0.9783\n",
      "Epoch 54/60\n",
      "469/469 [==============================] - 1s 1ms/step - loss: 0.0019 - accuracy: 0.9994 - val_loss: 0.1113 - val_accuracy: 0.9781\n",
      "Epoch 55/60\n",
      "469/469 [==============================] - 0s 1ms/step - loss: 4.8797e-04 - accuracy: 0.9999 - val_loss: 0.1041 - val_accuracy: 0.9793\n",
      "Epoch 56/60\n",
      "469/469 [==============================] - 0s 996us/step - loss: 2.0237e-04 - accuracy: 1.0000 - val_loss: 0.1056 - val_accuracy: 0.9797\n",
      "Epoch 57/60\n",
      "469/469 [==============================] - 1s 1ms/step - loss: 1.5681e-04 - accuracy: 1.0000 - val_loss: 0.1059 - val_accuracy: 0.9798\n",
      "Epoch 58/60\n",
      "469/469 [==============================] - 1s 1ms/step - loss: 1.3915e-04 - accuracy: 1.0000 - val_loss: 0.1074 - val_accuracy: 0.9793\n",
      "Epoch 59/60\n",
      "469/469 [==============================] - 0s 993us/step - loss: 1.2743e-04 - accuracy: 1.0000 - val_loss: 0.1082 - val_accuracy: 0.9797\n",
      "Epoch 60/60\n",
      "469/469 [==============================] - 0s 990us/step - loss: 1.1365e-04 - accuracy: 1.0000 - val_loss: 0.1082 - val_accuracy: 0.9800\n"
     ]
    }
   ],
   "source": [
    "history = model.fit(\n",
    "    ds_train,\n",
    "    epochs=60,\n",
    "    validation_data=ds_test\n",
    ")"
   ]
  },
  {
   "cell_type": "markdown",
   "id": "approved-substitute",
   "metadata": {},
   "source": [
    "## Visualize Training Result"
   ]
  },
  {
   "cell_type": "code",
   "execution_count": 15,
   "id": "muslim-radio",
   "metadata": {},
   "outputs": [
    {
     "data": {
      "image/png": "[encoded data removed]",
      "text/plain": [
       "<Figure size 432x288 with 4 Axes>"
      ]
     },
     "metadata": {
      "needs_background": "light"
     },
     "output_type": "display_data"
    }
   ],
   "source": [
    "show_acc.plot(history)"
   ]
  },
  {
   "cell_type": "markdown",
   "id": "described-creator",
   "metadata": {},
   "source": [
    "其实可以看出，10个epoch后就开始过拟合了。"
   ]
  },
  {
   "cell_type": "markdown",
   "id": "prospective-heading",
   "metadata": {},
   "source": [
    "## 添加Dropout层\n",
    "减少过拟合"
   ]
  },
  {
   "cell_type": "code",
   "execution_count": 16,
   "id": "architectural-option",
   "metadata": {},
   "outputs": [
    {
     "name": "stdout",
     "output_type": "stream",
     "text": [
      "Epoch 1/60\n",
      "469/469 [==============================] - 1s 2ms/step - loss: 0.7372 - accuracy: 0.7790 - val_loss: 0.1998 - val_accuracy: 0.9437\n",
      "Epoch 2/60\n",
      "469/469 [==============================] - 1s 1ms/step - loss: 0.2544 - accuracy: 0.9262 - val_loss: 0.1461 - val_accuracy: 0.9560\n",
      "Epoch 3/60\n",
      "469/469 [==============================] - 1s 1ms/step - loss: 0.1935 - accuracy: 0.9421 - val_loss: 0.1146 - val_accuracy: 0.9671\n",
      "Epoch 4/60\n",
      "469/469 [==============================] - 1s 1ms/step - loss: 0.1558 - accuracy: 0.9530 - val_loss: 0.1017 - val_accuracy: 0.9688\n",
      "Epoch 5/60\n",
      "469/469 [==============================] - 1s 1ms/step - loss: 0.1352 - accuracy: 0.9598 - val_loss: 0.0867 - val_accuracy: 0.9746\n",
      "Epoch 6/60\n",
      "469/469 [==============================] - 1s 1ms/step - loss: 0.1220 - accuracy: 0.9624 - val_loss: 0.0838 - val_accuracy: 0.9743\n",
      "Epoch 7/60\n",
      "469/469 [==============================] - 1s 1ms/step - loss: 0.1094 - accuracy: 0.9665 - val_loss: 0.0803 - val_accuracy: 0.9755\n",
      "Epoch 8/60\n",
      "469/469 [==============================] - 1s 1ms/step - loss: 0.1012 - accuracy: 0.9678 - val_loss: 0.0721 - val_accuracy: 0.9785\n",
      "Epoch 9/60\n",
      "469/469 [==============================] - 1s 1ms/step - loss: 0.0957 - accuracy: 0.9701 - val_loss: 0.0730 - val_accuracy: 0.9773\n",
      "Epoch 10/60\n",
      "469/469 [==============================] - 1s 1ms/step - loss: 0.0900 - accuracy: 0.9715 - val_loss: 0.0667 - val_accuracy: 0.9799\n",
      "Epoch 11/60\n",
      "469/469 [==============================] - 1s 1ms/step - loss: 0.0844 - accuracy: 0.9731 - val_loss: 0.0654 - val_accuracy: 0.9799\n",
      "Epoch 12/60\n",
      "469/469 [==============================] - 1s 1ms/step - loss: 0.0818 - accuracy: 0.9733 - val_loss: 0.0642 - val_accuracy: 0.9804\n",
      "Epoch 13/60\n",
      "469/469 [==============================] - 1s 1ms/step - loss: 0.0801 - accuracy: 0.9750 - val_loss: 0.0608 - val_accuracy: 0.9817\n",
      "Epoch 14/60\n",
      "469/469 [==============================] - 1s 1ms/step - loss: 0.0743 - accuracy: 0.9757 - val_loss: 0.0614 - val_accuracy: 0.9802\n",
      "Epoch 15/60\n",
      "469/469 [==============================] - 1s 1ms/step - loss: 0.0706 - accuracy: 0.9778 - val_loss: 0.0608 - val_accuracy: 0.9794\n",
      "Epoch 16/60\n",
      "469/469 [==============================] - 1s 1ms/step - loss: 0.0673 - accuracy: 0.9786 - val_loss: 0.0582 - val_accuracy: 0.9828\n",
      "Epoch 17/60\n",
      "469/469 [==============================] - 1s 1ms/step - loss: 0.0703 - accuracy: 0.9773 - val_loss: 0.0605 - val_accuracy: 0.9818\n",
      "Epoch 18/60\n",
      "469/469 [==============================] - 1s 1ms/step - loss: 0.0660 - accuracy: 0.9788 - val_loss: 0.0600 - val_accuracy: 0.9831\n",
      "Epoch 19/60\n",
      "469/469 [==============================] - 1s 1ms/step - loss: 0.0607 - accuracy: 0.9799 - val_loss: 0.0605 - val_accuracy: 0.9813\n",
      "Epoch 20/60\n",
      "469/469 [==============================] - 1s 1ms/step - loss: 0.0612 - accuracy: 0.9802 - val_loss: 0.0595 - val_accuracy: 0.9831\n",
      "Epoch 21/60\n",
      "469/469 [==============================] - 1s 1ms/step - loss: 0.0637 - accuracy: 0.9795 - val_loss: 0.0576 - val_accuracy: 0.9832\n",
      "Epoch 22/60\n",
      "469/469 [==============================] - 1s 1ms/step - loss: 0.0582 - accuracy: 0.9806 - val_loss: 0.0589 - val_accuracy: 0.9828\n",
      "Epoch 23/60\n",
      "469/469 [==============================] - 1s 1ms/step - loss: 0.0550 - accuracy: 0.9813 - val_loss: 0.0594 - val_accuracy: 0.9831\n",
      "Epoch 24/60\n",
      "469/469 [==============================] - 1s 1ms/step - loss: 0.0582 - accuracy: 0.9800 - val_loss: 0.0615 - val_accuracy: 0.9832\n",
      "Epoch 25/60\n",
      "469/469 [==============================] - 1s 1ms/step - loss: 0.0563 - accuracy: 0.9811 - val_loss: 0.0570 - val_accuracy: 0.9829\n",
      "Epoch 26/60\n",
      "469/469 [==============================] - 1s 1ms/step - loss: 0.0563 - accuracy: 0.9815 - val_loss: 0.0567 - val_accuracy: 0.9834\n",
      "Epoch 27/60\n",
      "469/469 [==============================] - 1s 1ms/step - loss: 0.0497 - accuracy: 0.9831 - val_loss: 0.0581 - val_accuracy: 0.9833\n",
      "Epoch 28/60\n",
      "469/469 [==============================] - 1s 1ms/step - loss: 0.0514 - accuracy: 0.9826 - val_loss: 0.0584 - val_accuracy: 0.9836\n",
      "Epoch 29/60\n",
      "469/469 [==============================] - 1s 1ms/step - loss: 0.0533 - accuracy: 0.9813 - val_loss: 0.0597 - val_accuracy: 0.9834\n",
      "Epoch 30/60\n",
      "469/469 [==============================] - 1s 1ms/step - loss: 0.0510 - accuracy: 0.9826 - val_loss: 0.0582 - val_accuracy: 0.9837\n",
      "Epoch 31/60\n",
      "469/469 [==============================] - 1s 1ms/step - loss: 0.0503 - accuracy: 0.9829 - val_loss: 0.0586 - val_accuracy: 0.9836\n",
      "Epoch 32/60\n",
      "469/469 [==============================] - 1s 1ms/step - loss: 0.0513 - accuracy: 0.9825 - val_loss: 0.0591 - val_accuracy: 0.9843\n",
      "Epoch 33/60\n",
      "469/469 [==============================] - 1s 1ms/step - loss: 0.0515 - accuracy: 0.9827 - val_loss: 0.0579 - val_accuracy: 0.9834\n",
      "Epoch 34/60\n",
      "469/469 [==============================] - 1s 1ms/step - loss: 0.0456 - accuracy: 0.9845 - val_loss: 0.0580 - val_accuracy: 0.9836\n",
      "Epoch 35/60\n",
      "469/469 [==============================] - 1s 2ms/step - loss: 0.0504 - accuracy: 0.9834 - val_loss: 0.0568 - val_accuracy: 0.9831\n",
      "Epoch 36/60\n",
      "469/469 [==============================] - 1s 1ms/step - loss: 0.0475 - accuracy: 0.9837 - val_loss: 0.0555 - val_accuracy: 0.9846\n",
      "Epoch 37/60\n",
      "469/469 [==============================] - 1s 1ms/step - loss: 0.0470 - accuracy: 0.9837 - val_loss: 0.0608 - val_accuracy: 0.9839\n",
      "Epoch 38/60\n",
      "469/469 [==============================] - 1s 1ms/step - loss: 0.0456 - accuracy: 0.9847 - val_loss: 0.0599 - val_accuracy: 0.9843\n",
      "Epoch 39/60\n",
      "469/469 [==============================] - 1s 1ms/step - loss: 0.0476 - accuracy: 0.9839 - val_loss: 0.0620 - val_accuracy: 0.9834\n",
      "Epoch 40/60\n",
      "469/469 [==============================] - 1s 1ms/step - loss: 0.0483 - accuracy: 0.9839 - val_loss: 0.0610 - val_accuracy: 0.9838\n",
      "Epoch 41/60\n",
      "469/469 [==============================] - 1s 1ms/step - loss: 0.0440 - accuracy: 0.9856 - val_loss: 0.0592 - val_accuracy: 0.9844\n",
      "Epoch 42/60\n",
      "469/469 [==============================] - 1s 1ms/step - loss: 0.0447 - accuracy: 0.9850 - val_loss: 0.0594 - val_accuracy: 0.9840\n",
      "Epoch 43/60\n",
      "469/469 [==============================] - 1s 1ms/step - loss: 0.0449 - accuracy: 0.9851 - val_loss: 0.0615 - val_accuracy: 0.9836\n",
      "Epoch 44/60\n",
      "469/469 [==============================] - 1s 2ms/step - loss: 0.0435 - accuracy: 0.9858 - val_loss: 0.0595 - val_accuracy: 0.9838\n",
      "Epoch 45/60\n",
      "469/469 [==============================] - 1s 1ms/step - loss: 0.0448 - accuracy: 0.9845 - val_loss: 0.0582 - val_accuracy: 0.9839\n",
      "Epoch 46/60\n",
      "469/469 [==============================] - 1s 1ms/step - loss: 0.0433 - accuracy: 0.9857 - val_loss: 0.0584 - val_accuracy: 0.9842\n",
      "Epoch 47/60\n",
      "469/469 [==============================] - 1s 1ms/step - loss: 0.0437 - accuracy: 0.9855 - val_loss: 0.0614 - val_accuracy: 0.9833\n",
      "Epoch 48/60\n",
      "469/469 [==============================] - 1s 1ms/step - loss: 0.0452 - accuracy: 0.9845 - val_loss: 0.0590 - val_accuracy: 0.9837\n",
      "Epoch 49/60\n",
      "469/469 [==============================] - 1s 1ms/step - loss: 0.0398 - accuracy: 0.9868 - val_loss: 0.0634 - val_accuracy: 0.9824\n",
      "Epoch 50/60\n",
      "469/469 [==============================] - 1s 1ms/step - loss: 0.0416 - accuracy: 0.9851 - val_loss: 0.0634 - val_accuracy: 0.9840\n",
      "Epoch 51/60\n",
      "469/469 [==============================] - 1s 1ms/step - loss: 0.0417 - accuracy: 0.9857 - val_loss: 0.0614 - val_accuracy: 0.9837\n",
      "Epoch 52/60\n",
      "469/469 [==============================] - 1s 1ms/step - loss: 0.0423 - accuracy: 0.9858 - val_loss: 0.0622 - val_accuracy: 0.9840\n",
      "Epoch 53/60\n",
      "469/469 [==============================] - 1s 1ms/step - loss: 0.0412 - accuracy: 0.9859 - val_loss: 0.0650 - val_accuracy: 0.9831\n",
      "Epoch 54/60\n",
      "469/469 [==============================] - 1s 1ms/step - loss: 0.0417 - accuracy: 0.9861 - val_loss: 0.0630 - val_accuracy: 0.9836\n",
      "Epoch 55/60\n",
      "469/469 [==============================] - 1s 1ms/step - loss: 0.0403 - accuracy: 0.9871 - val_loss: 0.0613 - val_accuracy: 0.9841\n",
      "Epoch 56/60\n",
      "469/469 [==============================] - 1s 1ms/step - loss: 0.0419 - accuracy: 0.9862 - val_loss: 0.0626 - val_accuracy: 0.9833\n",
      "Epoch 57/60\n",
      "469/469 [==============================] - 1s 1ms/step - loss: 0.0401 - accuracy: 0.9860 - val_loss: 0.0638 - val_accuracy: 0.9831\n",
      "Epoch 58/60\n",
      "469/469 [==============================] - 1s 1ms/step - loss: 0.0434 - accuracy: 0.9851 - val_loss: 0.0610 - val_accuracy: 0.9854\n",
      "Epoch 59/60\n",
      "469/469 [==============================] - 1s 1ms/step - loss: 0.0400 - accuracy: 0.9865 - val_loss: 0.0657 - val_accuracy: 0.9831\n",
      "Epoch 60/60\n",
      "469/469 [==============================] - 1s 1ms/step - loss: 0.0375 - accuracy: 0.9862 - val_loss: 0.0604 - val_accuracy: 0.9849\n"
     ]
    }
   ],
   "source": [
    "model2 = tf.keras.models.Sequential([\n",
    "    tf.keras.layers.Flatten(input_shape=(IMG_HEIGHT, IMG_WIDTH)),\n",
    "    tf.keras.layers.Dropout(0.2),\n",
    "    tf.keras.layers.Dense(128, activation='relu'),\n",
    "    tf.keras.layers.Dropout(0.2),\n",
    "    tf.keras.layers.Dense(10)\n",
    "])\n",
    "\n",
    "model2.compile(\n",
    "    optimizer=tf.keras.optimizers.Adam(0.001),\n",
    "    loss=tf.keras.losses.SparseCategoricalCrossentropy(from_logits=True),\n",
    "    metrics=['accuracy'],\n",
    ")\n",
    "\n",
    "history2 = model2.fit(\n",
    "    ds_train,\n",
    "    epochs=60,\n",
    "    validation_data=ds_test,\n",
    ")"
   ]
  },
  {
   "cell_type": "code",
   "execution_count": 17,
   "id": "entitled-curtis",
   "metadata": {},
   "outputs": [
    {
     "data": {
      "image/png": "[encoded data removed]",
      "text/plain": [
       "<Figure size 432x288 with 4 Axes>"
      ]
     },
     "metadata": {
      "needs_background": "light"
     },
     "output_type": "display_data"
    }
   ],
   "source": [
    "show_acc.plot(history2)"
   ]
  },
  {
   "cell_type": "markdown",
   "id": "empty-quantum",
   "metadata": {},
   "source": [
    "## 拿张图片试试\n",
    "我们从网上找一个数据集之外的图片看看"
   ]
  },
  {
   "cell_type": "code",
   "execution_count": 18,
   "id": "higher-affiliate",
   "metadata": {},
   "outputs": [
    {
     "data": {
      "image/png": "[encoded data removed]",
      "text/plain": [
       "<Figure size 432x288 with 1 Axes>"
      ]
     },
     "metadata": {
      "needs_background": "light"
     },
     "output_type": "display_data"
    },
    {
     "data": {
      "image/png": "[encoded data removed]",
      "text/plain": [
       "<Figure size 432x288 with 1 Axes>"
      ]
     },
     "metadata": {
      "needs_background": "light"
     },
     "output_type": "display_data"
    }
   ],
   "source": [
    "sunflower_url = \"https://gimg2.baidu.com/image_search/src=http%3A%2F%2Fbpic.588ku.com%2Felement_origin_min_pic%2F18%2F06%2F09%2F45fb84189924b2e6695f494ab9e2df89.jpg&refer=http%3A%2F%2Fbpic.588ku.com&app=2002&size=f9999,10000&q=a80&n=0&g=0n&fmt=jpeg?sec=1615431034&t=3c1aaed9443c89ef8594d689eac0e5bc\"\n",
    "sunflower_path = tf.keras.utils.get_file('Red_sunflower', origin=sunflower_url)\n",
    "\n",
    "img_origin = tf.keras.preprocessing.image.load_img(sunflower_path)\n",
    "plt.imshow(img_origin, interpolation='nearest')\n",
    "plt.show()\n",
    "\n",
    "img = tf.keras.preprocessing.image.load_img(\n",
    "    sunflower_path, target_size=(IMG_HEIGHT, IMG_WIDTH), color_mode=\"grayscale\"\n",
    ")\n",
    "plt.imshow(img, interpolation='nearest', cmap=\"gray\")\n",
    "plt.show()"
   ]
  },
  {
   "cell_type": "markdown",
   "id": "following-sustainability",
   "metadata": {},
   "source": [
    "需要注意的是，这里的格式和我们的训练集是完全相反的，训练集的数字主体是非0值（白色），背景是0（黑色）。虽然我们人一眼就能看出这是5（因为黑色白色对我们没影响，我们是根据空间结构判断的），但是对于机器来说这个input的特征和训练时遇到的5基本没啥相似点，很大可能会识别为别的数字（我试了，它认为这个是铁7）。所以我们需要对这个图片预处理一下，让其符合我们模型的输入分布。"
   ]
  },
  {
   "cell_type": "code",
   "execution_count": 19,
   "id": "possible-steal",
   "metadata": {},
   "outputs": [
    {
     "data": {
      "image/png": "[encoded data removed]",
      "text/plain": [
       "<Figure size 432x288 with 1 Axes>"
      ]
     },
     "metadata": {
      "needs_background": "light"
     },
     "output_type": "display_data"
    }
   ],
   "source": [
    "img_fixed = PIL.ImageOps.invert(img)\n",
    "plt.imshow(img_fixed, interpolation='nearest', cmap=\"gray\")\n",
    "plt.show()"
   ]
  },
  {
   "cell_type": "markdown",
   "id": "helpful-librarian",
   "metadata": {},
   "source": [
    "是骡子是马，拉出来溜溜！"
   ]
  },
  {
   "cell_type": "code",
   "execution_count": 20,
   "id": "crucial-while",
   "metadata": {},
   "outputs": [
    {
     "name": "stdout",
     "output_type": "stream",
     "text": [
      "This image most likely belongs to 5 with a 100.00 percent confidence.\n"
     ]
    }
   ],
   "source": [
    "img_array = tf.keras.preprocessing.image.img_to_array(img_fixed)\n",
    "img_array = tf.expand_dims(img_array, 0)\n",
    "predictions = model2.predict(img_array)\n",
    "score = tf.nn.softmax(predictions[0])\n",
    "class_names = list(range(10))\n",
    "print(\n",
    "    \"This image most likely belongs to {} with a {:.2f} percent confidence.\"\n",
    "        .format(class_names[np.argmax(score)], 100 * np.max(score))\n",
    ")"
   ]
  },
  {
   "cell_type": "markdown",
   "id": "dimensional-beaver",
   "metadata": {},
   "source": [
    "✌️"
   ]
  }
 ],
 "metadata": {
  "kernelspec": {
   "display_name": "Python 3",
   "language": "python",
   "name": "python3"
  },
  "language_info": {
   "codemirror_mode": {
    "name": "ipython",
    "version": 3
   },
   "file_extension": ".py",
   "mimetype": "text/x-python",
   "name": "python",
   "nbconvert_exporter": "python",
   "pygments_lexer": "ipython3",
   "version": "3.8.0"
  }
 },
 "nbformat": 4,
 "nbformat_minor": 5
}
