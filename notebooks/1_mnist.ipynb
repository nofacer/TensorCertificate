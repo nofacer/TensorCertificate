{
  "nbformat": 4,
  "nbformat_minor": 5,
  "metadata": {
    "kernelspec": {
      "display_name": "Python 3",
      "language": "python",
      "name": "python3"
    },
    "language_info": {
      "codemirror_mode": {
        "name": "ipython",
        "version": 3
      },
      "file_extension": ".py",
      "mimetype": "text/x-python",
      "name": "python",
      "nbconvert_exporter": "python",
      "pygments_lexer": "ipython3",
      "version": "3.8.0"
    },
    "colab": {
      "name": "1_mnist.ipynb",
      "provenance": []
    },
    "accelerator": "GPU"
  },
  "cells": [
    {
      "cell_type": "code",
      "metadata": {
        "colab": {
          "base_uri": "https://localhost:8080/"
        },
        "id": "4C_8GFEMElbO",
        "outputId": "92e1af6f-7f8c-4d4a-82ed-b848af33ebb9"
      },
      "source": [
        "! pip install tensorflow_history_plot"
      ],
      "id": "4C_8GFEMElbO",
      "execution_count": 1,
      "outputs": [
        {
          "output_type": "stream",
          "text": [
            "Requirement already satisfied: tensorflow_history_plot in /usr/local/lib/python3.7/dist-packages (0.1.2)\n",
            "Requirement already satisfied: numpy in /usr/local/lib/python3.7/dist-packages (from tensorflow_history_plot) (1.19.5)\n",
            "Requirement already satisfied: tensorflow in /usr/local/lib/python3.7/dist-packages (from tensorflow_history_plot) (2.4.1)\n",
            "Requirement already satisfied: matplotlib in /usr/local/lib/python3.7/dist-packages (from tensorflow_history_plot) (3.2.2)\n",
            "Requirement already satisfied: h5py~=2.10.0 in /usr/local/lib/python3.7/dist-packages (from tensorflow->tensorflow_history_plot) (2.10.0)\n",
            "Requirement already satisfied: six~=1.15.0 in /usr/local/lib/python3.7/dist-packages (from tensorflow->tensorflow_history_plot) (1.15.0)\n",
            "Requirement already satisfied: protobuf>=3.9.2 in /usr/local/lib/python3.7/dist-packages (from tensorflow->tensorflow_history_plot) (3.12.4)\n",
            "Requirement already satisfied: typing-extensions~=3.7.4 in /usr/local/lib/python3.7/dist-packages (from tensorflow->tensorflow_history_plot) (3.7.4.3)\n",
            "Requirement already satisfied: google-pasta~=0.2 in /usr/local/lib/python3.7/dist-packages (from tensorflow->tensorflow_history_plot) (0.2.0)\n",
            "Requirement already satisfied: absl-py~=0.10 in /usr/local/lib/python3.7/dist-packages (from tensorflow->tensorflow_history_plot) (0.10.0)\n",
            "Requirement already satisfied: grpcio~=1.32.0 in /usr/local/lib/python3.7/dist-packages (from tensorflow->tensorflow_history_plot) (1.32.0)\n",
            "Requirement already satisfied: tensorboard~=2.4 in /usr/local/lib/python3.7/dist-packages (from tensorflow->tensorflow_history_plot) (2.4.1)\n",
            "Requirement already satisfied: termcolor~=1.1.0 in /usr/local/lib/python3.7/dist-packages (from tensorflow->tensorflow_history_plot) (1.1.0)\n",
            "Requirement already satisfied: flatbuffers~=1.12.0 in /usr/local/lib/python3.7/dist-packages (from tensorflow->tensorflow_history_plot) (1.12)\n",
            "Requirement already satisfied: keras-preprocessing~=1.1.2 in /usr/local/lib/python3.7/dist-packages (from tensorflow->tensorflow_history_plot) (1.1.2)\n",
            "Requirement already satisfied: gast==0.3.3 in /usr/local/lib/python3.7/dist-packages (from tensorflow->tensorflow_history_plot) (0.3.3)\n",
            "Requirement already satisfied: wheel~=0.35 in /usr/local/lib/python3.7/dist-packages (from tensorflow->tensorflow_history_plot) (0.36.2)\n",
            "Requirement already satisfied: tensorflow-estimator<2.5.0,>=2.4.0 in /usr/local/lib/python3.7/dist-packages (from tensorflow->tensorflow_history_plot) (2.4.0)\n",
            "Requirement already satisfied: wrapt~=1.12.1 in /usr/local/lib/python3.7/dist-packages (from tensorflow->tensorflow_history_plot) (1.12.1)\n",
            "Requirement already satisfied: opt-einsum~=3.3.0 in /usr/local/lib/python3.7/dist-packages (from tensorflow->tensorflow_history_plot) (3.3.0)\n",
            "Requirement already satisfied: astunparse~=1.6.3 in /usr/local/lib/python3.7/dist-packages (from tensorflow->tensorflow_history_plot) (1.6.3)\n",
            "Requirement already satisfied: python-dateutil>=2.1 in /usr/local/lib/python3.7/dist-packages (from matplotlib->tensorflow_history_plot) (2.8.1)\n",
            "Requirement already satisfied: cycler>=0.10 in /usr/local/lib/python3.7/dist-packages (from matplotlib->tensorflow_history_plot) (0.10.0)\n",
            "Requirement already satisfied: pyparsing!=2.0.4,!=2.1.2,!=2.1.6,>=2.0.1 in /usr/local/lib/python3.7/dist-packages (from matplotlib->tensorflow_history_plot) (2.4.7)\n",
            "Requirement already satisfied: kiwisolver>=1.0.1 in /usr/local/lib/python3.7/dist-packages (from matplotlib->tensorflow_history_plot) (1.3.1)\n",
            "Requirement already satisfied: setuptools in /usr/local/lib/python3.7/dist-packages (from protobuf>=3.9.2->tensorflow->tensorflow_history_plot) (53.0.0)\n",
            "Requirement already satisfied: werkzeug>=0.11.15 in /usr/local/lib/python3.7/dist-packages (from tensorboard~=2.4->tensorflow->tensorflow_history_plot) (1.0.1)\n",
            "Requirement already satisfied: tensorboard-plugin-wit>=1.6.0 in /usr/local/lib/python3.7/dist-packages (from tensorboard~=2.4->tensorflow->tensorflow_history_plot) (1.8.0)\n",
            "Requirement already satisfied: markdown>=2.6.8 in /usr/local/lib/python3.7/dist-packages (from tensorboard~=2.4->tensorflow->tensorflow_history_plot) (3.3.4)\n",
            "Requirement already satisfied: requests<3,>=2.21.0 in /usr/local/lib/python3.7/dist-packages (from tensorboard~=2.4->tensorflow->tensorflow_history_plot) (2.23.0)\n",
            "Requirement already satisfied: google-auth<2,>=1.6.3 in /usr/local/lib/python3.7/dist-packages (from tensorboard~=2.4->tensorflow->tensorflow_history_plot) (1.27.0)\n",
            "Requirement already satisfied: google-auth-oauthlib<0.5,>=0.4.1 in /usr/local/lib/python3.7/dist-packages (from tensorboard~=2.4->tensorflow->tensorflow_history_plot) (0.4.2)\n",
            "Requirement already satisfied: importlib-metadata; python_version < \"3.8\" in /usr/local/lib/python3.7/dist-packages (from markdown>=2.6.8->tensorboard~=2.4->tensorflow->tensorflow_history_plot) (3.7.0)\n",
            "Requirement already satisfied: certifi>=2017.4.17 in /usr/local/lib/python3.7/dist-packages (from requests<3,>=2.21.0->tensorboard~=2.4->tensorflow->tensorflow_history_plot) (2020.12.5)\n",
            "Requirement already satisfied: idna<3,>=2.5 in /usr/local/lib/python3.7/dist-packages (from requests<3,>=2.21.0->tensorboard~=2.4->tensorflow->tensorflow_history_plot) (2.10)\n",
            "Requirement already satisfied: chardet<4,>=3.0.2 in /usr/local/lib/python3.7/dist-packages (from requests<3,>=2.21.0->tensorboard~=2.4->tensorflow->tensorflow_history_plot) (3.0.4)\n",
            "Requirement already satisfied: urllib3!=1.25.0,!=1.25.1,<1.26,>=1.21.1 in /usr/local/lib/python3.7/dist-packages (from requests<3,>=2.21.0->tensorboard~=2.4->tensorflow->tensorflow_history_plot) (1.24.3)\n",
            "Requirement already satisfied: pyasn1-modules>=0.2.1 in /usr/local/lib/python3.7/dist-packages (from google-auth<2,>=1.6.3->tensorboard~=2.4->tensorflow->tensorflow_history_plot) (0.2.8)\n",
            "Requirement already satisfied: rsa<5,>=3.1.4; python_version >= \"3.6\" in /usr/local/lib/python3.7/dist-packages (from google-auth<2,>=1.6.3->tensorboard~=2.4->tensorflow->tensorflow_history_plot) (4.7.2)\n",
            "Requirement already satisfied: cachetools<5.0,>=2.0.0 in /usr/local/lib/python3.7/dist-packages (from google-auth<2,>=1.6.3->tensorboard~=2.4->tensorflow->tensorflow_history_plot) (4.2.1)\n",
            "Requirement already satisfied: requests-oauthlib>=0.7.0 in /usr/local/lib/python3.7/dist-packages (from google-auth-oauthlib<0.5,>=0.4.1->tensorboard~=2.4->tensorflow->tensorflow_history_plot) (1.3.0)\n",
            "Requirement already satisfied: zipp>=0.5 in /usr/local/lib/python3.7/dist-packages (from importlib-metadata; python_version < \"3.8\"->markdown>=2.6.8->tensorboard~=2.4->tensorflow->tensorflow_history_plot) (3.4.0)\n",
            "Requirement already satisfied: pyasn1<0.5.0,>=0.4.6 in /usr/local/lib/python3.7/dist-packages (from pyasn1-modules>=0.2.1->google-auth<2,>=1.6.3->tensorboard~=2.4->tensorflow->tensorflow_history_plot) (0.4.8)\n",
            "Requirement already satisfied: oauthlib>=3.0.0 in /usr/local/lib/python3.7/dist-packages (from requests-oauthlib>=0.7.0->google-auth-oauthlib<0.5,>=0.4.1->tensorboard~=2.4->tensorflow->tensorflow_history_plot) (3.1.0)\n"
          ],
          "name": "stdout"
        }
      ]
    },
    {
      "cell_type": "code",
      "metadata": {
        "id": "close-impression"
      },
      "source": [
        "import tensorflow as tf\n",
        "import tensorflow_datasets as tfds\n",
        "import numpy as np\n",
        "import matplotlib.pyplot as plt\n",
        "import PIL.ImageOps\n",
        "from tensorflow_history_plot import show_acc"
      ],
      "id": "close-impression",
      "execution_count": 2,
      "outputs": []
    },
    {
      "cell_type": "code",
      "metadata": {
        "id": "closing-armenia"
      },
      "source": [
        "gpus = tf.config.experimental.list_physical_devices('GPU')\n",
        "if gpus:\n",
        "    try:\n",
        "        tf.config.experimental.set_visible_devices(gpus[0], 'GPU')\n",
        "    except RuntimeError as e:\n",
        "        print(e)"
      ],
      "id": "closing-armenia",
      "execution_count": 3,
      "outputs": []
    },
    {
      "cell_type": "markdown",
      "metadata": {
        "id": "south-earth"
      },
      "source": [
        "## Load Dataset"
      ],
      "id": "south-earth"
    },
    {
      "cell_type": "code",
      "metadata": {
        "id": "comic-material"
      },
      "source": [
        "(ds_train, ds_test), ds_info = tfds.load('mnist', split=['train', 'test'], with_info=True, as_supervised=True)"
      ],
      "id": "comic-material",
      "execution_count": 4,
      "outputs": []
    },
    {
      "cell_type": "markdown",
      "metadata": {
        "id": "sophisticated-optimum"
      },
      "source": [
        "## Show Dataset Info "
      ],
      "id": "sophisticated-optimum"
    },
    {
      "cell_type": "code",
      "metadata": {
        "colab": {
          "base_uri": "https://localhost:8080/"
        },
        "id": "terminal-steal",
        "outputId": "4ab5ca0f-0eba-433f-c286-693f0e35f2e7"
      },
      "source": [
        "ds_info"
      ],
      "id": "terminal-steal",
      "execution_count": 5,
      "outputs": [
        {
          "output_type": "execute_result",
          "data": {
            "text/plain": [
              "tfds.core.DatasetInfo(\n",
              "    name='mnist',\n",
              "    version=3.0.1,\n",
              "    description='The MNIST database of handwritten digits.',\n",
              "    homepage='http://yann.lecun.com/exdb/mnist/',\n",
              "    features=FeaturesDict({\n",
              "        'image': Image(shape=(28, 28, 1), dtype=tf.uint8),\n",
              "        'label': ClassLabel(shape=(), dtype=tf.int64, num_classes=10),\n",
              "    }),\n",
              "    total_num_examples=70000,\n",
              "    splits={\n",
              "        'test': 10000,\n",
              "        'train': 60000,\n",
              "    },\n",
              "    supervised_keys=('image', 'label'),\n",
              "    citation=\"\"\"@article{lecun2010mnist,\n",
              "      title={MNIST handwritten digit database},\n",
              "      author={LeCun, Yann and Cortes, Corinna and Burges, CJ},\n",
              "      journal={ATT Labs [Online]. Available: http://yann.lecun.com/exdb/mnist},\n",
              "      volume={2},\n",
              "      year={2010}\n",
              "    }\"\"\",\n",
              "    redistribution_info=,\n",
              ")"
            ]
          },
          "metadata": {
            "tags": []
          },
          "execution_count": 5
        }
      ]
    },
    {
      "cell_type": "markdown",
      "metadata": {
        "id": "rotary-parameter"
      },
      "source": [
        "## Show a sample Data"
      ],
      "id": "rotary-parameter"
    },
    {
      "cell_type": "code",
      "metadata": {
        "colab": {
          "base_uri": "https://localhost:8080/",
          "height": 299
        },
        "id": "organizational-marketplace",
        "outputId": "9600be56-e3db-44b8-d535-106ef8f3a0a8"
      },
      "source": [
        "for element in ds_train.as_numpy_iterator():\n",
        "    sample_data, sample_label = element\n",
        "    break\n",
        "\n",
        "print(\"size:{},max:{},min:{}\".format(sample_data.shape,\n",
        "                                     np.max(sample_data),\n",
        "                                     np.min(sample_data)))\n",
        "print(\"label:{}\".format(sample_label))\n",
        "plt.imshow(sample_data.squeeze(), interpolation='nearest', cmap=\"gray\")\n",
        "plt.show()"
      ],
      "id": "organizational-marketplace",
      "execution_count": 6,
      "outputs": [
        {
          "output_type": "stream",
          "text": [
            "size:(28, 28, 1),max:255,min:0\n",
            "label:4\n"
          ],
          "name": "stdout"
        },
        {
          "output_type": "display_data",
          "data": {
            "image/png": "[encoded data removed]",
            "text/plain": [
              "<Figure size 432x288 with 1 Axes>"
            ]
          },
          "metadata": {
            "tags": [],
            "needs_background": "light"
          }
        }
      ]
    },
    {
      "cell_type": "code",
      "metadata": {
        "id": "breeding-spelling"
      },
      "source": [
        "IMG_HEIGHT = 28\n",
        "IMG_WIDTH = 28"
      ],
      "id": "breeding-spelling",
      "execution_count": 7,
      "outputs": []
    },
    {
      "cell_type": "markdown",
      "metadata": {
        "id": "understood-mitchell"
      },
      "source": [
        "## Normalize\n",
        "因为数据集的值的范围是0～255，所以需要归一化一下。"
      ],
      "id": "understood-mitchell"
    },
    {
      "cell_type": "code",
      "metadata": {
        "id": "broadband-locking"
      },
      "source": [
        "def normalize_img(image, label):\n",
        "    \"\"\"Normalizes images: `uint8` -> `float32`.\"\"\"\n",
        "    return tf.cast(image, tf.float32) / 255., label"
      ],
      "id": "broadband-locking",
      "execution_count": 8,
      "outputs": []
    },
    {
      "cell_type": "code",
      "metadata": {
        "colab": {
          "base_uri": "https://localhost:8080/",
          "height": 282
        },
        "id": "dependent-aaron",
        "outputId": "989b3f2e-dd06-432a-ccf9-f17b7e4a4166"
      },
      "source": [
        "nor_sample_data, _ = normalize_img(sample_data, sample_label)\n",
        "print(\"size:{},max:{},min:{}\".format(nor_sample_data.shape,\n",
        "                                     np.max(nor_sample_data),\n",
        "                                     np.min(nor_sample_data)))\n",
        "plt.imshow(tf.squeeze(nor_sample_data), interpolation='nearest', cmap=\"gray\")\n",
        "plt.show()"
      ],
      "id": "dependent-aaron",
      "execution_count": 9,
      "outputs": [
        {
          "output_type": "stream",
          "text": [
            "size:(28, 28, 1),max:1.0,min:0.0\n"
          ],
          "name": "stdout"
        },
        {
          "output_type": "display_data",
          "data": {
            "image/png": "[encoded data removed]",
            "text/plain": [
              "<Figure size 432x288 with 1 Axes>"
            ]
          },
          "metadata": {
            "tags": [],
            "needs_background": "light"
          }
        }
      ]
    },
    {
      "cell_type": "markdown",
      "metadata": {
        "id": "technical-future"
      },
      "source": [
        "## Build Input Pipeline"
      ],
      "id": "technical-future"
    },
    {
      "cell_type": "code",
      "metadata": {
        "id": "interested-oriental"
      },
      "source": [
        "ds_train = ds_train.map(normalize_img, num_parallel_calls=tf.data.experimental.AUTOTUNE) \\\n",
        "    .cache() \\\n",
        "    .shuffle(ds_info.splits['train'].num_examples) \\\n",
        "    .batch(128) \\\n",
        "    .prefetch(tf.data.experimental.AUTOTUNE)"
      ],
      "id": "interested-oriental",
      "execution_count": 10,
      "outputs": []
    },
    {
      "cell_type": "code",
      "metadata": {
        "id": "distinct-tournament"
      },
      "source": [
        "ds_test = ds_test.map(normalize_img, num_parallel_calls=tf.data.experimental.AUTOTUNE) \\\n",
        "    .batch(128) \\\n",
        "    .cache() \\\n",
        "    .prefetch(tf.data.experimental.AUTOTUNE)"
      ],
      "id": "distinct-tournament",
      "execution_count": 11,
      "outputs": []
    },
    {
      "cell_type": "markdown",
      "metadata": {
        "id": "secret-motivation"
      },
      "source": [
        "## Build Model"
      ],
      "id": "secret-motivation"
    },
    {
      "cell_type": "code",
      "metadata": {
        "id": "special-dayton"
      },
      "source": [
        "model = tf.keras.models.Sequential([\n",
        "    tf.keras.layers.Flatten(input_shape=(IMG_HEIGHT, IMG_WIDTH)),\n",
        "    tf.keras.layers.Dense(128, activation='relu'),\n",
        "    tf.keras.layers.Dense(10)\n",
        "])"
      ],
      "id": "special-dayton",
      "execution_count": 12,
      "outputs": []
    },
    {
      "cell_type": "markdown",
      "metadata": {
        "id": "contained-french"
      },
      "source": [
        "## Compile Model"
      ],
      "id": "contained-french"
    },
    {
      "cell_type": "code",
      "metadata": {
        "id": "accepting-final"
      },
      "source": [
        "model.compile(\n",
        "    optimizer=tf.keras.optimizers.Adam(0.001),\n",
        "    loss=tf.keras.losses.SparseCategoricalCrossentropy(from_logits=True),\n",
        "    metrics=['accuracy'],\n",
        ")"
      ],
      "id": "accepting-final",
      "execution_count": 13,
      "outputs": []
    },
    {
      "cell_type": "markdown",
      "metadata": {
        "id": "direct-original"
      },
      "source": [
        "## Train"
      ],
      "id": "direct-original"
    },
    {
      "cell_type": "code",
      "metadata": {
        "colab": {
          "base_uri": "https://localhost:8080/"
        },
        "id": "announced-makeup",
        "outputId": "149ec6c9-79f3-40ef-8f76-ea65e4f2b97a"
      },
      "source": [
        "history = model.fit(\n",
        "    ds_train,\n",
        "    epochs=60,\n",
        "    validation_data=ds_test\n",
        ")"
      ],
      "id": "announced-makeup",
      "execution_count": 14,
      "outputs": [
        {
          "output_type": "stream",
          "text": [
            "Epoch 1/60\n",
            "469/469 [==============================] - 11s 7ms/step - loss: 0.6446 - accuracy: 0.8183 - val_loss: 0.1908 - val_accuracy: 0.9456\n",
            "Epoch 2/60\n",
            "469/469 [==============================] - 1s 3ms/step - loss: 0.1768 - accuracy: 0.9505 - val_loss: 0.1351 - val_accuracy: 0.9604\n",
            "Epoch 3/60\n",
            "469/469 [==============================] - 1s 3ms/step - loss: 0.1239 - accuracy: 0.9654 - val_loss: 0.1098 - val_accuracy: 0.9659\n",
            "Epoch 4/60\n",
            "469/469 [==============================] - 1s 3ms/step - loss: 0.0909 - accuracy: 0.9740 - val_loss: 0.0949 - val_accuracy: 0.9730\n",
            "Epoch 5/60\n",
            "469/469 [==============================] - 2s 3ms/step - loss: 0.0739 - accuracy: 0.9802 - val_loss: 0.0860 - val_accuracy: 0.9745\n",
            "Epoch 6/60\n",
            "469/469 [==============================] - 1s 3ms/step - loss: 0.0603 - accuracy: 0.9834 - val_loss: 0.0821 - val_accuracy: 0.9754\n",
            "Epoch 7/60\n",
            "469/469 [==============================] - 2s 3ms/step - loss: 0.0486 - accuracy: 0.9865 - val_loss: 0.0781 - val_accuracy: 0.9768\n",
            "Epoch 8/60\n",
            "469/469 [==============================] - 1s 3ms/step - loss: 0.0424 - accuracy: 0.9883 - val_loss: 0.0721 - val_accuracy: 0.9786\n",
            "Epoch 9/60\n",
            "469/469 [==============================] - 2s 3ms/step - loss: 0.0349 - accuracy: 0.9898 - val_loss: 0.0725 - val_accuracy: 0.9775\n",
            "Epoch 10/60\n",
            "469/469 [==============================] - 2s 3ms/step - loss: 0.0290 - accuracy: 0.9930 - val_loss: 0.0706 - val_accuracy: 0.9780\n",
            "Epoch 11/60\n",
            "469/469 [==============================] - 2s 3ms/step - loss: 0.0266 - accuracy: 0.9927 - val_loss: 0.0731 - val_accuracy: 0.9783\n",
            "Epoch 12/60\n",
            "469/469 [==============================] - 2s 3ms/step - loss: 0.0214 - accuracy: 0.9945 - val_loss: 0.0733 - val_accuracy: 0.9781\n",
            "Epoch 13/60\n",
            "469/469 [==============================] - 2s 3ms/step - loss: 0.0182 - accuracy: 0.9956 - val_loss: 0.0716 - val_accuracy: 0.9794\n",
            "Epoch 14/60\n",
            "469/469 [==============================] - 2s 3ms/step - loss: 0.0142 - accuracy: 0.9970 - val_loss: 0.0733 - val_accuracy: 0.9785\n",
            "Epoch 15/60\n",
            "469/469 [==============================] - 1s 3ms/step - loss: 0.0133 - accuracy: 0.9972 - val_loss: 0.0749 - val_accuracy: 0.9791\n",
            "Epoch 16/60\n",
            "469/469 [==============================] - 2s 3ms/step - loss: 0.0100 - accuracy: 0.9982 - val_loss: 0.0794 - val_accuracy: 0.9790\n",
            "Epoch 17/60\n",
            "469/469 [==============================] - 2s 3ms/step - loss: 0.0095 - accuracy: 0.9985 - val_loss: 0.0766 - val_accuracy: 0.9802\n",
            "Epoch 18/60\n",
            "469/469 [==============================] - 2s 3ms/step - loss: 0.0076 - accuracy: 0.9989 - val_loss: 0.0756 - val_accuracy: 0.9804\n",
            "Epoch 19/60\n",
            "469/469 [==============================] - 2s 3ms/step - loss: 0.0059 - accuracy: 0.9994 - val_loss: 0.0766 - val_accuracy: 0.9788\n",
            "Epoch 20/60\n",
            "469/469 [==============================] - 1s 3ms/step - loss: 0.0059 - accuracy: 0.9994 - val_loss: 0.0776 - val_accuracy: 0.9787\n",
            "Epoch 21/60\n",
            "469/469 [==============================] - 1s 3ms/step - loss: 0.0060 - accuracy: 0.9988 - val_loss: 0.0827 - val_accuracy: 0.9785\n",
            "Epoch 22/60\n",
            "469/469 [==============================] - 2s 3ms/step - loss: 0.0045 - accuracy: 0.9995 - val_loss: 0.0847 - val_accuracy: 0.9789\n",
            "Epoch 23/60\n",
            "469/469 [==============================] - 1s 3ms/step - loss: 0.0030 - accuracy: 0.9999 - val_loss: 0.0824 - val_accuracy: 0.9802\n",
            "Epoch 24/60\n",
            "469/469 [==============================] - 1s 3ms/step - loss: 0.0022 - accuracy: 0.9999 - val_loss: 0.0841 - val_accuracy: 0.9797\n",
            "Epoch 25/60\n",
            "469/469 [==============================] - 2s 3ms/step - loss: 0.0026 - accuracy: 0.9997 - val_loss: 0.0993 - val_accuracy: 0.9768\n",
            "Epoch 26/60\n",
            "469/469 [==============================] - 2s 3ms/step - loss: 0.0072 - accuracy: 0.9983 - val_loss: 0.0945 - val_accuracy: 0.9794\n",
            "Epoch 27/60\n",
            "469/469 [==============================] - 1s 3ms/step - loss: 0.0048 - accuracy: 0.9988 - val_loss: 0.0884 - val_accuracy: 0.9793\n",
            "Epoch 28/60\n",
            "469/469 [==============================] - 1s 3ms/step - loss: 0.0015 - accuracy: 0.9999 - val_loss: 0.0853 - val_accuracy: 0.9811\n",
            "Epoch 29/60\n",
            "469/469 [==============================] - 2s 3ms/step - loss: 9.0013e-04 - accuracy: 1.0000 - val_loss: 0.0857 - val_accuracy: 0.9805\n",
            "Epoch 30/60\n",
            "469/469 [==============================] - 1s 3ms/step - loss: 8.9927e-04 - accuracy: 1.0000 - val_loss: 0.0961 - val_accuracy: 0.9783\n",
            "Epoch 31/60\n",
            "469/469 [==============================] - 2s 3ms/step - loss: 0.0097 - accuracy: 0.9965 - val_loss: 0.0945 - val_accuracy: 0.9792\n",
            "Epoch 32/60\n",
            "469/469 [==============================] - 1s 3ms/step - loss: 0.0022 - accuracy: 0.9997 - val_loss: 0.0937 - val_accuracy: 0.9801\n",
            "Epoch 33/60\n",
            "469/469 [==============================] - 1s 3ms/step - loss: 8.5334e-04 - accuracy: 1.0000 - val_loss: 0.0927 - val_accuracy: 0.9803\n",
            "Epoch 34/60\n",
            "469/469 [==============================] - 1s 3ms/step - loss: 5.9020e-04 - accuracy: 1.0000 - val_loss: 0.0916 - val_accuracy: 0.9817\n",
            "Epoch 35/60\n",
            "469/469 [==============================] - 2s 3ms/step - loss: 4.2527e-04 - accuracy: 1.0000 - val_loss: 0.0922 - val_accuracy: 0.9809\n",
            "Epoch 36/60\n",
            "469/469 [==============================] - 1s 3ms/step - loss: 3.7644e-04 - accuracy: 1.0000 - val_loss: 0.0933 - val_accuracy: 0.9806\n",
            "Epoch 37/60\n",
            "469/469 [==============================] - 2s 3ms/step - loss: 3.4604e-04 - accuracy: 1.0000 - val_loss: 0.0933 - val_accuracy: 0.9816\n",
            "Epoch 38/60\n",
            "469/469 [==============================] - 1s 3ms/step - loss: 6.4973e-04 - accuracy: 0.9999 - val_loss: 0.1510 - val_accuracy: 0.9716\n",
            "Epoch 39/60\n",
            "469/469 [==============================] - 2s 3ms/step - loss: 0.0182 - accuracy: 0.9945 - val_loss: 0.0988 - val_accuracy: 0.9804\n",
            "Epoch 40/60\n",
            "469/469 [==============================] - 1s 3ms/step - loss: 0.0014 - accuracy: 0.9999 - val_loss: 0.0975 - val_accuracy: 0.9808\n",
            "Epoch 41/60\n",
            "469/469 [==============================] - 1s 3ms/step - loss: 4.1635e-04 - accuracy: 1.0000 - val_loss: 0.0985 - val_accuracy: 0.9813\n",
            "Epoch 42/60\n",
            "469/469 [==============================] - 1s 3ms/step - loss: 3.2626e-04 - accuracy: 1.0000 - val_loss: 0.0982 - val_accuracy: 0.9814\n",
            "Epoch 43/60\n",
            "469/469 [==============================] - 1s 3ms/step - loss: 2.7430e-04 - accuracy: 1.0000 - val_loss: 0.0985 - val_accuracy: 0.9817\n",
            "Epoch 44/60\n",
            "469/469 [==============================] - 1s 3ms/step - loss: 2.3956e-04 - accuracy: 1.0000 - val_loss: 0.0982 - val_accuracy: 0.9818\n",
            "Epoch 45/60\n",
            "469/469 [==============================] - 2s 3ms/step - loss: 2.3017e-04 - accuracy: 1.0000 - val_loss: 0.0990 - val_accuracy: 0.9812\n",
            "Epoch 46/60\n",
            "469/469 [==============================] - 1s 3ms/step - loss: 1.9047e-04 - accuracy: 1.0000 - val_loss: 0.0985 - val_accuracy: 0.9808\n",
            "Epoch 47/60\n",
            "469/469 [==============================] - 1s 3ms/step - loss: 1.8488e-04 - accuracy: 1.0000 - val_loss: 0.0995 - val_accuracy: 0.9816\n",
            "Epoch 48/60\n",
            "469/469 [==============================] - 2s 3ms/step - loss: 1.8347e-04 - accuracy: 1.0000 - val_loss: 0.1015 - val_accuracy: 0.9816\n",
            "Epoch 49/60\n",
            "469/469 [==============================] - 2s 3ms/step - loss: 0.0087 - accuracy: 0.9973 - val_loss: 0.1171 - val_accuracy: 0.9785\n",
            "Epoch 50/60\n",
            "469/469 [==============================] - 2s 3ms/step - loss: 0.0030 - accuracy: 0.9992 - val_loss: 0.1060 - val_accuracy: 0.9802\n",
            "Epoch 51/60\n",
            "469/469 [==============================] - 1s 3ms/step - loss: 5.1070e-04 - accuracy: 1.0000 - val_loss: 0.1042 - val_accuracy: 0.9813\n",
            "Epoch 52/60\n",
            "469/469 [==============================] - 1s 3ms/step - loss: 2.9495e-04 - accuracy: 1.0000 - val_loss: 0.1034 - val_accuracy: 0.9816\n",
            "Epoch 53/60\n",
            "469/469 [==============================] - 2s 3ms/step - loss: 1.8224e-04 - accuracy: 1.0000 - val_loss: 0.1042 - val_accuracy: 0.9811\n",
            "Epoch 54/60\n",
            "469/469 [==============================] - 1s 3ms/step - loss: 1.7058e-04 - accuracy: 1.0000 - val_loss: 0.1047 - val_accuracy: 0.9814\n",
            "Epoch 55/60\n",
            "469/469 [==============================] - 2s 3ms/step - loss: 1.4827e-04 - accuracy: 1.0000 - val_loss: 0.1050 - val_accuracy: 0.9821\n",
            "Epoch 56/60\n",
            "469/469 [==============================] - 1s 3ms/step - loss: 1.3078e-04 - accuracy: 1.0000 - val_loss: 0.1057 - val_accuracy: 0.9815\n",
            "Epoch 57/60\n",
            "469/469 [==============================] - 1s 3ms/step - loss: 1.1884e-04 - accuracy: 1.0000 - val_loss: 0.1064 - val_accuracy: 0.9817\n",
            "Epoch 58/60\n",
            "469/469 [==============================] - 2s 3ms/step - loss: 1.0415e-04 - accuracy: 1.0000 - val_loss: 0.1060 - val_accuracy: 0.9819\n",
            "Epoch 59/60\n",
            "469/469 [==============================] - 1s 3ms/step - loss: 9.8122e-05 - accuracy: 1.0000 - val_loss: 0.1063 - val_accuracy: 0.9824\n",
            "Epoch 60/60\n",
            "469/469 [==============================] - 2s 3ms/step - loss: 8.5103e-05 - accuracy: 1.0000 - val_loss: 0.1087 - val_accuracy: 0.9815\n"
          ],
          "name": "stdout"
        }
      ]
    },
    {
      "cell_type": "markdown",
      "metadata": {
        "id": "contemporary-cancellation"
      },
      "source": [
        "## Visualize Training Result"
      ],
      "id": "contemporary-cancellation"
    },
    {
      "cell_type": "code",
      "metadata": {
        "colab": {
          "base_uri": "https://localhost:8080/",
          "height": 297
        },
        "id": "virtual-primary",
        "outputId": "9b62f0d9-423a-44af-99f7-e3fac4dbecb7"
      },
      "source": [
        "show_acc.plot(history)"
      ],
      "id": "virtual-primary",
      "execution_count": 15,
      "outputs": [
        {
          "output_type": "display_data",
          "data": {
            "image/png": "[encoded data removed]",
            "text/plain": [
              "<Figure size 432x288 with 4 Axes>"
            ]
          },
          "metadata": {
            "tags": [],
            "needs_background": "light"
          }
        }
      ]
    },
    {
      "cell_type": "markdown",
      "metadata": {
        "id": "sustainable-being"
      },
      "source": [
        "其实可以看出，10个epoch后就开始过拟合了。"
      ],
      "id": "sustainable-being"
    },
    {
      "cell_type": "markdown",
      "metadata": {
        "id": "imported-coordinator"
      },
      "source": [
        "## 添加Dropout层\n",
        "减少过拟合"
      ],
      "id": "imported-coordinator"
    },
    {
      "cell_type": "code",
      "metadata": {
        "colab": {
          "base_uri": "https://localhost:8080/"
        },
        "id": "front-amplifier",
        "outputId": "b361f832-050e-42ac-f827-e434a5a8a378"
      },
      "source": [
        "model2 = tf.keras.models.Sequential([\n",
        "    tf.keras.layers.Flatten(input_shape=(IMG_HEIGHT, IMG_WIDTH)),\n",
        "    tf.keras.layers.Dropout(0.2),\n",
        "    tf.keras.layers.Dense(128, activation='relu'),\n",
        "    tf.keras.layers.Dropout(0.2),\n",
        "    tf.keras.layers.Dense(10)\n",
        "])\n",
        "\n",
        "model2.compile(\n",
        "    optimizer=tf.keras.optimizers.Adam(0.001),\n",
        "    loss=tf.keras.losses.SparseCategoricalCrossentropy(from_logits=True),\n",
        "    metrics=['accuracy'],\n",
        ")\n",
        "\n",
        "history2 = model2.fit(\n",
        "    ds_train,\n",
        "    epochs=60,\n",
        "    validation_data=ds_test,\n",
        ")"
      ],
      "id": "front-amplifier",
      "execution_count": 16,
      "outputs": [
        {
          "output_type": "stream",
          "text": [
            "Epoch 1/60\n",
            "469/469 [==============================] - 2s 4ms/step - loss: 0.7432 - accuracy: 0.7767 - val_loss: 0.2031 - val_accuracy: 0.9403\n",
            "Epoch 2/60\n",
            "469/469 [==============================] - 2s 3ms/step - loss: 0.2525 - accuracy: 0.9256 - val_loss: 0.1439 - val_accuracy: 0.9570\n",
            "Epoch 3/60\n",
            "469/469 [==============================] - 2s 3ms/step - loss: 0.1878 - accuracy: 0.9438 - val_loss: 0.1147 - val_accuracy: 0.9656\n",
            "Epoch 4/60\n",
            "469/469 [==============================] - 2s 3ms/step - loss: 0.1600 - accuracy: 0.9514 - val_loss: 0.1031 - val_accuracy: 0.9685\n",
            "Epoch 5/60\n",
            "469/469 [==============================] - 2s 3ms/step - loss: 0.1350 - accuracy: 0.9599 - val_loss: 0.0883 - val_accuracy: 0.9734\n",
            "Epoch 6/60\n",
            "469/469 [==============================] - 2s 3ms/step - loss: 0.1238 - accuracy: 0.9617 - val_loss: 0.0848 - val_accuracy: 0.9737\n",
            "Epoch 7/60\n",
            "469/469 [==============================] - 2s 3ms/step - loss: 0.1112 - accuracy: 0.9662 - val_loss: 0.0797 - val_accuracy: 0.9745\n",
            "Epoch 8/60\n",
            "469/469 [==============================] - 2s 3ms/step - loss: 0.1032 - accuracy: 0.9679 - val_loss: 0.0762 - val_accuracy: 0.9764\n",
            "Epoch 9/60\n",
            "469/469 [==============================] - 2s 3ms/step - loss: 0.0958 - accuracy: 0.9704 - val_loss: 0.0745 - val_accuracy: 0.9767\n",
            "Epoch 10/60\n",
            "469/469 [==============================] - 2s 3ms/step - loss: 0.0915 - accuracy: 0.9713 - val_loss: 0.0740 - val_accuracy: 0.9776\n",
            "Epoch 11/60\n",
            "469/469 [==============================] - 2s 3ms/step - loss: 0.0868 - accuracy: 0.9726 - val_loss: 0.0711 - val_accuracy: 0.9768\n",
            "Epoch 12/60\n",
            "469/469 [==============================] - 2s 3ms/step - loss: 0.0804 - accuracy: 0.9747 - val_loss: 0.0706 - val_accuracy: 0.9783\n",
            "Epoch 13/60\n",
            "469/469 [==============================] - 2s 3ms/step - loss: 0.0786 - accuracy: 0.9751 - val_loss: 0.0686 - val_accuracy: 0.9776\n",
            "Epoch 14/60\n",
            "469/469 [==============================] - 2s 3ms/step - loss: 0.0717 - accuracy: 0.9777 - val_loss: 0.0663 - val_accuracy: 0.9793\n",
            "Epoch 15/60\n",
            "469/469 [==============================] - 2s 3ms/step - loss: 0.0721 - accuracy: 0.9766 - val_loss: 0.0658 - val_accuracy: 0.9798\n",
            "Epoch 16/60\n",
            "469/469 [==============================] - 2s 3ms/step - loss: 0.0711 - accuracy: 0.9777 - val_loss: 0.0659 - val_accuracy: 0.9795\n",
            "Epoch 17/60\n",
            "469/469 [==============================] - 2s 3ms/step - loss: 0.0686 - accuracy: 0.9772 - val_loss: 0.0650 - val_accuracy: 0.9800\n",
            "Epoch 18/60\n",
            "469/469 [==============================] - 1s 3ms/step - loss: 0.0672 - accuracy: 0.9785 - val_loss: 0.0668 - val_accuracy: 0.9797\n",
            "Epoch 19/60\n",
            "469/469 [==============================] - 2s 3ms/step - loss: 0.0640 - accuracy: 0.9789 - val_loss: 0.0617 - val_accuracy: 0.9816\n",
            "Epoch 20/60\n",
            "469/469 [==============================] - 2s 3ms/step - loss: 0.0643 - accuracy: 0.9777 - val_loss: 0.0620 - val_accuracy: 0.9806\n",
            "Epoch 21/60\n",
            "469/469 [==============================] - 2s 3ms/step - loss: 0.0577 - accuracy: 0.9804 - val_loss: 0.0616 - val_accuracy: 0.9816\n",
            "Epoch 22/60\n",
            "469/469 [==============================] - 2s 3ms/step - loss: 0.0611 - accuracy: 0.9799 - val_loss: 0.0619 - val_accuracy: 0.9813\n",
            "Epoch 23/60\n",
            "469/469 [==============================] - 2s 3ms/step - loss: 0.0590 - accuracy: 0.9805 - val_loss: 0.0625 - val_accuracy: 0.9808\n",
            "Epoch 24/60\n",
            "469/469 [==============================] - 2s 3ms/step - loss: 0.0562 - accuracy: 0.9804 - val_loss: 0.0605 - val_accuracy: 0.9817\n",
            "Epoch 25/60\n",
            "469/469 [==============================] - 2s 3ms/step - loss: 0.0582 - accuracy: 0.9807 - val_loss: 0.0595 - val_accuracy: 0.9824\n",
            "Epoch 26/60\n",
            "469/469 [==============================] - 2s 3ms/step - loss: 0.0523 - accuracy: 0.9824 - val_loss: 0.0603 - val_accuracy: 0.9826\n",
            "Epoch 27/60\n",
            "469/469 [==============================] - 2s 3ms/step - loss: 0.0554 - accuracy: 0.9815 - val_loss: 0.0582 - val_accuracy: 0.9830\n",
            "Epoch 28/60\n",
            "469/469 [==============================] - 2s 3ms/step - loss: 0.0518 - accuracy: 0.9827 - val_loss: 0.0607 - val_accuracy: 0.9823\n",
            "Epoch 29/60\n",
            "469/469 [==============================] - 2s 3ms/step - loss: 0.0529 - accuracy: 0.9821 - val_loss: 0.0632 - val_accuracy: 0.9827\n",
            "Epoch 30/60\n",
            "469/469 [==============================] - 2s 3ms/step - loss: 0.0502 - accuracy: 0.9825 - val_loss: 0.0605 - val_accuracy: 0.9830\n",
            "Epoch 31/60\n",
            "469/469 [==============================] - 2s 3ms/step - loss: 0.0479 - accuracy: 0.9838 - val_loss: 0.0612 - val_accuracy: 0.9824\n",
            "Epoch 32/60\n",
            "469/469 [==============================] - 2s 3ms/step - loss: 0.0501 - accuracy: 0.9839 - val_loss: 0.0594 - val_accuracy: 0.9827\n",
            "Epoch 33/60\n",
            "469/469 [==============================] - 1s 3ms/step - loss: 0.0510 - accuracy: 0.9831 - val_loss: 0.0585 - val_accuracy: 0.9829\n",
            "Epoch 34/60\n",
            "469/469 [==============================] - 2s 3ms/step - loss: 0.0486 - accuracy: 0.9829 - val_loss: 0.0593 - val_accuracy: 0.9837\n",
            "Epoch 35/60\n",
            "469/469 [==============================] - 2s 3ms/step - loss: 0.0490 - accuracy: 0.9838 - val_loss: 0.0602 - val_accuracy: 0.9829\n",
            "Epoch 36/60\n",
            "469/469 [==============================] - 2s 3ms/step - loss: 0.0462 - accuracy: 0.9842 - val_loss: 0.0605 - val_accuracy: 0.9837\n",
            "Epoch 37/60\n",
            "469/469 [==============================] - 2s 3ms/step - loss: 0.0481 - accuracy: 0.9836 - val_loss: 0.0619 - val_accuracy: 0.9824\n",
            "Epoch 38/60\n",
            "469/469 [==============================] - 2s 3ms/step - loss: 0.0481 - accuracy: 0.9835 - val_loss: 0.0653 - val_accuracy: 0.9820\n",
            "Epoch 39/60\n",
            "469/469 [==============================] - 2s 3ms/step - loss: 0.0450 - accuracy: 0.9850 - val_loss: 0.0620 - val_accuracy: 0.9824\n",
            "Epoch 40/60\n",
            "469/469 [==============================] - 2s 3ms/step - loss: 0.0465 - accuracy: 0.9835 - val_loss: 0.0678 - val_accuracy: 0.9809\n",
            "Epoch 41/60\n",
            "469/469 [==============================] - 2s 3ms/step - loss: 0.0448 - accuracy: 0.9850 - val_loss: 0.0626 - val_accuracy: 0.9819\n",
            "Epoch 42/60\n",
            "469/469 [==============================] - 2s 3ms/step - loss: 0.0477 - accuracy: 0.9840 - val_loss: 0.0627 - val_accuracy: 0.9822\n",
            "Epoch 43/60\n",
            "469/469 [==============================] - 2s 3ms/step - loss: 0.0459 - accuracy: 0.9845 - val_loss: 0.0603 - val_accuracy: 0.9833\n",
            "Epoch 44/60\n",
            "469/469 [==============================] - 2s 3ms/step - loss: 0.0457 - accuracy: 0.9841 - val_loss: 0.0623 - val_accuracy: 0.9826\n",
            "Epoch 45/60\n",
            "469/469 [==============================] - 2s 3ms/step - loss: 0.0451 - accuracy: 0.9848 - val_loss: 0.0631 - val_accuracy: 0.9821\n",
            "Epoch 46/60\n",
            "469/469 [==============================] - 2s 3ms/step - loss: 0.0458 - accuracy: 0.9851 - val_loss: 0.0663 - val_accuracy: 0.9816\n",
            "Epoch 47/60\n",
            "469/469 [==============================] - 2s 3ms/step - loss: 0.0411 - accuracy: 0.9861 - val_loss: 0.0660 - val_accuracy: 0.9821\n",
            "Epoch 48/60\n",
            "469/469 [==============================] - 2s 3ms/step - loss: 0.0454 - accuracy: 0.9845 - val_loss: 0.0649 - val_accuracy: 0.9827\n",
            "Epoch 49/60\n",
            "469/469 [==============================] - 2s 3ms/step - loss: 0.0467 - accuracy: 0.9840 - val_loss: 0.0617 - val_accuracy: 0.9821\n",
            "Epoch 50/60\n",
            "469/469 [==============================] - 2s 3ms/step - loss: 0.0393 - accuracy: 0.9860 - val_loss: 0.0646 - val_accuracy: 0.9821\n",
            "Epoch 51/60\n",
            "469/469 [==============================] - 2s 3ms/step - loss: 0.0413 - accuracy: 0.9858 - val_loss: 0.0680 - val_accuracy: 0.9828\n",
            "Epoch 52/60\n",
            "469/469 [==============================] - 2s 3ms/step - loss: 0.0442 - accuracy: 0.9852 - val_loss: 0.0661 - val_accuracy: 0.9826\n",
            "Epoch 53/60\n",
            "469/469 [==============================] - 2s 3ms/step - loss: 0.0413 - accuracy: 0.9858 - val_loss: 0.0664 - val_accuracy: 0.9815\n",
            "Epoch 54/60\n",
            "469/469 [==============================] - 1s 3ms/step - loss: 0.0384 - accuracy: 0.9865 - val_loss: 0.0615 - val_accuracy: 0.9824\n",
            "Epoch 55/60\n",
            "469/469 [==============================] - 2s 3ms/step - loss: 0.0441 - accuracy: 0.9847 - val_loss: 0.0623 - val_accuracy: 0.9828\n",
            "Epoch 56/60\n",
            "469/469 [==============================] - 2s 3ms/step - loss: 0.0398 - accuracy: 0.9862 - val_loss: 0.0661 - val_accuracy: 0.9827\n",
            "Epoch 57/60\n",
            "469/469 [==============================] - 2s 3ms/step - loss: 0.0439 - accuracy: 0.9842 - val_loss: 0.0656 - val_accuracy: 0.9824\n",
            "Epoch 58/60\n",
            "469/469 [==============================] - 2s 3ms/step - loss: 0.0382 - accuracy: 0.9866 - val_loss: 0.0665 - val_accuracy: 0.9819\n",
            "Epoch 59/60\n",
            "469/469 [==============================] - 2s 3ms/step - loss: 0.0409 - accuracy: 0.9856 - val_loss: 0.0645 - val_accuracy: 0.9820\n",
            "Epoch 60/60\n",
            "469/469 [==============================] - 2s 3ms/step - loss: 0.0402 - accuracy: 0.9866 - val_loss: 0.0640 - val_accuracy: 0.9826\n"
          ],
          "name": "stdout"
        }
      ]
    },
    {
      "cell_type": "code",
      "metadata": {
        "colab": {
          "base_uri": "https://localhost:8080/",
          "height": 297
        },
        "id": "worse-black",
        "outputId": "9de4bc60-6460-473e-bf5e-c0f9c89e3c68"
      },
      "source": [
        "show_acc.plot(history2)"
      ],
      "id": "worse-black",
      "execution_count": 17,
      "outputs": [
        {
          "output_type": "display_data",
          "data": {
            "image/png": "[encoded data removed]",
            "text/plain": [
              "<Figure size 432x288 with 4 Axes>"
            ]
          },
          "metadata": {
            "tags": [],
            "needs_background": "light"
          }
        }
      ]
    },
    {
      "cell_type": "markdown",
      "metadata": {
        "id": "unavailable-allah"
      },
      "source": [
        "## 拿张图片试试\n",
        "我们从网上找一个数据集之外的图片看看"
      ],
      "id": "unavailable-allah"
    },
    {
      "cell_type": "code",
      "metadata": {
        "colab": {
          "base_uri": "https://localhost:8080/",
          "height": 571
        },
        "id": "genuine-tuner",
        "outputId": "e79e2f9d-c92c-41e4-e5df-6ed725283724"
      },
      "source": [
        "sunflower_url = \"https://gimg2.baidu.com/image_search/src=http%3A%2F%2Fbpic.588ku.com%2Felement_origin_min_pic%2F18%2F06%2F09%2F45fb84189924b2e6695f494ab9e2df89.jpg&refer=http%3A%2F%2Fbpic.588ku.com&app=2002&size=f9999,10000&q=a80&n=0&g=0n&fmt=jpeg?sec=1615431034&t=3c1aaed9443c89ef8594d689eac0e5bc\"\n",
        "sunflower_path = tf.keras.utils.get_file('Red_sunflower', origin=sunflower_url)\n",
        "\n",
        "img_origin = tf.keras.preprocessing.image.load_img(sunflower_path)\n",
        "plt.imshow(img_origin, interpolation='nearest')\n",
        "plt.show()\n",
        "\n",
        "img = tf.keras.preprocessing.image.load_img(\n",
        "    sunflower_path, target_size=(IMG_HEIGHT, IMG_WIDTH), color_mode=\"grayscale\"\n",
        ")\n",
        "plt.imshow(img, interpolation='nearest', cmap=\"gray\")\n",
        "plt.show()"
      ],
      "id": "genuine-tuner",
      "execution_count": 18,
      "outputs": [
        {
          "output_type": "stream",
          "text": [
            "Downloading data from https://gimg2.baidu.com/image_search/src=http%3A%2F%2Fbpic.588ku.com%2Felement_origin_min_pic%2F18%2F06%2F09%2F45fb84189924b2e6695f494ab9e2df89.jpg&refer=http%3A%2F%2Fbpic.588ku.com&app=2002&size=f9999,10000&q=a80&n=0&g=0n&fmt=jpeg?sec=1615431034&t=3c1aaed9443c89ef8594d689eac0e5bc\n",
            "40960/34172 [===================================] - 0s 1us/step\n"
          ],
          "name": "stdout"
        },
        {
          "output_type": "display_data",
          "data": {
            "image/png": "[encoded data removed]",
            "text/plain": [
              "<Figure size 432x288 with 1 Axes>"
            ]
          },
          "metadata": {
            "tags": [],
            "needs_background": "light"
          }
        },
        {
          "output_type": "display_data",
          "data": {
            "image/png": "[encoded data removed]",
            "text/plain": [
              "<Figure size 432x288 with 1 Axes>"
            ]
          },
          "metadata": {
            "tags": [],
            "needs_background": "light"
          }
        }
      ]
    },
    {
      "cell_type": "markdown",
      "metadata": {
        "id": "atmospheric-explanation"
      },
      "source": [
        "需要注意的是，这里的格式和我们的训练集是完全相反的，训练集的数字主体是非0值（白色），背景是0（黑色）。虽然我们人一眼就能看出这是5（因为黑色白色对我们没影响，我们是根据空间结构判断的），但是对于机器来说这个input的特征和训练时遇到的5基本没啥相似点，很大可能会识别为别的数字（我试了，它认为这个是铁7）。所以我们需要对这个图片预处理一下，让其符合我们模型的输入分布。"
      ],
      "id": "atmospheric-explanation"
    },
    {
      "cell_type": "code",
      "metadata": {
        "colab": {
          "base_uri": "https://localhost:8080/",
          "height": 265
        },
        "id": "artificial-worse",
        "outputId": "48c505be-958b-403f-a879-6a0a92d1cdc7"
      },
      "source": [
        "img_fixed = PIL.ImageOps.invert(img)\n",
        "plt.imshow(img_fixed, interpolation='nearest', cmap=\"gray\")\n",
        "plt.show()"
      ],
      "id": "artificial-worse",
      "execution_count": 19,
      "outputs": [
        {
          "output_type": "display_data",
          "data": {
            "image/png": "[encoded data removed]",
            "text/plain": [
              "<Figure size 432x288 with 1 Axes>"
            ]
          },
          "metadata": {
            "tags": [],
            "needs_background": "light"
          }
        }
      ]
    },
    {
      "cell_type": "markdown",
      "metadata": {
        "id": "cardiovascular-justice"
      },
      "source": [
        "是骡子是马，拉出来溜溜！"
      ],
      "id": "cardiovascular-justice"
    },
    {
      "cell_type": "code",
      "metadata": {
        "colab": {
          "base_uri": "https://localhost:8080/"
        },
        "id": "cordless-slovak",
        "outputId": "d1b14110-73b8-4f9d-c0be-5a844930ecc5"
      },
      "source": [
        "img_array = tf.keras.preprocessing.image.img_to_array(img_fixed)\n",
        "img_array = tf.expand_dims(img_array, 0)\n",
        "predictions = model2.predict(img_array)\n",
        "score = tf.nn.softmax(predictions[0])\n",
        "class_names = list(range(10))\n",
        "print(\n",
        "    \"This image most likely belongs to {} with a {:.2f} percent confidence.\"\n",
        "        .format(class_names[np.argmax(score)], 100 * np.max(score))\n",
        ")"
      ],
      "id": "cordless-slovak",
      "execution_count": 20,
      "outputs": [
        {
          "output_type": "stream",
          "text": [
            "This image most likely belongs to 5 with a 100.00 percent confidence.\n"
          ],
          "name": "stdout"
        }
      ]
    },
    {
      "cell_type": "markdown",
      "metadata": {
        "id": "vietnamese-tackle"
      },
      "source": [
        "✌️"
      ],
      "id": "vietnamese-tackle"
    }
  ]
}