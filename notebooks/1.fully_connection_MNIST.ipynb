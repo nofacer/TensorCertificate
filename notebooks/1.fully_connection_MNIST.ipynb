{
 "cells": [
  {
   "cell_type": "markdown",
   "id": "billion-shooting",
   "metadata": {},
   "source": [
    "# 1-MNIST手写数字识别(全连接)"
   ]
  },
  {
   "cell_type": "code",
   "execution_count": 1,
   "id": "dated-ferry",
   "metadata": {},
   "outputs": [],
   "source": [
    "import tensorflow as tf\n",
    "import tensorflow_datasets as tfds\n",
    "import numpy as np\n",
    "import matplotlib.pyplot as plt\n",
    "import tensorflow.keras.callbacks as tfcb\n",
    "import PIL.ImageOps"
   ]
  },
  {
   "cell_type": "code",
   "execution_count": 2,
   "id": "occasional-princess",
   "metadata": {},
   "outputs": [],
   "source": [
    "%matplotlib inline "
   ]
  },
  {
   "cell_type": "markdown",
   "id": "intended-destruction",
   "metadata": {},
   "source": [
    "## Load Dataset"
   ]
  },
  {
   "cell_type": "code",
   "execution_count": 3,
   "id": "impressive-strike",
   "metadata": {},
   "outputs": [],
   "source": [
    "(ds_train, ds_test), ds_info = tfds.load('mnist', split=['train', 'test'],\n",
    "                                         as_supervised=True,\n",
    "                                         with_info=True)"
   ]
  },
  {
   "cell_type": "markdown",
   "id": "painful-cooperative",
   "metadata": {},
   "source": [
    "## Show Dataset Info "
   ]
  },
  {
   "cell_type": "code",
   "execution_count": 4,
   "id": "organic-credit",
   "metadata": {},
   "outputs": [
    {
     "data": {
      "text/plain": [
       "tfds.core.DatasetInfo(\n",
       "    name='mnist',\n",
       "    full_name='mnist/3.0.1',\n",
       "    description=\"\"\"\n",
       "    The MNIST database of handwritten digits.\n",
       "    \"\"\",\n",
       "    homepage='http://yann.lecun.com/exdb/mnist/',\n",
       "    data_path='/Users/xubinni/tensorflow_datasets/mnist/3.0.1',\n",
       "    download_size=11.06 MiB,\n",
       "    dataset_size=21.00 MiB,\n",
       "    features=FeaturesDict({\n",
       "        'image': Image(shape=(28, 28, 1), dtype=tf.uint8),\n",
       "        'label': ClassLabel(shape=(), dtype=tf.int64, num_classes=10),\n",
       "    }),\n",
       "    supervised_keys=('image', 'label'),\n",
       "    splits={\n",
       "        'test': <SplitInfo num_examples=10000, num_shards=1>,\n",
       "        'train': <SplitInfo num_examples=60000, num_shards=1>,\n",
       "    },\n",
       "    citation=\"\"\"@article{lecun2010mnist,\n",
       "      title={MNIST handwritten digit database},\n",
       "      author={LeCun, Yann and Cortes, Corinna and Burges, CJ},\n",
       "      journal={ATT Labs [Online]. Available: http://yann.lecun.com/exdb/mnist},\n",
       "      volume={2},\n",
       "      year={2010}\n",
       "    }\"\"\",\n",
       ")"
      ]
     },
     "execution_count": 4,
     "metadata": {},
     "output_type": "execute_result"
    }
   ],
   "source": [
    "ds_info"
   ]
  },
  {
   "cell_type": "markdown",
   "id": "foster-premium",
   "metadata": {},
   "source": [
    "## Show a sample Data"
   ]
  },
  {
   "cell_type": "code",
   "execution_count": 5,
   "id": "norman-scanning",
   "metadata": {},
   "outputs": [
    {
     "name": "stdout",
     "output_type": "stream",
     "text": [
      "size:(28, 28, 1),max:255,min:0\n",
      "label:4\n"
     ]
    },
    {
     "data": {
      "image/png": "[encoded data removed]",
      "text/plain": [
       "<Figure size 432x288 with 1 Axes>"
      ]
     },
     "metadata": {
      "needs_background": "light"
     },
     "output_type": "display_data"
    }
   ],
   "source": [
    "for element in ds_train.as_numpy_iterator():\n",
    "    sample_data, sample_label = element\n",
    "    break\n",
    "\n",
    "print(\"size:{},max:{},min:{}\".format(sample_data.shape,\n",
    "                                     np.max(sample_data),\n",
    "                                     np.min(sample_data)))\n",
    "print(\"label:{}\".format(sample_label))\n",
    "plt.imshow(sample_data, interpolation='nearest', cmap=\"gray\")\n",
    "plt.show()"
   ]
  },
  {
   "cell_type": "code",
   "execution_count": 6,
   "id": "liable-accident",
   "metadata": {},
   "outputs": [],
   "source": [
    "IMG_HEIGHT = 28\n",
    "IMG_WIDTH = 28"
   ]
  },
  {
   "cell_type": "markdown",
   "id": "monetary-shower",
   "metadata": {},
   "source": [
    "## Normalize\n",
    "因为数据集的值的范围是0～255，所以需要归一化一下。"
   ]
  },
  {
   "cell_type": "code",
   "execution_count": 7,
   "id": "unexpected-relationship",
   "metadata": {},
   "outputs": [],
   "source": [
    "def normalize_img(image, label):\n",
    "    \"\"\"Normalizes images: `uint8` -> `float32`.\"\"\"\n",
    "    return tf.cast(image, tf.float32) / 255., label"
   ]
  },
  {
   "cell_type": "code",
   "execution_count": 8,
   "id": "spanish-things",
   "metadata": {},
   "outputs": [
    {
     "name": "stdout",
     "output_type": "stream",
     "text": [
      "size:(28, 28, 1),max:1.0,min:0.0\n"
     ]
    },
    {
     "data": {
      "image/png": "[encoded data removed]",
      "text/plain": [
       "<Figure size 432x288 with 1 Axes>"
      ]
     },
     "metadata": {
      "needs_background": "light"
     },
     "output_type": "display_data"
    }
   ],
   "source": [
    "nor_sample_data, _ = normalize_img(sample_data, sample_label)\n",
    "print(\"size:{},max:{},min:{}\".format(nor_sample_data.shape,\n",
    "                                     np.max(nor_sample_data),\n",
    "                                     np.min(nor_sample_data)))\n",
    "plt.imshow(nor_sample_data, interpolation='nearest', cmap=\"gray\")\n",
    "plt.show()"
   ]
  },
  {
   "cell_type": "markdown",
   "id": "cubic-convertible",
   "metadata": {},
   "source": [
    "## Build Input Pipeline"
   ]
  },
  {
   "cell_type": "code",
   "execution_count": 9,
   "id": "ethical-blast",
   "metadata": {},
   "outputs": [],
   "source": [
    "ds_train = ds_train.map(normalize_img,\n",
    "                        num_parallel_calls=tf.data.experimental.AUTOTUNE)\\\n",
    "                        .cache()\\\n",
    "                        .shuffle(ds_info.splits['train'].num_examples)\\\n",
    "                        .batch(128)\\\n",
    "                        .prefetch(tf.data.experimental.AUTOTUNE)"
   ]
  },
  {
   "cell_type": "code",
   "execution_count": 10,
   "id": "cognitive-canon",
   "metadata": {},
   "outputs": [],
   "source": [
    "ds_test = ds_test.map(normalize_img,\n",
    "                      num_parallel_calls=tf.data.experimental.AUTOTUNE)\\\n",
    "                    .batch(128)\\\n",
    "                    .cache()\\\n",
    "                    .prefetch(tf.data.experimental.AUTOTUNE)"
   ]
  },
  {
   "cell_type": "markdown",
   "id": "bizarre-synthetic",
   "metadata": {},
   "source": [
    "## Build Model"
   ]
  },
  {
   "cell_type": "code",
   "execution_count": 11,
   "id": "subject-horror",
   "metadata": {},
   "outputs": [],
   "source": [
    "model = tf.keras.models.Sequential([\n",
    "    tf.keras.layers.Flatten(input_shape=(IMG_HEIGHT, IMG_WIDTH)),\n",
    "    tf.keras.layers.Dense(128, activation='relu'),\n",
    "    tf.keras.layers.Dense(10)\n",
    "])"
   ]
  },
  {
   "cell_type": "markdown",
   "id": "radio-little",
   "metadata": {},
   "source": [
    "## Compile Model"
   ]
  },
  {
   "cell_type": "code",
   "execution_count": 12,
   "id": "latest-female",
   "metadata": {},
   "outputs": [],
   "source": [
    "model.compile(\n",
    "    optimizer=tf.keras.optimizers.Adam(0.001),\n",
    "    loss=tf.keras.losses.SparseCategoricalCrossentropy(from_logits=True),\n",
    "    metrics=[tf.keras.metrics.SparseCategoricalAccuracy()],\n",
    ")"
   ]
  },
  {
   "cell_type": "markdown",
   "id": "otherwise-armor",
   "metadata": {},
   "source": [
    "## Train"
   ]
  },
  {
   "cell_type": "code",
   "execution_count": 13,
   "id": "decreased-burner",
   "metadata": {},
   "outputs": [
    {
     "name": "stdout",
     "output_type": "stream",
     "text": [
      "Epoch 1/60\n",
      "469/469 [==============================] - 3s 3ms/step - loss: 0.6142 - sparse_categorical_accuracy: 0.8332 - val_loss: 0.1912 - val_sparse_categorical_accuracy: 0.9477\n",
      "Epoch 2/60\n",
      "469/469 [==============================] - 1s 1ms/step - loss: 0.1723 - sparse_categorical_accuracy: 0.9508 - val_loss: 0.1339 - val_sparse_categorical_accuracy: 0.9603\n",
      "Epoch 3/60\n",
      "469/469 [==============================] - 1s 1ms/step - loss: 0.1220 - sparse_categorical_accuracy: 0.9651 - val_loss: 0.1115 - val_sparse_categorical_accuracy: 0.9653\n",
      "Epoch 4/60\n",
      "469/469 [==============================] - 1s 1ms/step - loss: 0.0908 - sparse_categorical_accuracy: 0.9747 - val_loss: 0.0942 - val_sparse_categorical_accuracy: 0.9708\n",
      "Epoch 5/60\n",
      "469/469 [==============================] - 1s 1ms/step - loss: 0.0740 - sparse_categorical_accuracy: 0.9780 - val_loss: 0.0859 - val_sparse_categorical_accuracy: 0.9738\n",
      "Epoch 6/60\n",
      "469/469 [==============================] - 1s 1ms/step - loss: 0.0574 - sparse_categorical_accuracy: 0.9841 - val_loss: 0.0863 - val_sparse_categorical_accuracy: 0.9737\n",
      "Epoch 7/60\n",
      "469/469 [==============================] - 1s 1ms/step - loss: 0.0516 - sparse_categorical_accuracy: 0.9850 - val_loss: 0.0804 - val_sparse_categorical_accuracy: 0.9749\n",
      "Epoch 8/60\n",
      "469/469 [==============================] - 1s 1ms/step - loss: 0.0436 - sparse_categorical_accuracy: 0.9875 - val_loss: 0.0801 - val_sparse_categorical_accuracy: 0.9743\n",
      "Epoch 9/60\n",
      "469/469 [==============================] - 1s 1ms/step - loss: 0.0351 - sparse_categorical_accuracy: 0.9903 - val_loss: 0.0764 - val_sparse_categorical_accuracy: 0.9774\n",
      "Epoch 10/60\n",
      "469/469 [==============================] - 1s 1ms/step - loss: 0.0301 - sparse_categorical_accuracy: 0.9914 - val_loss: 0.0800 - val_sparse_categorical_accuracy: 0.9756\n",
      "Epoch 11/60\n",
      "469/469 [==============================] - 1s 1ms/step - loss: 0.0246 - sparse_categorical_accuracy: 0.9939 - val_loss: 0.0748 - val_sparse_categorical_accuracy: 0.9779\n",
      "Epoch 12/60\n",
      "469/469 [==============================] - 1s 1ms/step - loss: 0.0221 - sparse_categorical_accuracy: 0.9949 - val_loss: 0.0809 - val_sparse_categorical_accuracy: 0.9775\n",
      "Epoch 13/60\n",
      "469/469 [==============================] - 1s 1ms/step - loss: 0.0195 - sparse_categorical_accuracy: 0.9955 - val_loss: 0.0743 - val_sparse_categorical_accuracy: 0.9786\n",
      "Epoch 14/60\n",
      "469/469 [==============================] - 1s 1ms/step - loss: 0.0165 - sparse_categorical_accuracy: 0.9964 - val_loss: 0.0734 - val_sparse_categorical_accuracy: 0.9778\n",
      "Epoch 15/60\n",
      "469/469 [==============================] - 1s 1ms/step - loss: 0.0139 - sparse_categorical_accuracy: 0.9968 - val_loss: 0.0753 - val_sparse_categorical_accuracy: 0.9790\n",
      "Epoch 16/60\n",
      "469/469 [==============================] - 1s 1ms/step - loss: 0.0122 - sparse_categorical_accuracy: 0.9973 - val_loss: 0.0719 - val_sparse_categorical_accuracy: 0.9789\n",
      "Epoch 17/60\n",
      "469/469 [==============================] - 1s 1ms/step - loss: 0.0107 - sparse_categorical_accuracy: 0.9977 - val_loss: 0.0748 - val_sparse_categorical_accuracy: 0.9799\n",
      "Epoch 18/60\n",
      "469/469 [==============================] - 1s 1ms/step - loss: 0.0079 - sparse_categorical_accuracy: 0.9987 - val_loss: 0.0785 - val_sparse_categorical_accuracy: 0.9790\n",
      "Epoch 19/60\n",
      "469/469 [==============================] - 1s 1ms/step - loss: 0.0071 - sparse_categorical_accuracy: 0.9991 - val_loss: 0.0802 - val_sparse_categorical_accuracy: 0.9779\n",
      "Epoch 20/60\n",
      "469/469 [==============================] - 0s 1ms/step - loss: 0.0074 - sparse_categorical_accuracy: 0.9985 - val_loss: 0.0865 - val_sparse_categorical_accuracy: 0.9774\n",
      "Epoch 21/60\n",
      "469/469 [==============================] - 1s 1ms/step - loss: 0.0054 - sparse_categorical_accuracy: 0.9990 - val_loss: 0.0804 - val_sparse_categorical_accuracy: 0.9779\n",
      "Epoch 22/60\n",
      "469/469 [==============================] - 1s 1ms/step - loss: 0.0052 - sparse_categorical_accuracy: 0.9994 - val_loss: 0.0846 - val_sparse_categorical_accuracy: 0.9785\n",
      "Epoch 23/60\n",
      "469/469 [==============================] - 1s 1ms/step - loss: 0.0036 - sparse_categorical_accuracy: 0.9997 - val_loss: 0.0868 - val_sparse_categorical_accuracy: 0.9788\n",
      "Epoch 24/60\n",
      "469/469 [==============================] - 1s 1ms/step - loss: 0.0046 - sparse_categorical_accuracy: 0.9991 - val_loss: 0.0808 - val_sparse_categorical_accuracy: 0.9798\n",
      "Epoch 25/60\n",
      "469/469 [==============================] - 1s 1ms/step - loss: 0.0036 - sparse_categorical_accuracy: 0.9993 - val_loss: 0.0899 - val_sparse_categorical_accuracy: 0.9784\n",
      "Epoch 26/60\n",
      "469/469 [==============================] - 1s 1ms/step - loss: 0.0032 - sparse_categorical_accuracy: 0.9997 - val_loss: 0.0876 - val_sparse_categorical_accuracy: 0.9791\n",
      "Epoch 27/60\n",
      "469/469 [==============================] - 1s 1ms/step - loss: 0.0024 - sparse_categorical_accuracy: 0.9999 - val_loss: 0.0872 - val_sparse_categorical_accuracy: 0.9798\n",
      "Epoch 28/60\n",
      "469/469 [==============================] - 1s 1ms/step - loss: 0.0016 - sparse_categorical_accuracy: 0.9999 - val_loss: 0.0894 - val_sparse_categorical_accuracy: 0.9798\n",
      "Epoch 29/60\n",
      "469/469 [==============================] - 1s 1ms/step - loss: 0.0028 - sparse_categorical_accuracy: 0.9994 - val_loss: 0.1113 - val_sparse_categorical_accuracy: 0.9756\n",
      "Epoch 30/60\n",
      "469/469 [==============================] - 1s 1ms/step - loss: 0.0057 - sparse_categorical_accuracy: 0.9986 - val_loss: 0.1015 - val_sparse_categorical_accuracy: 0.9778\n",
      "Epoch 31/60\n",
      "469/469 [==============================] - 1s 1ms/step - loss: 0.0037 - sparse_categorical_accuracy: 0.9991 - val_loss: 0.0945 - val_sparse_categorical_accuracy: 0.9799\n",
      "Epoch 32/60\n",
      "469/469 [==============================] - 1s 1ms/step - loss: 6.9046e-04 - sparse_categorical_accuracy: 1.0000 - val_loss: 0.0950 - val_sparse_categorical_accuracy: 0.9795\n",
      "Epoch 33/60\n",
      "469/469 [==============================] - 1s 1ms/step - loss: 5.5035e-04 - sparse_categorical_accuracy: 1.0000 - val_loss: 0.0943 - val_sparse_categorical_accuracy: 0.9805\n",
      "Epoch 34/60\n",
      "469/469 [==============================] - 1s 1ms/step - loss: 5.1372e-04 - sparse_categorical_accuracy: 1.0000 - val_loss: 0.0934 - val_sparse_categorical_accuracy: 0.9796\n",
      "Epoch 35/60\n",
      "469/469 [==============================] - 1s 1ms/step - loss: 6.0877e-04 - sparse_categorical_accuracy: 1.0000 - val_loss: 0.0964 - val_sparse_categorical_accuracy: 0.9795\n",
      "Epoch 36/60\n",
      "469/469 [==============================] - 1s 1ms/step - loss: 4.2190e-04 - sparse_categorical_accuracy: 1.0000 - val_loss: 0.0960 - val_sparse_categorical_accuracy: 0.9798\n",
      "Epoch 37/60\n",
      "469/469 [==============================] - 1s 1ms/step - loss: 3.4655e-04 - sparse_categorical_accuracy: 1.0000 - val_loss: 0.0957 - val_sparse_categorical_accuracy: 0.9800\n",
      "Epoch 38/60\n",
      "469/469 [==============================] - 1s 1ms/step - loss: 9.9316e-04 - sparse_categorical_accuracy: 0.9998 - val_loss: 0.1635 - val_sparse_categorical_accuracy: 0.9663\n",
      "Epoch 39/60\n",
      "469/469 [==============================] - 1s 1ms/step - loss: 0.0137 - sparse_categorical_accuracy: 0.9952 - val_loss: 0.1037 - val_sparse_categorical_accuracy: 0.9789\n",
      "Epoch 40/60\n",
      "469/469 [==============================] - 1s 1ms/step - loss: 0.0023 - sparse_categorical_accuracy: 0.9995 - val_loss: 0.0988 - val_sparse_categorical_accuracy: 0.9800\n",
      "Epoch 41/60\n",
      "469/469 [==============================] - 1s 1ms/step - loss: 4.7984e-04 - sparse_categorical_accuracy: 1.0000 - val_loss: 0.0969 - val_sparse_categorical_accuracy: 0.9804\n",
      "Epoch 42/60\n",
      "469/469 [==============================] - 1s 1ms/step - loss: 3.1396e-04 - sparse_categorical_accuracy: 1.0000 - val_loss: 0.0982 - val_sparse_categorical_accuracy: 0.9805\n",
      "Epoch 43/60\n",
      "469/469 [==============================] - 1s 1ms/step - loss: 2.6575e-04 - sparse_categorical_accuracy: 1.0000 - val_loss: 0.0996 - val_sparse_categorical_accuracy: 0.9806\n",
      "Epoch 44/60\n",
      "469/469 [==============================] - 1s 1ms/step - loss: 2.3908e-04 - sparse_categorical_accuracy: 1.0000 - val_loss: 0.0994 - val_sparse_categorical_accuracy: 0.9807\n",
      "Epoch 45/60\n",
      "469/469 [==============================] - 1s 1ms/step - loss: 2.0832e-04 - sparse_categorical_accuracy: 1.0000 - val_loss: 0.1002 - val_sparse_categorical_accuracy: 0.9807\n",
      "Epoch 46/60\n",
      "469/469 [==============================] - 1s 1ms/step - loss: 2.0762e-04 - sparse_categorical_accuracy: 1.0000 - val_loss: 0.1005 - val_sparse_categorical_accuracy: 0.9807\n",
      "Epoch 47/60\n",
      "469/469 [==============================] - 1s 1ms/step - loss: 1.6930e-04 - sparse_categorical_accuracy: 1.0000 - val_loss: 0.1032 - val_sparse_categorical_accuracy: 0.9797\n",
      "Epoch 48/60\n",
      "469/469 [==============================] - 1s 1ms/step - loss: 0.0114 - sparse_categorical_accuracy: 0.9965 - val_loss: 0.1197 - val_sparse_categorical_accuracy: 0.9782\n",
      "Epoch 49/60\n",
      "469/469 [==============================] - 1s 1ms/step - loss: 0.0041 - sparse_categorical_accuracy: 0.9985 - val_loss: 0.1115 - val_sparse_categorical_accuracy: 0.9789\n",
      "Epoch 50/60\n",
      "469/469 [==============================] - 1s 1ms/step - loss: 6.8569e-04 - sparse_categorical_accuracy: 0.9998 - val_loss: 0.1103 - val_sparse_categorical_accuracy: 0.9802\n",
      "Epoch 51/60\n",
      "469/469 [==============================] - 1s 1ms/step - loss: 3.8194e-04 - sparse_categorical_accuracy: 1.0000 - val_loss: 0.1069 - val_sparse_categorical_accuracy: 0.9806\n",
      "Epoch 52/60\n",
      "469/469 [==============================] - 1s 1ms/step - loss: 2.0758e-04 - sparse_categorical_accuracy: 1.0000 - val_loss: 0.1077 - val_sparse_categorical_accuracy: 0.9803\n",
      "Epoch 53/60\n",
      "469/469 [==============================] - 1s 1ms/step - loss: 1.7495e-04 - sparse_categorical_accuracy: 1.0000 - val_loss: 0.1081 - val_sparse_categorical_accuracy: 0.9804\n",
      "Epoch 54/60\n",
      "469/469 [==============================] - 1s 1ms/step - loss: 1.5110e-04 - sparse_categorical_accuracy: 1.0000 - val_loss: 0.1082 - val_sparse_categorical_accuracy: 0.9803\n",
      "Epoch 55/60\n",
      "469/469 [==============================] - 1s 1ms/step - loss: 1.3210e-04 - sparse_categorical_accuracy: 1.0000 - val_loss: 0.1084 - val_sparse_categorical_accuracy: 0.9804\n",
      "Epoch 56/60\n",
      "469/469 [==============================] - 1s 1ms/step - loss: 1.1533e-04 - sparse_categorical_accuracy: 1.0000 - val_loss: 0.1083 - val_sparse_categorical_accuracy: 0.9806\n",
      "Epoch 57/60\n",
      "469/469 [==============================] - 1s 1ms/step - loss: 1.1339e-04 - sparse_categorical_accuracy: 1.0000 - val_loss: 0.1089 - val_sparse_categorical_accuracy: 0.9800\n",
      "Epoch 58/60\n",
      "469/469 [==============================] - 1s 1ms/step - loss: 9.5680e-05 - sparse_categorical_accuracy: 1.0000 - val_loss: 0.1103 - val_sparse_categorical_accuracy: 0.9801\n",
      "Epoch 59/60\n",
      "469/469 [==============================] - 1s 1ms/step - loss: 8.7008e-05 - sparse_categorical_accuracy: 1.0000 - val_loss: 0.1157 - val_sparse_categorical_accuracy: 0.9785\n",
      "Epoch 60/60\n",
      "469/469 [==============================] - 1s 1ms/step - loss: 0.0185 - sparse_categorical_accuracy: 0.9945 - val_loss: 0.1168 - val_sparse_categorical_accuracy: 0.9793\n"
     ]
    },
    {
     "data": {
      "text/plain": [
       "<tensorflow.python.keras.callbacks.History at 0x180c97640>"
      ]
     },
     "execution_count": 13,
     "metadata": {},
     "output_type": "execute_result"
    }
   ],
   "source": [
    "history = tfcb.History()\n",
    "model.fit(\n",
    "    ds_train,\n",
    "    epochs=60,\n",
    "    validation_data=ds_test,\n",
    "    callbacks=[history]\n",
    ")"
   ]
  },
  {
   "cell_type": "markdown",
   "id": "comparable-overhead",
   "metadata": {},
   "source": [
    "## Visualize Training Result"
   ]
  },
  {
   "cell_type": "code",
   "execution_count": 14,
   "id": "cleared-doctor",
   "metadata": {},
   "outputs": [],
   "source": [
    "def show_history(history):\n",
    "    train_loss = history.history['loss']\n",
    "    train_acc = history.history['sparse_categorical_accuracy']\n",
    "    val_loss = history.history['val_loss']\n",
    "    val_acc = history.history['val_sparse_categorical_accuracy']\n",
    "\n",
    "    t = np.arange(0, len(train_loss), 1)\n",
    "    fig, axs = plt.subplots(2, 1)\n",
    "\n",
    "    color = 'tab:red'\n",
    "    axs[0].set_xlabel('epoch')\n",
    "    axs[0].set_ylabel('train_loss', color=color)\n",
    "    axs[0].plot(t, train_loss, color=color)\n",
    "    axs[0].tick_params(axis='y', labelcolor=color)\n",
    "\n",
    "    ax12 = axs[0].twinx()  # instantiate a second axes that shares the same x-axis\n",
    "\n",
    "    color = 'tab:blue'\n",
    "    ax12.set_ylabel('train_acc', color=color)  # we already handled the x-label with ax1\n",
    "    ax12.plot(t, train_acc, color=color)\n",
    "    ax12.tick_params(axis='y', labelcolor=color)\n",
    "\n",
    "    color = 'tab:red'\n",
    "    axs[1].set_xlabel('epoch')\n",
    "    axs[1].set_ylabel('val_loss', color=color)\n",
    "    axs[1].plot(t, val_loss, color=color)\n",
    "    axs[1].tick_params(axis='y', labelcolor=color)\n",
    "\n",
    "    ax22 = axs[1].twinx()  # instantiate a second axes that shares the same x-axis\n",
    "\n",
    "    color = 'tab:blue'\n",
    "    ax22.set_ylabel('val_acc', color=color)  # we already handled the x-label with ax1\n",
    "    ax22.plot(t, val_acc, color=color)\n",
    "    ax22.tick_params(axis='y', labelcolor=color)\n",
    "\n",
    "    fig.tight_layout()\n",
    "    plt.show()"
   ]
  },
  {
   "cell_type": "code",
   "execution_count": 15,
   "id": "handy-dryer",
   "metadata": {},
   "outputs": [
    {
     "data": {
      "image/png": "[encoded data removed]",
      "text/plain": [
       "<Figure size 432x288 with 4 Axes>"
      ]
     },
     "metadata": {
      "needs_background": "light"
     },
     "output_type": "display_data"
    }
   ],
   "source": [
    "show_history(history)"
   ]
  },
  {
   "cell_type": "markdown",
   "id": "subject-nightlife",
   "metadata": {},
   "source": [
    "其实可以看出，10个epoch后就开始过拟合了。"
   ]
  },
  {
   "cell_type": "markdown",
   "id": "proud-deadline",
   "metadata": {},
   "source": [
    "## 添加Dropout层\n",
    "减少过拟合"
   ]
  },
  {
   "cell_type": "code",
   "execution_count": 16,
   "id": "norman-receptor",
   "metadata": {},
   "outputs": [
    {
     "name": "stdout",
     "output_type": "stream",
     "text": [
      "Epoch 1/60\n",
      "469/469 [==============================] - 1s 2ms/step - loss: 0.7329 - sparse_categorical_accuracy: 0.7820 - val_loss: 0.2098 - val_sparse_categorical_accuracy: 0.9397\n",
      "Epoch 2/60\n",
      "469/469 [==============================] - 1s 1ms/step - loss: 0.2586 - sparse_categorical_accuracy: 0.9228 - val_loss: 0.1486 - val_sparse_categorical_accuracy: 0.9566\n",
      "Epoch 3/60\n",
      "469/469 [==============================] - 1s 2ms/step - loss: 0.1919 - sparse_categorical_accuracy: 0.9415 - val_loss: 0.1195 - val_sparse_categorical_accuracy: 0.9635\n",
      "Epoch 4/60\n",
      "469/469 [==============================] - 1s 1ms/step - loss: 0.1558 - sparse_categorical_accuracy: 0.9524 - val_loss: 0.1052 - val_sparse_categorical_accuracy: 0.9680\n",
      "Epoch 5/60\n",
      "469/469 [==============================] - 1s 2ms/step - loss: 0.1403 - sparse_categorical_accuracy: 0.9570 - val_loss: 0.0900 - val_sparse_categorical_accuracy: 0.9731\n",
      "Epoch 6/60\n",
      "469/469 [==============================] - 1s 1ms/step - loss: 0.1280 - sparse_categorical_accuracy: 0.9610 - val_loss: 0.0862 - val_sparse_categorical_accuracy: 0.9738\n",
      "Epoch 7/60\n",
      "469/469 [==============================] - 1s 1ms/step - loss: 0.1123 - sparse_categorical_accuracy: 0.9643 - val_loss: 0.0785 - val_sparse_categorical_accuracy: 0.9764\n",
      "Epoch 8/60\n",
      "469/469 [==============================] - 1s 1ms/step - loss: 0.1065 - sparse_categorical_accuracy: 0.9671 - val_loss: 0.0738 - val_sparse_categorical_accuracy: 0.9777\n",
      "Epoch 9/60\n",
      "469/469 [==============================] - 1s 1ms/step - loss: 0.0991 - sparse_categorical_accuracy: 0.9687 - val_loss: 0.0753 - val_sparse_categorical_accuracy: 0.9756\n",
      "Epoch 10/60\n",
      "469/469 [==============================] - 1s 1ms/step - loss: 0.0922 - sparse_categorical_accuracy: 0.9717 - val_loss: 0.0701 - val_sparse_categorical_accuracy: 0.9792\n",
      "Epoch 11/60\n",
      "469/469 [==============================] - 1s 1ms/step - loss: 0.0886 - sparse_categorical_accuracy: 0.9716 - val_loss: 0.0697 - val_sparse_categorical_accuracy: 0.9791\n",
      "Epoch 12/60\n",
      "469/469 [==============================] - 1s 1ms/step - loss: 0.0819 - sparse_categorical_accuracy: 0.9742 - val_loss: 0.0668 - val_sparse_categorical_accuracy: 0.9793\n",
      "Epoch 13/60\n",
      "469/469 [==============================] - 1s 2ms/step - loss: 0.0802 - sparse_categorical_accuracy: 0.9740 - val_loss: 0.0679 - val_sparse_categorical_accuracy: 0.9793\n",
      "Epoch 14/60\n",
      "469/469 [==============================] - 1s 1ms/step - loss: 0.0789 - sparse_categorical_accuracy: 0.9748 - val_loss: 0.0651 - val_sparse_categorical_accuracy: 0.9805\n",
      "Epoch 15/60\n",
      "469/469 [==============================] - 1s 1ms/step - loss: 0.0722 - sparse_categorical_accuracy: 0.9768 - val_loss: 0.0695 - val_sparse_categorical_accuracy: 0.9794\n",
      "Epoch 16/60\n",
      "469/469 [==============================] - 1s 1ms/step - loss: 0.0684 - sparse_categorical_accuracy: 0.9772 - val_loss: 0.0644 - val_sparse_categorical_accuracy: 0.9808\n",
      "Epoch 17/60\n",
      "469/469 [==============================] - 1s 2ms/step - loss: 0.0704 - sparse_categorical_accuracy: 0.9773 - val_loss: 0.0603 - val_sparse_categorical_accuracy: 0.9812\n",
      "Epoch 18/60\n",
      "469/469 [==============================] - 1s 1ms/step - loss: 0.0672 - sparse_categorical_accuracy: 0.9781 - val_loss: 0.0625 - val_sparse_categorical_accuracy: 0.9817\n",
      "Epoch 19/60\n",
      "469/469 [==============================] - 1s 1ms/step - loss: 0.0668 - sparse_categorical_accuracy: 0.9785 - val_loss: 0.0614 - val_sparse_categorical_accuracy: 0.9827\n",
      "Epoch 20/60\n",
      "469/469 [==============================] - 1s 1ms/step - loss: 0.0651 - sparse_categorical_accuracy: 0.9787 - val_loss: 0.0602 - val_sparse_categorical_accuracy: 0.9816\n",
      "Epoch 21/60\n",
      "469/469 [==============================] - 1s 1ms/step - loss: 0.0628 - sparse_categorical_accuracy: 0.9808 - val_loss: 0.0640 - val_sparse_categorical_accuracy: 0.9800\n",
      "Epoch 22/60\n",
      "469/469 [==============================] - 1s 1ms/step - loss: 0.0573 - sparse_categorical_accuracy: 0.9809 - val_loss: 0.0599 - val_sparse_categorical_accuracy: 0.9824\n",
      "Epoch 23/60\n",
      "469/469 [==============================] - 1s 1ms/step - loss: 0.0568 - sparse_categorical_accuracy: 0.9810 - val_loss: 0.0597 - val_sparse_categorical_accuracy: 0.9824\n",
      "Epoch 24/60\n",
      "469/469 [==============================] - 1s 1ms/step - loss: 0.0581 - sparse_categorical_accuracy: 0.9809 - val_loss: 0.0605 - val_sparse_categorical_accuracy: 0.9811\n",
      "Epoch 25/60\n",
      "469/469 [==============================] - 1s 2ms/step - loss: 0.0567 - sparse_categorical_accuracy: 0.9808 - val_loss: 0.0587 - val_sparse_categorical_accuracy: 0.9815\n",
      "Epoch 26/60\n",
      "469/469 [==============================] - 1s 2ms/step - loss: 0.0575 - sparse_categorical_accuracy: 0.9815 - val_loss: 0.0612 - val_sparse_categorical_accuracy: 0.9814\n",
      "Epoch 27/60\n",
      "469/469 [==============================] - 1s 1ms/step - loss: 0.0549 - sparse_categorical_accuracy: 0.9813 - val_loss: 0.0627 - val_sparse_categorical_accuracy: 0.9820\n",
      "Epoch 28/60\n",
      "469/469 [==============================] - 1s 1ms/step - loss: 0.0518 - sparse_categorical_accuracy: 0.9831 - val_loss: 0.0632 - val_sparse_categorical_accuracy: 0.9808\n",
      "Epoch 29/60\n",
      "469/469 [==============================] - 1s 1ms/step - loss: 0.0536 - sparse_categorical_accuracy: 0.9817 - val_loss: 0.0616 - val_sparse_categorical_accuracy: 0.9825\n",
      "Epoch 30/60\n",
      "469/469 [==============================] - 1s 1ms/step - loss: 0.0501 - sparse_categorical_accuracy: 0.9836 - val_loss: 0.0612 - val_sparse_categorical_accuracy: 0.9821\n",
      "Epoch 31/60\n",
      "469/469 [==============================] - 1s 1ms/step - loss: 0.0497 - sparse_categorical_accuracy: 0.9834 - val_loss: 0.0653 - val_sparse_categorical_accuracy: 0.9819\n",
      "Epoch 32/60\n",
      "469/469 [==============================] - 1s 1ms/step - loss: 0.0542 - sparse_categorical_accuracy: 0.9824 - val_loss: 0.0582 - val_sparse_categorical_accuracy: 0.9821\n",
      "Epoch 33/60\n",
      "469/469 [==============================] - 1s 1ms/step - loss: 0.0500 - sparse_categorical_accuracy: 0.9839 - val_loss: 0.0592 - val_sparse_categorical_accuracy: 0.9819\n",
      "Epoch 34/60\n",
      "469/469 [==============================] - 1s 1ms/step - loss: 0.0474 - sparse_categorical_accuracy: 0.9838 - val_loss: 0.0607 - val_sparse_categorical_accuracy: 0.9814\n",
      "Epoch 35/60\n",
      "469/469 [==============================] - 1s 1ms/step - loss: 0.0479 - sparse_categorical_accuracy: 0.9838 - val_loss: 0.0599 - val_sparse_categorical_accuracy: 0.9819\n",
      "Epoch 36/60\n",
      "469/469 [==============================] - 1s 1ms/step - loss: 0.0468 - sparse_categorical_accuracy: 0.9836 - val_loss: 0.0625 - val_sparse_categorical_accuracy: 0.9814\n",
      "Epoch 37/60\n",
      "469/469 [==============================] - 1s 1ms/step - loss: 0.0461 - sparse_categorical_accuracy: 0.9842 - val_loss: 0.0603 - val_sparse_categorical_accuracy: 0.9826\n",
      "Epoch 38/60\n",
      "469/469 [==============================] - 1s 1ms/step - loss: 0.0467 - sparse_categorical_accuracy: 0.9847 - val_loss: 0.0588 - val_sparse_categorical_accuracy: 0.9825\n",
      "Epoch 39/60\n",
      "469/469 [==============================] - 1s 1ms/step - loss: 0.0468 - sparse_categorical_accuracy: 0.9838 - val_loss: 0.0621 - val_sparse_categorical_accuracy: 0.9820\n",
      "Epoch 40/60\n",
      "469/469 [==============================] - 1s 1ms/step - loss: 0.0470 - sparse_categorical_accuracy: 0.9841 - val_loss: 0.0592 - val_sparse_categorical_accuracy: 0.9825\n",
      "Epoch 41/60\n",
      "469/469 [==============================] - 1s 1ms/step - loss: 0.0464 - sparse_categorical_accuracy: 0.9844 - val_loss: 0.0584 - val_sparse_categorical_accuracy: 0.9832\n",
      "Epoch 42/60\n",
      "469/469 [==============================] - 1s 1ms/step - loss: 0.0440 - sparse_categorical_accuracy: 0.9852 - val_loss: 0.0643 - val_sparse_categorical_accuracy: 0.9820\n",
      "Epoch 43/60\n",
      "469/469 [==============================] - 1s 1ms/step - loss: 0.0471 - sparse_categorical_accuracy: 0.9843 - val_loss: 0.0589 - val_sparse_categorical_accuracy: 0.9837\n",
      "Epoch 44/60\n",
      "469/469 [==============================] - 1s 1ms/step - loss: 0.0444 - sparse_categorical_accuracy: 0.9842 - val_loss: 0.0621 - val_sparse_categorical_accuracy: 0.9822\n",
      "Epoch 45/60\n",
      "469/469 [==============================] - 1s 1ms/step - loss: 0.0447 - sparse_categorical_accuracy: 0.9837 - val_loss: 0.0614 - val_sparse_categorical_accuracy: 0.9827\n",
      "Epoch 46/60\n",
      "469/469 [==============================] - 1s 1ms/step - loss: 0.0435 - sparse_categorical_accuracy: 0.9855 - val_loss: 0.0610 - val_sparse_categorical_accuracy: 0.9830\n",
      "Epoch 47/60\n",
      "469/469 [==============================] - 1s 1ms/step - loss: 0.0447 - sparse_categorical_accuracy: 0.9843 - val_loss: 0.0600 - val_sparse_categorical_accuracy: 0.9833\n",
      "Epoch 48/60\n",
      "469/469 [==============================] - 1s 2ms/step - loss: 0.0436 - sparse_categorical_accuracy: 0.9849 - val_loss: 0.0590 - val_sparse_categorical_accuracy: 0.9837\n",
      "Epoch 49/60\n",
      "469/469 [==============================] - 1s 1ms/step - loss: 0.0426 - sparse_categorical_accuracy: 0.9850 - val_loss: 0.0630 - val_sparse_categorical_accuracy: 0.9821\n",
      "Epoch 50/60\n",
      "469/469 [==============================] - 1s 1ms/step - loss: 0.0396 - sparse_categorical_accuracy: 0.9866 - val_loss: 0.0606 - val_sparse_categorical_accuracy: 0.9831\n",
      "Epoch 51/60\n",
      "469/469 [==============================] - 1s 2ms/step - loss: 0.0421 - sparse_categorical_accuracy: 0.9850 - val_loss: 0.0635 - val_sparse_categorical_accuracy: 0.9827\n",
      "Epoch 52/60\n",
      "469/469 [==============================] - 1s 1ms/step - loss: 0.0403 - sparse_categorical_accuracy: 0.9864 - val_loss: 0.0609 - val_sparse_categorical_accuracy: 0.9827\n",
      "Epoch 53/60\n",
      "469/469 [==============================] - 1s 1ms/step - loss: 0.0415 - sparse_categorical_accuracy: 0.9858 - val_loss: 0.0586 - val_sparse_categorical_accuracy: 0.9833\n",
      "Epoch 54/60\n",
      "469/469 [==============================] - 1s 1ms/step - loss: 0.0390 - sparse_categorical_accuracy: 0.9869 - val_loss: 0.0581 - val_sparse_categorical_accuracy: 0.9831\n",
      "Epoch 55/60\n",
      "469/469 [==============================] - 1s 1ms/step - loss: 0.0402 - sparse_categorical_accuracy: 0.9862 - val_loss: 0.0587 - val_sparse_categorical_accuracy: 0.9825\n",
      "Epoch 56/60\n",
      "469/469 [==============================] - 1s 1ms/step - loss: 0.0405 - sparse_categorical_accuracy: 0.9865 - val_loss: 0.0620 - val_sparse_categorical_accuracy: 0.9828\n",
      "Epoch 57/60\n",
      "469/469 [==============================] - 1s 1ms/step - loss: 0.0363 - sparse_categorical_accuracy: 0.9876 - val_loss: 0.0620 - val_sparse_categorical_accuracy: 0.9838\n",
      "Epoch 58/60\n",
      "469/469 [==============================] - 1s 1ms/step - loss: 0.0391 - sparse_categorical_accuracy: 0.9866 - val_loss: 0.0592 - val_sparse_categorical_accuracy: 0.9834\n",
      "Epoch 59/60\n",
      "469/469 [==============================] - 1s 1ms/step - loss: 0.0386 - sparse_categorical_accuracy: 0.9866 - val_loss: 0.0651 - val_sparse_categorical_accuracy: 0.9822\n",
      "Epoch 60/60\n",
      "469/469 [==============================] - 1s 2ms/step - loss: 0.0399 - sparse_categorical_accuracy: 0.9864 - val_loss: 0.0588 - val_sparse_categorical_accuracy: 0.9830\n"
     ]
    },
    {
     "data": {
      "text/plain": [
       "<tensorflow.python.keras.callbacks.History at 0x1818e5820>"
      ]
     },
     "execution_count": 16,
     "metadata": {},
     "output_type": "execute_result"
    }
   ],
   "source": [
    "model2 = tf.keras.models.Sequential([\n",
    "    tf.keras.layers.Flatten(input_shape=(IMG_HEIGHT, IMG_WIDTH)),\n",
    "    tf.keras.layers.Dropout(0.2),\n",
    "    tf.keras.layers.Dense(128, activation='relu'),\n",
    "    tf.keras.layers.Dropout(0.2),\n",
    "    tf.keras.layers.Dense(10)\n",
    "])\n",
    "\n",
    "model2.compile(\n",
    "    optimizer=tf.keras.optimizers.Adam(0.001),\n",
    "    loss=tf.keras.losses.SparseCategoricalCrossentropy(from_logits=True),\n",
    "    metrics=[tf.keras.metrics.SparseCategoricalAccuracy()],\n",
    ")\n",
    "\n",
    "history2 = tfcb.History()\n",
    "model2.fit(\n",
    "    ds_train,\n",
    "    epochs=60,\n",
    "    validation_data=ds_test,\n",
    "    callbacks=[history2]\n",
    ")"
   ]
  },
  {
   "cell_type": "code",
   "execution_count": 17,
   "id": "bottom-verification",
   "metadata": {},
   "outputs": [
    {
     "data": {
      "image/png": "[encoded data removed]",
      "text/plain": [
       "<Figure size 432x288 with 4 Axes>"
      ]
     },
     "metadata": {
      "needs_background": "light"
     },
     "output_type": "display_data"
    }
   ],
   "source": [
    "show_history(history2)"
   ]
  },
  {
   "cell_type": "markdown",
   "id": "subtle-gather",
   "metadata": {},
   "source": [
    "## 拿张图片试试\n",
    "我们从网上找一个数据集之外的图片看看"
   ]
  },
  {
   "cell_type": "code",
   "execution_count": 18,
   "id": "african-transcript",
   "metadata": {},
   "outputs": [
    {
     "data": {
      "image/png": "[encoded data removed]",
      "text/plain": [
       "<Figure size 432x288 with 1 Axes>"
      ]
     },
     "metadata": {
      "needs_background": "light"
     },
     "output_type": "display_data"
    },
    {
     "data": {
      "image/png": "[encoded data removed]",
      "text/plain": [
       "<Figure size 432x288 with 1 Axes>"
      ]
     },
     "metadata": {
      "needs_background": "light"
     },
     "output_type": "display_data"
    }
   ],
   "source": [
    "sunflower_url = \"https://gimg2.baidu.com/image_search/src=http%3A%2F%2Fbpic.588ku.com%2Felement_origin_min_pic%2F18%2F06%2F09%2F45fb84189924b2e6695f494ab9e2df89.jpg&refer=http%3A%2F%2Fbpic.588ku.com&app=2002&size=f9999,10000&q=a80&n=0&g=0n&fmt=jpeg?sec=1615431034&t=3c1aaed9443c89ef8594d689eac0e5bc\"\n",
    "sunflower_path = tf.keras.utils.get_file('Red_sunflower', origin=sunflower_url)\n",
    "\n",
    "img_origin = tf.keras.preprocessing.image.load_img(\n",
    "    sunflower_path\n",
    ")\n",
    "plt.imshow(img_origin, interpolation='nearest')\n",
    "plt.show()\n",
    "\n",
    "\n",
    "img = tf.keras.preprocessing.image.load_img(\n",
    "    sunflower_path, target_size=(IMG_HEIGHT, IMG_WIDTH), color_mode=\"grayscale\"\n",
    ")\n",
    "plt.imshow(img, interpolation='nearest', cmap=\"gray\")\n",
    "plt.show()"
   ]
  },
  {
   "cell_type": "markdown",
   "id": "biological-carol",
   "metadata": {},
   "source": [
    "需要注意的是，这里的格式和我们的训练集是完全相反的，训练集的数字主体是非0值（白色），背景是0（黑色）。虽然我们人一眼就能看出这是5（因为黑色白色对我们没影响，我们是根据空间结构判断的），但是对于机器来说这个input的特征和训练时遇到的5基本没啥相似点，很大可能会识别为别的数字（我试了，它认为这个是铁7）。所以我们需要对这个图片预处理一下，让其符合我们模型的输入分布。"
   ]
  },
  {
   "cell_type": "code",
   "execution_count": 19,
   "id": "experimental-reynolds",
   "metadata": {},
   "outputs": [
    {
     "data": {
      "image/png": "[encoded data removed]",
      "text/plain": [
       "<Figure size 432x288 with 1 Axes>"
      ]
     },
     "metadata": {
      "needs_background": "light"
     },
     "output_type": "display_data"
    }
   ],
   "source": [
    "img_fixed = PIL.ImageOps.invert(img)\n",
    "plt.imshow(img_fixed, interpolation='nearest', cmap=\"gray\")\n",
    "plt.show()"
   ]
  },
  {
   "cell_type": "markdown",
   "id": "joint-parcel",
   "metadata": {},
   "source": [
    "是骡子是马，拉出来溜溜！"
   ]
  },
  {
   "cell_type": "code",
   "execution_count": 20,
   "id": "retained-puzzle",
   "metadata": {},
   "outputs": [
    {
     "name": "stdout",
     "output_type": "stream",
     "text": [
      "This image most likely belongs to 5 with a 100.00 percent confidence.\n"
     ]
    }
   ],
   "source": [
    "img_array = tf.keras.preprocessing.image.img_to_array(img_fixed)\n",
    "img_array = tf.expand_dims(img_array, 0) # Create a batch\n",
    "predictions = model2.predict(img_array)\n",
    "score = tf.nn.softmax(predictions[0])\n",
    "class_names = list(range(10))\n",
    "print(\n",
    "    \"This image most likely belongs to {} with a {:.2f} percent confidence.\"\n",
    "    .format(class_names[np.argmax(score)], 100 * np.max(score))\n",
    ")"
   ]
  },
  {
   "cell_type": "markdown",
   "id": "becoming-particle",
   "metadata": {},
   "source": [
    "✌️"
   ]
  }
 ],
 "metadata": {
  "kernelspec": {
   "display_name": "Python 3",
   "language": "python",
   "name": "python3"
  },
  "language_info": {
   "codemirror_mode": {
    "name": "ipython",
    "version": 3
   },
   "file_extension": ".py",
   "mimetype": "text/x-python",
   "name": "python",
   "nbconvert_exporter": "python",
   "pygments_lexer": "ipython3",
   "version": "3.8.0"
  }
 },
 "nbformat": 4,
 "nbformat_minor": 5
}
