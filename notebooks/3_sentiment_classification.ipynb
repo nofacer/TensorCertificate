{
  "nbformat": 4,
  "nbformat_minor": 5,
  "metadata": {
    "kernelspec": {
      "display_name": "Python 3",
      "language": "python",
      "name": "python3"
    },
    "language_info": {
      "codemirror_mode": {
        "name": "ipython",
        "version": 3
      },
      "file_extension": ".py",
      "mimetype": "text/x-python",
      "name": "python",
      "nbconvert_exporter": "python",
      "pygments_lexer": "ipython3",
      "version": "3.8.0"
    },
    "colab": {
      "name": "3_sentiment classification.ipynb",
      "provenance": [],
      "collapsed_sections": [
        "informational-france"
      ],
      "toc_visible": true
    },
    "accelerator": "GPU"
  },
  "cells": [
    {
      "cell_type": "code",
      "metadata": {
        "id": "1L5DYnJuFwiG",
        "colab": {
          "base_uri": "https://localhost:8080/"
        },
        "outputId": "4d070283-fba5-47c1-f0a9-f9e4f3467967"
      },
      "source": [
        "! pip install tensorflow_history_plot"
      ],
      "id": "1L5DYnJuFwiG",
      "execution_count": 1,
      "outputs": [
        {
          "output_type": "stream",
          "text": [
            "Requirement already satisfied: tensorflow_history_plot in /usr/local/lib/python3.7/dist-packages (0.1.2)\n",
            "Requirement already satisfied: matplotlib in /usr/local/lib/python3.7/dist-packages (from tensorflow_history_plot) (3.2.2)\n",
            "Requirement already satisfied: tensorflow in /usr/local/lib/python3.7/dist-packages (from tensorflow_history_plot) (2.4.1)\n",
            "Requirement already satisfied: numpy in /usr/local/lib/python3.7/dist-packages (from tensorflow_history_plot) (1.19.5)\n",
            "Requirement already satisfied: python-dateutil>=2.1 in /usr/local/lib/python3.7/dist-packages (from matplotlib->tensorflow_history_plot) (2.8.1)\n",
            "Requirement already satisfied: pyparsing!=2.0.4,!=2.1.2,!=2.1.6,>=2.0.1 in /usr/local/lib/python3.7/dist-packages (from matplotlib->tensorflow_history_plot) (2.4.7)\n",
            "Requirement already satisfied: cycler>=0.10 in /usr/local/lib/python3.7/dist-packages (from matplotlib->tensorflow_history_plot) (0.10.0)\n",
            "Requirement already satisfied: kiwisolver>=1.0.1 in /usr/local/lib/python3.7/dist-packages (from matplotlib->tensorflow_history_plot) (1.3.1)\n",
            "Requirement already satisfied: google-pasta~=0.2 in /usr/local/lib/python3.7/dist-packages (from tensorflow->tensorflow_history_plot) (0.2.0)\n",
            "Requirement already satisfied: h5py~=2.10.0 in /usr/local/lib/python3.7/dist-packages (from tensorflow->tensorflow_history_plot) (2.10.0)\n",
            "Requirement already satisfied: wheel~=0.35 in /usr/local/lib/python3.7/dist-packages (from tensorflow->tensorflow_history_plot) (0.36.2)\n",
            "Requirement already satisfied: wrapt~=1.12.1 in /usr/local/lib/python3.7/dist-packages (from tensorflow->tensorflow_history_plot) (1.12.1)\n",
            "Requirement already satisfied: astunparse~=1.6.3 in /usr/local/lib/python3.7/dist-packages (from tensorflow->tensorflow_history_plot) (1.6.3)\n",
            "Requirement already satisfied: opt-einsum~=3.3.0 in /usr/local/lib/python3.7/dist-packages (from tensorflow->tensorflow_history_plot) (3.3.0)\n",
            "Requirement already satisfied: six~=1.15.0 in /usr/local/lib/python3.7/dist-packages (from tensorflow->tensorflow_history_plot) (1.15.0)\n",
            "Requirement already satisfied: tensorboard~=2.4 in /usr/local/lib/python3.7/dist-packages (from tensorflow->tensorflow_history_plot) (2.4.1)\n",
            "Requirement already satisfied: absl-py~=0.10 in /usr/local/lib/python3.7/dist-packages (from tensorflow->tensorflow_history_plot) (0.10.0)\n",
            "Requirement already satisfied: flatbuffers~=1.12.0 in /usr/local/lib/python3.7/dist-packages (from tensorflow->tensorflow_history_plot) (1.12)\n",
            "Requirement already satisfied: termcolor~=1.1.0 in /usr/local/lib/python3.7/dist-packages (from tensorflow->tensorflow_history_plot) (1.1.0)\n",
            "Requirement already satisfied: gast==0.3.3 in /usr/local/lib/python3.7/dist-packages (from tensorflow->tensorflow_history_plot) (0.3.3)\n",
            "Requirement already satisfied: tensorflow-estimator<2.5.0,>=2.4.0 in /usr/local/lib/python3.7/dist-packages (from tensorflow->tensorflow_history_plot) (2.4.0)\n",
            "Requirement already satisfied: grpcio~=1.32.0 in /usr/local/lib/python3.7/dist-packages (from tensorflow->tensorflow_history_plot) (1.32.0)\n",
            "Requirement already satisfied: protobuf>=3.9.2 in /usr/local/lib/python3.7/dist-packages (from tensorflow->tensorflow_history_plot) (3.12.4)\n",
            "Requirement already satisfied: keras-preprocessing~=1.1.2 in /usr/local/lib/python3.7/dist-packages (from tensorflow->tensorflow_history_plot) (1.1.2)\n",
            "Requirement already satisfied: typing-extensions~=3.7.4 in /usr/local/lib/python3.7/dist-packages (from tensorflow->tensorflow_history_plot) (3.7.4.3)\n",
            "Requirement already satisfied: setuptools>=41.0.0 in /usr/local/lib/python3.7/dist-packages (from tensorboard~=2.4->tensorflow->tensorflow_history_plot) (53.0.0)\n",
            "Requirement already satisfied: werkzeug>=0.11.15 in /usr/local/lib/python3.7/dist-packages (from tensorboard~=2.4->tensorflow->tensorflow_history_plot) (1.0.1)\n",
            "Requirement already satisfied: google-auth-oauthlib<0.5,>=0.4.1 in /usr/local/lib/python3.7/dist-packages (from tensorboard~=2.4->tensorflow->tensorflow_history_plot) (0.4.2)\n",
            "Requirement already satisfied: tensorboard-plugin-wit>=1.6.0 in /usr/local/lib/python3.7/dist-packages (from tensorboard~=2.4->tensorflow->tensorflow_history_plot) (1.8.0)\n",
            "Requirement already satisfied: google-auth<2,>=1.6.3 in /usr/local/lib/python3.7/dist-packages (from tensorboard~=2.4->tensorflow->tensorflow_history_plot) (1.27.0)\n",
            "Requirement already satisfied: markdown>=2.6.8 in /usr/local/lib/python3.7/dist-packages (from tensorboard~=2.4->tensorflow->tensorflow_history_plot) (3.3.4)\n",
            "Requirement already satisfied: requests<3,>=2.21.0 in /usr/local/lib/python3.7/dist-packages (from tensorboard~=2.4->tensorflow->tensorflow_history_plot) (2.23.0)\n",
            "Requirement already satisfied: requests-oauthlib>=0.7.0 in /usr/local/lib/python3.7/dist-packages (from google-auth-oauthlib<0.5,>=0.4.1->tensorboard~=2.4->tensorflow->tensorflow_history_plot) (1.3.0)\n",
            "Requirement already satisfied: cachetools<5.0,>=2.0.0 in /usr/local/lib/python3.7/dist-packages (from google-auth<2,>=1.6.3->tensorboard~=2.4->tensorflow->tensorflow_history_plot) (4.2.1)\n",
            "Requirement already satisfied: pyasn1-modules>=0.2.1 in /usr/local/lib/python3.7/dist-packages (from google-auth<2,>=1.6.3->tensorboard~=2.4->tensorflow->tensorflow_history_plot) (0.2.8)\n",
            "Requirement already satisfied: rsa<5,>=3.1.4; python_version >= \"3.6\" in /usr/local/lib/python3.7/dist-packages (from google-auth<2,>=1.6.3->tensorboard~=2.4->tensorflow->tensorflow_history_plot) (4.7.2)\n",
            "Requirement already satisfied: importlib-metadata; python_version < \"3.8\" in /usr/local/lib/python3.7/dist-packages (from markdown>=2.6.8->tensorboard~=2.4->tensorflow->tensorflow_history_plot) (3.7.0)\n",
            "Requirement already satisfied: chardet<4,>=3.0.2 in /usr/local/lib/python3.7/dist-packages (from requests<3,>=2.21.0->tensorboard~=2.4->tensorflow->tensorflow_history_plot) (3.0.4)\n",
            "Requirement already satisfied: idna<3,>=2.5 in /usr/local/lib/python3.7/dist-packages (from requests<3,>=2.21.0->tensorboard~=2.4->tensorflow->tensorflow_history_plot) (2.10)\n",
            "Requirement already satisfied: certifi>=2017.4.17 in /usr/local/lib/python3.7/dist-packages (from requests<3,>=2.21.0->tensorboard~=2.4->tensorflow->tensorflow_history_plot) (2020.12.5)\n",
            "Requirement already satisfied: urllib3!=1.25.0,!=1.25.1,<1.26,>=1.21.1 in /usr/local/lib/python3.7/dist-packages (from requests<3,>=2.21.0->tensorboard~=2.4->tensorflow->tensorflow_history_plot) (1.24.3)\n",
            "Requirement already satisfied: oauthlib>=3.0.0 in /usr/local/lib/python3.7/dist-packages (from requests-oauthlib>=0.7.0->google-auth-oauthlib<0.5,>=0.4.1->tensorboard~=2.4->tensorflow->tensorflow_history_plot) (3.1.0)\n",
            "Requirement already satisfied: pyasn1<0.5.0,>=0.4.6 in /usr/local/lib/python3.7/dist-packages (from pyasn1-modules>=0.2.1->google-auth<2,>=1.6.3->tensorboard~=2.4->tensorflow->tensorflow_history_plot) (0.4.8)\n",
            "Requirement already satisfied: zipp>=0.5 in /usr/local/lib/python3.7/dist-packages (from importlib-metadata; python_version < \"3.8\"->markdown>=2.6.8->tensorboard~=2.4->tensorflow->tensorflow_history_plot) (3.4.0)\n"
          ],
          "name": "stdout"
        }
      ]
    },
    {
      "cell_type": "code",
      "metadata": {
        "id": "amber-visibility"
      },
      "source": [
        "import io\n",
        "import os\n",
        "import re\n",
        "import shutil\n",
        "import string\n",
        "import tensorflow as tf\n",
        "\n",
        "from datetime import datetime\n",
        "from tensorflow.keras import Model, Sequential\n",
        "from tensorflow.keras.layers import Activation, Dense, Embedding, GlobalAveragePooling1D\n",
        "from tensorflow.keras.layers.experimental.preprocessing import TextVectorization\n",
        "from tensorflow_history_plot import show_acc"
      ],
      "id": "amber-visibility",
      "execution_count": 2,
      "outputs": []
    },
    {
      "cell_type": "code",
      "metadata": {
        "id": "qLDq2ugzFv4h"
      },
      "source": [
        "gpus = tf.config.experimental.list_physical_devices('GPU')\n",
        "if gpus:\n",
        "  # Restrict TensorFlow to only use the first GPU\n",
        "  try:\n",
        "    tf.config.experimental.set_visible_devices(gpus[0], 'GPU')\n",
        "  except RuntimeError as e:\n",
        "    # Visible devices must be set at program startup\n",
        "    print(e)"
      ],
      "id": "qLDq2ugzFv4h",
      "execution_count": 3,
      "outputs": []
    },
    {
      "cell_type": "markdown",
      "metadata": {
        "id": "smaller-postcard"
      },
      "source": [
        "# Dataset"
      ],
      "id": "smaller-postcard"
    },
    {
      "cell_type": "markdown",
      "metadata": {
        "id": "handed-cooperation"
      },
      "source": [
        "这个项目主要是做情感分类，顺带学习一下词嵌入的相关内容。用到的数据集叫aclImdb_v1，是用于二进制情绪分类的大型电影评论数据集，其涵盖比基准数据集更多的数据，其中有 25,000 条电影评论用于训练，25,000 条用于测试，还有其他未经标记的数据可供使用，该数据集包含原始文本和已处理的单词格式包。"
      ],
      "id": "handed-cooperation"
    },
    {
      "cell_type": "code",
      "metadata": {
        "id": "subject-serial",
        "colab": {
          "base_uri": "https://localhost:8080/"
        },
        "outputId": "5b4062d3-f4da-411d-f99c-1d66fc56a0a8"
      },
      "source": [
        "url = \"https://ai.stanford.edu/~amaas/data/sentiment/aclImdb_v1.tar.gz\"\n",
        "dataset = tf.keras.utils.get_file(\"aclImdb_v1.tar.gz\", url,\n",
        "                                    untar=True, cache_dir='.',\n",
        "                                    cache_subdir='')\n",
        "dataset_dir = os.path.join(os.path.dirname(dataset), 'aclImdb')\n",
        "os.listdir(dataset_dir)"
      ],
      "id": "subject-serial",
      "execution_count": 4,
      "outputs": [
        {
          "output_type": "execute_result",
          "data": {
            "text/plain": [
              "['imdb.vocab', 'train', 'README', 'imdbEr.txt', 'test']"
            ]
          },
          "metadata": {
            "tags": []
          },
          "execution_count": 4
        }
      ]
    },
    {
      "cell_type": "code",
      "metadata": {
        "id": "handled-imperial",
        "colab": {
          "base_uri": "https://localhost:8080/"
        },
        "outputId": "60315153-aa81-4486-e30f-39a22293120a"
      },
      "source": [
        "train_dir = os.path.join(dataset_dir, 'train')\n",
        "os.listdir(train_dir)"
      ],
      "id": "handled-imperial",
      "execution_count": 5,
      "outputs": [
        {
          "output_type": "execute_result",
          "data": {
            "text/plain": [
              "['urls_pos.txt',\n",
              " 'labeledBow.feat',\n",
              " 'pos',\n",
              " 'unsupBow.feat',\n",
              " 'urls_neg.txt',\n",
              " 'neg',\n",
              " 'urls_unsup.txt',\n",
              " 'unsup']"
            ]
          },
          "metadata": {
            "tags": []
          },
          "execution_count": 5
        }
      ]
    },
    {
      "cell_type": "markdown",
      "metadata": {
        "id": "criminal-overhead"
      },
      "source": [
        "unsup文件夹用不到，需要删除，防止影响我们构建Dataset。"
      ],
      "id": "criminal-overhead"
    },
    {
      "cell_type": "code",
      "metadata": {
        "id": "grave-collapse"
      },
      "source": [
        "remove_dir = os.path.join(train_dir, 'unsup')\n",
        "shutil.rmtree(remove_dir)"
      ],
      "id": "grave-collapse",
      "execution_count": 6,
      "outputs": []
    },
    {
      "cell_type": "markdown",
      "metadata": {
        "id": "civil-backup"
      },
      "source": [
        "从训练集里分20%作为验证集"
      ],
      "id": "civil-backup"
    },
    {
      "cell_type": "code",
      "metadata": {
        "id": "generic-jefferson",
        "colab": {
          "base_uri": "https://localhost:8080/"
        },
        "outputId": "ec6826f2-b7ba-477f-fa2f-7c6d7fb0df0f"
      },
      "source": [
        "batch_size = 64\n",
        "seed = 123\n",
        "train_ds = tf.keras.preprocessing.text_dataset_from_directory(\n",
        "    os.path.join(dataset_dir,'train'), batch_size=batch_size, validation_split=0.2, \n",
        "    subset='training', seed=seed)\n",
        "val_ds = tf.keras.preprocessing.text_dataset_from_directory(\n",
        "    os.path.join(dataset_dir,'train'), batch_size=batch_size, validation_split=0.2, \n",
        "    subset='validation', seed=seed)"
      ],
      "id": "generic-jefferson",
      "execution_count": 7,
      "outputs": [
        {
          "output_type": "stream",
          "text": [
            "Found 25000 files belonging to 2 classes.\n",
            "Using 20000 files for training.\n",
            "Found 25000 files belonging to 2 classes.\n",
            "Using 5000 files for validation.\n"
          ],
          "name": "stdout"
        }
      ]
    },
    {
      "cell_type": "markdown",
      "metadata": {
        "id": "painful-luther"
      },
      "source": [
        "看看数据集大概长啥样"
      ],
      "id": "painful-luther"
    },
    {
      "cell_type": "code",
      "metadata": {
        "id": "removable-plumbing",
        "colab": {
          "base_uri": "https://localhost:8080/"
        },
        "outputId": "219ce512-36ba-4fc8-afed-f483de23e387"
      },
      "source": [
        "for text_batch, label_batch in train_ds.take(1):\n",
        "      for i in range(5):\n",
        "            print(label_batch[i].numpy(), text_batch.numpy()[i])"
      ],
      "id": "removable-plumbing",
      "execution_count": 8,
      "outputs": [
        {
          "output_type": "stream",
          "text": [
            "1 b\"I have watched this movie well over 100-200 times, and I love it each and every time I watched it. Yes, it can be very corny but it is also very funny and enjoyable. The camp shown in the movie is a real camp that I actually attended for 7 years and is portrayed as camp really is, a great place to spend the summer. Everyone who has ever gone to camp, wanted to go to camp, or has sent a child to camp should see this movie because it'll bring back wonderful memories for you and for your kids.\"\n",
            "1 b'This movie is SOOOO funny!!! The acting is WONDERFUL, the Ramones are sexy, the jokes are subtle, and the plot is just what every high schooler dreams of doing to his/her school. I absolutely loved the soundtrack as well as the carefully placed cynicism. If you like monty python, You will love this film. This movie is a tad bit \"grease\"esk (without all the annoying songs). The songs that are sung are likable; you might even find yourself singing these songs once the movie is through. This musical ranks number two in musicals to me (second next to the blues brothers). But please, do not think of it as a musical per say; seeing as how the songs are so likable, it is hard to tell a carefully choreographed scene is taking place. I think of this movie as more of a comedy with undertones of romance. You will be reminded of what it was like to be a rebellious teenager; needless to say, you will be reminiscing of your old high school days after seeing this film. Highly recommended for both the family (since it is a very youthful but also for adults since there are many jokes that are funnier with age and experience.'\n",
            "1 b\"I saw Insomniac's Nightmare not to long ago for the first time and I have to say, I really found it to be quite good. If you are a fan of Dominic Monaghan you will love it. The hole movie takes place inside his mind -or does it? The acting from everyone else is a little rushed and shaky and some of the scenes could be cut down but it works out in the end. The extras on the DVD are just as great as the film, if not greater for those Dom fans. It has tons of candid moments from the set, outtakes and a great interview with the director. Anyone who has gone through making an independent film will love to watch Tess (the director), Dom and everyone else on the very small close personal set try to bang out this little trippy creepy film. It was pretty enjoyable and I'm glad to have it in my collection.\"\n",
            "1 b\"I first saw this movie here in the U.K. in December 1989 when Central TV broadcast it. I still have the video tape, although worn out (over the years many friends and family members have borrowed it and have also been chilled by it!). <br /><br />Anyway, I remember coming home that night, grabbing a Christmas tipple, switching the lights out and watching what was advertised as a 'Christmas Ghost Story'. Even now I remember certain scenes that still send the hairs on my neck standing on-end... <br /><br />I have seen some comments on the movie which say it's not this and not that...I think those people get scared by Friday 13th and the like, stalk and slash rammel, which are laughable. This is a 'traditional' ghost story; there is no big budget action or special effects...no swearing, no blood, no gratuitous sex scenes, no chainsaws or guns etc...So how refreshing!!!! It's atmospheric. IF you like chilling horror, well written, well acted and with a genuinely scary atmosphere, this is the movie for you. I like the original horrors; only last night I saw the original Haunting and that is a superb movie. Very atmospheric again - and so is The Woman In Black. The end of the movie differs to the book, but still very good. I recommend it. Try it...you *will* like it if you like traditional ghost stories...SO...turn off the lights, turn up the fire, lock the doors, grab a drink...and enjoy... :)\"\n",
            "1 b'I had lost faith in Sooraj R. Barjatya after the movie Main Prem Ki Deewani hoon, then a year back now I saw promos for Vivah which looked good. But I didn\\'t want to waste my hard earned money watching it in cinema. When the film first came out on DVD I rented it and watched and I loved the movie and took back my words for Sooraj. I just finished watching it yesterday again and this time I thought I have to review this movie. Sooraj R. BarjatyaGot it right this time, okay I was not a huge fan of Hum App Ke Hai Kaun. But I have always loved Manie Pyar kiya, after Manie Pyar kiya to me I think Vivah is Barjatyas best work. I hardly ever cry in a movie but this movie made me feel like crying. If you have ever been in love before then there will be many moments that will touch you in this movie, the movie is just too sweet and will have you falling in love with it, my view a much underrated movie.<br /><br />The story of this movie you might call desi and very old times, but to me it seemed modern because the two couples which are getting an arrange marriage are aware it\\'s an old tradition. It\\'s done in present times, lots of people don\\'t believe in this arrange marriage, but I do. The journey between the engagement and wedding which will always be special and this movie shows it clearly. When Prem meets Poonam for the first time, they show it how it is and that\\'s reality and my parents where saying that\\'s how they got married and it showed it in a way which is so real yes people the way Prem and Poonam meet in this movie is how most marriages happen. It was a very sweet, you feel nervous yet excited, the song \"Do Ajnabe\" shows that very well. Getting back to the story yes it\\'s a journey which you soon get glued to between Prem and Poonam (Shahid Kapoor and Amrita Rao) and there families. A twist occurs in this movie which is really good, the last 30mins you all will be reaching for the tissue box.<br /><br />What makes this film so amazing is the chemistry between Prem and Poonam, how they fall for each other is too sweet. Simple boy and Simple Girl, when they first meet during and after the song \"Do Anjane Ajnabe\" It\\'s very sweet to watch, She hardly says anything and Prem does all the talking being honest with her about his past and the girl he liked and him smoking. Then it leads on to them all having a family trip and then that\\'s when they really do fall for each other. It makes you just want to watch the couple and watch all the sweet moments they have. Another factor is that Poonam chichi is really mean to her and you feel sorry for Poonam because she has been treated bad and makes you want to see her happy and when she finally finds happiness, you too start feeling happy with her the movie basically makes you fall in love with Poonam more then just Prem. When she finds happiness through Prem you want her to stay happy and also hope nothing goes wrong because the character is shown as a sweet simple girl. Which brings me to performances and Amrita Roa as Poonam is amazing in the movie, her best work till date you will fall in love with this innocent character and root her on to find happiness. Shahid Kapoor as Prem is amazing too, he is Poonam support in the film, he is her happiness the movie, together they share an amazing chemistry and I have never seen a cuter couple since SRK and Kajol. If Ishq Vishk didn\\'t touch you to telling you how cute they are together this surely will. \"Mujhe Haq hai\" the song and before that is amazing chemistry they show. Scenes which touched me was when Prem takes Poonam to his room and shows her that\\'s where they will be staying and he opens her up and they have a moment between them which is too sweet. Again if you have ever been in love with someone that much these scenes you can defiantly connect to. The film is just the sweetest thing you will see ever.<br /><br />The direction is spot on, to me a good movie is basically something that can pull me in and stop me believe for this hours what is being seen here is fake and there is a camera filing them. To me this film pulled me in and for those three hours I felt really connected to the movie. The songs you will only truly like when you have seen the movie as they are songs placed in the situation after I saw the movie I been playing the songs non stop! The music is amazing, the story is simply amazing too what more can I ask for?<br /><br />What I can finally say it, rarely do we get a movie that makes us feel good, this movie after you have seen it will make you feel really good and make you want to be a better person. Its basically the sweetest journey ever, its basically showing you they journey between engagement and marriage and many people say it\\'s the bestest part of your life\\xc2\\x85Well this movie actually shows you way do people actually say that? Why do people actually say that the journey is just that amazing! Watch this movie and you will find out why the journey is amazing!'\n"
          ],
          "name": "stdout"
        }
      ]
    },
    {
      "cell_type": "code",
      "metadata": {
        "id": "aware-parker"
      },
      "source": [
        "AUTOTUNE = tf.data.AUTOTUNE\n",
        "\n",
        "train_ds = train_ds.cache().shuffle(10000).prefetch(buffer_size=AUTOTUNE)\n",
        "val_ds = val_ds.cache().prefetch(buffer_size=AUTOTUNE)"
      ],
      "id": "aware-parker",
      "execution_count": 9,
      "outputs": []
    },
    {
      "cell_type": "markdown",
      "metadata": {
        "id": "informational-france"
      },
      "source": [
        "# Text Preprocessing"
      ],
      "id": "informational-france"
    },
    {
      "cell_type": "markdown",
      "metadata": {
        "id": "established-principle"
      },
      "source": [
        "## 标准化"
      ],
      "id": "established-principle"
    },
    {
      "cell_type": "markdown",
      "metadata": {
        "id": "appointed-passion"
      },
      "source": [
        "文本预处理要处理几件事：\n",
        "* 把所有字母转成小写字母\n",
        "* 把\"\\<br />\"替换成空格\n",
        "* 去除所有标点符号"
      ],
      "id": "appointed-passion"
    },
    {
      "cell_type": "code",
      "metadata": {
        "id": "european-sandwich"
      },
      "source": [
        "def custom_standardization(input_data):\n",
        "    lowercase = tf.strings.lower(input_data)\n",
        "    stripped_html = tf.strings.regex_replace(lowercase, '<br />', ' ')\n",
        "    return tf.strings.regex_replace(stripped_html, '[%s]' % re.escape(string.punctuation), '')"
      ],
      "id": "european-sandwich",
      "execution_count": 10,
      "outputs": []
    },
    {
      "cell_type": "markdown",
      "metadata": {
        "id": "original-webster"
      },
      "source": [
        "看看处理效果"
      ],
      "id": "original-webster"
    },
    {
      "cell_type": "code",
      "metadata": {
        "id": "separate-making",
        "colab": {
          "base_uri": "https://localhost:8080/"
        },
        "outputId": "6819f627-fe7f-4359-bfea-3d96119f5edb"
      },
      "source": [
        "for text_batch, label_batch in train_ds.take(1):\n",
        "      for i in range(5):\n",
        "            print(label_batch[i].numpy(), custom_standardization(text_batch.numpy()[i]))"
      ],
      "id": "separate-making",
      "execution_count": 11,
      "outputs": [
        {
          "output_type": "stream",
          "text": [
            "1 tf.Tensor(b'this is a good example a film that in spite of the low rating is more than worth watching the story is engaging and it doesnt take long before the chemistry between nicole kidman and ben chaplin grabs your attention the acting is first class and the characters are represented well sometimes it feels like the director couldnt decide himself between drama and romantic comedy ben chillers portrayal of the law abiding and shy englishman with porn sm magazines hidden in the bedroom creates plenty of moments for laughs as does the look in nicole kidmans eyes when she is offering john his first taste of intimacy in a long time other times the actors and especially nicole kidman give this comedy quite expertly a dramatic slant', shape=(), dtype=string)\n",
            "1 tf.Tensor(b'i recently had the pleasure of seeing the big bad swim at the ft lauderdale film festival and i must say it is the best film i have seen all year and the only film i have ever felt inspired to write a commentreview on this film was beautifully directed and combined a script with realistic dialogs excellent acting and an inspiring message ordinary lives come together in an adult swim class and become extraordinary in a celebration of the diversity of life this is poignantly illustrated by the imagery in the first minute of this captivating film where we see only the legs and torso of individuals in various shapes and sizes enter into a pool of water this film is brilliantly directed as the actors are placed and positioned in captivating scenes which hold your attention and imagination', shape=(), dtype=string)\n",
            "0 tf.Tensor(b'while filming an 80s horror movie called hot blooded the director is brutally murdered and the leading lady is scarred as she survives the attack and manages to kill murderer after all of this the production is abandoned and the stock reels are left to gather dust so a group of filmmakers decide to pick up where the film left off even though theyre warned by people to keep away from the film as the last person who was interested in the flick turned up dead in the cinema while watching the film from this its labelled as a cursed production not taking these warnings seriously the crew goes ahead with the production and they get the original star of the movie to return from hollywood to reprise her role but not as the daughter but the mother but again the murders start occurring with the cast and crew getting butchered by an unknown figure dressed up as the films killer  look what scream started hey i enjoy those films but mostly everything else that followed on afterwards were annoying and pointless excuses during this stage the subgenre came back with vengeance but it wasnt much of a good thing as they were mostly unsuccessful and unoriginal attempts where they followed the derivative pattern of the scream franchise cut which is an independent australian take on the textbook slasher genre is purely shonky garbage that lacks basically everything and shamelessly knocks off every other slasher flick but you know what i found it a cheesy delight yeah its gawd awful and highly forgettable but its a bit of ala good cheap fun while it lasted although i did hate it when i originally came across it but the second time around i knew what i was getting myself into and it worked better for it it was just like helping myself to a nice slice cheesecake again but this time it wasnt so sweet  the film came out around the same time as scream 3 and urban legends the final cut did which all three follow the same structure of using a movie within a movie scream 3 is obviously the strongest of the three but i would actually watch this trash over urban legends the final cut though it did seem more of a throwback to the 80s slashers than that of one of screams bastard offspring pretty much the film is given bgrade treatment and that shows up in the script and performances the dialog is truly unimaginative and hardly comes up with any surprises and suspense while the performances are pure mockery and molly ringwald takes the crown for it she plays the washup actress returning to finish the cursed flick and i had good fun with her laughably ridiculous sendup performance she provides the bite here and nails it down perfectly the rest were mostly recognizable australian tv stars thats if youre an australian with a ravishing jessica napier leading the cast with the likes of stephen curry and frank roberts also pop singer and supposed actress kylie minogue makes a cameo appearance in the opening just to be hacked up nice these teens mostly followed the formula of horny and dimwitted kids that have nothing better to do but to be killed sometimes it feels like they just waiting in queue because they have no real substance to be there  the plot starts off rather interestingly then heads into a mystery phase where red herrings pop up but then it makes a sudden uturn where it becomes a somewhat satire on the horror genre simply its rather choppy and when it comes to the explanation for all of this madness i was kind of left thinking\\xc2\\x85 oh my this when it tries to twist back onto itself in a clever manner but sadly it falls along way but dont you just love an opening ending also it sports some pop culture references and a self referential tongueincheek approach predictability makes its way in rather early and the jokes can become overstated at times but it knows that by poking fun at itself quite a bit the atmosphere looses a bit of edge because of the humour taking away the bleakness but still the isolated grand old mansion where they are filming has some neat touches that added some spookiness the cinema scene is done rather nicely too  now now we know we want gore and nudity when watching this type of flick but sadly theres no nudity to be found and the gore is pretty standard if lacking but its more then decent for such lowbudget flick there are one or two creative deaths but the rest are systematic the killer wasnt bad but when he spoke it kind of hurt it i thought well the smartass attitude didnt sit well with me another notes of the production which were dire ranged from the cutaway editing outofplace soundtrack and kimble rendalls direction lacked execution and was pretty careless but these contributing factors pull together to add some sort of sheer entertainment to all of this badness  the imagination matches the budget thats for sure but heck this lousy slasher wasnt trying to be anything else pure schlock thats slightly amusing', shape=(), dtype=string)\n",
            "0 tf.Tensor(b'for all of the hype about this film i kept an open mind as to what i would ultimately think and although a bit slow at times the first 90 of the movie is quite good with more than a few old time scares that make one jumpy and unsettled i actually thought the cinematography was excellent regarding many of these scenes where dark remains fails however is in its climax the ending of the film and the denouement are what seems to be miles apart from its body the storyline completely falls on its face with an illogical conclusion and the answer i was seeking most  what really happened to emma  was not elucidated upon the rationale for the negative energy was ludicrous at best and in the end i felt very cheated what could have been a superb horror film was ultimately haunted by a terrible ending', shape=(), dtype=string)\n",
            "0 tf.Tensor(b'unremarkable and unmemorable remake of an old celebrated english film although it may be overly maligned as a total disaster which it is not it never builds any tension and betrays its tv origins richard burton sleepwalks through his role and sophia lorens closed in this movie face doesnt display much passion either ', shape=(), dtype=string)\n"
          ],
          "name": "stdout"
        }
      ]
    },
    {
      "cell_type": "markdown",
      "metadata": {
        "id": "continued-bikini"
      },
      "source": [
        "## Vectorization Layer\n",
        "tf提供了vectorization layer来将字符串标准化、切割、将单个字符串映射成一个整数。"
      ],
      "id": "continued-bikini"
    },
    {
      "cell_type": "code",
      "metadata": {
        "id": "strange-stomach"
      },
      "source": [
        "vocab_size = 10000\n",
        "\n",
        "vectorize_layer = TextVectorization(\n",
        "    standardize=custom_standardization,\n",
        "    max_tokens=vocab_size,\n",
        "    output_mode='int')"
      ],
      "id": "strange-stomach",
      "execution_count": 12,
      "outputs": []
    },
    {
      "cell_type": "markdown",
      "metadata": {
        "id": "sporting-bookmark"
      },
      "source": [
        "把字典构造出来"
      ],
      "id": "sporting-bookmark"
    },
    {
      "cell_type": "code",
      "metadata": {
        "id": "expensive-maria"
      },
      "source": [
        "text_ds = train_ds.map(lambda x, y: x) #去除label\n",
        "vectorize_layer.adapt(text_ds)"
      ],
      "id": "expensive-maria",
      "execution_count": 13,
      "outputs": []
    },
    {
      "cell_type": "markdown",
      "metadata": {
        "id": "incoming-sapphire"
      },
      "source": [
        "看看字典长啥样，比较长取20个看看"
      ],
      "id": "incoming-sapphire"
    },
    {
      "cell_type": "code",
      "metadata": {
        "id": "judicial-theta",
        "colab": {
          "base_uri": "https://localhost:8080/"
        },
        "outputId": "4134a0b6-0f7b-4f21-ab32-1e68c395ad5b"
      },
      "source": [
        "vectorize_layer.get_vocabulary()[:20]"
      ],
      "id": "judicial-theta",
      "execution_count": 14,
      "outputs": [
        {
          "output_type": "execute_result",
          "data": {
            "text/plain": [
              "['',\n",
              " '[UNK]',\n",
              " 'the',\n",
              " 'and',\n",
              " 'a',\n",
              " 'of',\n",
              " 'to',\n",
              " 'is',\n",
              " 'in',\n",
              " 'it',\n",
              " 'i',\n",
              " 'this',\n",
              " 'that',\n",
              " 'was',\n",
              " 'as',\n",
              " 'with',\n",
              " 'for',\n",
              " 'movie',\n",
              " 'but',\n",
              " 'film']"
            ]
          },
          "metadata": {
            "tags": []
          },
          "execution_count": 14
        }
      ]
    },
    {
      "cell_type": "markdown",
      "metadata": {
        "id": "monthly-position"
      },
      "source": [
        "# Build Model"
      ],
      "id": "monthly-position"
    },
    {
      "cell_type": "code",
      "metadata": {
        "id": "least-guidance"
      },
      "source": [
        "embedding_dim=16\n",
        "\n",
        "model = Sequential([\n",
        "  vectorize_layer,\n",
        "  Embedding(vocab_size, embedding_dim, name=\"embedding\",mask_zero=True),\n",
        "  GlobalAveragePooling1D(),\n",
        "  Dense(16, activation='relu'),\n",
        "  Dense(1)\n",
        "])"
      ],
      "id": "least-guidance",
      "execution_count": 15,
      "outputs": []
    },
    {
      "cell_type": "markdown",
      "metadata": {
        "id": "infrared-failure"
      },
      "source": [
        "GlobalAveragePooling1D()是把一个batch里的词向量求平均值，忽略了语序等影响。后面会考虑使用RNN"
      ],
      "id": "infrared-failure"
    },
    {
      "cell_type": "code",
      "metadata": {
        "id": "mature-merit"
      },
      "source": [
        "model.compile(optimizer='adam',\n",
        "              loss=tf.keras.losses.BinaryCrossentropy(from_logits=True),\n",
        "              metrics=['accuracy'])"
      ],
      "id": "mature-merit",
      "execution_count": 16,
      "outputs": []
    },
    {
      "cell_type": "markdown",
      "metadata": {
        "id": "racial-nebraska"
      },
      "source": [
        "结果只有positive和negative，是二元分类，所以loss函数用的是BinaryCrossentropy"
      ],
      "id": "racial-nebraska"
    },
    {
      "cell_type": "code",
      "metadata": {
        "id": "green-director",
        "colab": {
          "base_uri": "https://localhost:8080/"
        },
        "outputId": "82c78ee3-696d-4647-fde3-dff3c50d2151"
      },
      "source": [
        "history1 = model.fit(\n",
        "    train_ds,\n",
        "    validation_data=val_ds, \n",
        "    epochs=15)"
      ],
      "id": "green-director",
      "execution_count": 17,
      "outputs": [
        {
          "output_type": "stream",
          "text": [
            "Epoch 1/15\n",
            "313/313 [==============================] - 6s 16ms/step - loss: 0.6631 - accuracy: 0.5239 - val_loss: 0.4199 - val_accuracy: 0.7976\n",
            "Epoch 2/15\n",
            "313/313 [==============================] - 4s 12ms/step - loss: 0.3546 - accuracy: 0.8537 - val_loss: 0.2877 - val_accuracy: 0.8802\n",
            "Epoch 3/15\n",
            "313/313 [==============================] - 4s 12ms/step - loss: 0.2400 - accuracy: 0.9051 - val_loss: 0.2637 - val_accuracy: 0.8852\n",
            "Epoch 4/15\n",
            "313/313 [==============================] - 4s 12ms/step - loss: 0.1898 - accuracy: 0.9259 - val_loss: 0.2595 - val_accuracy: 0.8940\n",
            "Epoch 5/15\n",
            "313/313 [==============================] - 4s 12ms/step - loss: 0.1627 - accuracy: 0.9394 - val_loss: 0.2645 - val_accuracy: 0.8928\n",
            "Epoch 6/15\n",
            "313/313 [==============================] - 4s 12ms/step - loss: 0.1379 - accuracy: 0.9512 - val_loss: 0.2749 - val_accuracy: 0.8892\n",
            "Epoch 7/15\n",
            "313/313 [==============================] - 4s 12ms/step - loss: 0.1160 - accuracy: 0.9598 - val_loss: 0.2920 - val_accuracy: 0.8878\n",
            "Epoch 8/15\n",
            "313/313 [==============================] - 4s 12ms/step - loss: 0.0979 - accuracy: 0.9683 - val_loss: 0.3153 - val_accuracy: 0.8844\n",
            "Epoch 9/15\n",
            "313/313 [==============================] - 4s 12ms/step - loss: 0.0805 - accuracy: 0.9775 - val_loss: 0.3344 - val_accuracy: 0.8862\n",
            "Epoch 10/15\n",
            "313/313 [==============================] - 4s 12ms/step - loss: 0.0716 - accuracy: 0.9821 - val_loss: 0.3652 - val_accuracy: 0.8820\n",
            "Epoch 11/15\n",
            "313/313 [==============================] - 4s 12ms/step - loss: 0.0550 - accuracy: 0.9862 - val_loss: 0.3952 - val_accuracy: 0.8784\n",
            "Epoch 12/15\n",
            "313/313 [==============================] - 4s 12ms/step - loss: 0.0473 - accuracy: 0.9889 - val_loss: 0.4180 - val_accuracy: 0.8772\n",
            "Epoch 13/15\n",
            "313/313 [==============================] - 4s 12ms/step - loss: 0.0358 - accuracy: 0.9931 - val_loss: 0.4570 - val_accuracy: 0.8712\n",
            "Epoch 14/15\n",
            "313/313 [==============================] - 4s 12ms/step - loss: 0.0311 - accuracy: 0.9947 - val_loss: 0.4850 - val_accuracy: 0.8730\n",
            "Epoch 15/15\n",
            "313/313 [==============================] - 4s 12ms/step - loss: 0.0231 - accuracy: 0.9975 - val_loss: 0.5213 - val_accuracy: 0.8708\n"
          ],
          "name": "stdout"
        }
      ]
    },
    {
      "cell_type": "code",
      "metadata": {
        "id": "polyphonic-banking",
        "colab": {
          "base_uri": "https://localhost:8080/",
          "height": 297
        },
        "outputId": "42ae84c4-0beb-4115-b4e3-34c1a0d9ab84"
      },
      "source": [
        "show_acc.plot(history1)"
      ],
      "id": "polyphonic-banking",
      "execution_count": 18,
      "outputs": [
        {
          "output_type": "display_data",
          "data": {
            "image/png": "[encoded data removed]",
            "text/plain": [
              "<Figure size 432x288 with 4 Axes>"
            ]
          },
          "metadata": {
            "tags": [],
            "needs_background": "light"
          }
        }
      ]
    },
    {
      "cell_type": "markdown",
      "metadata": {
        "id": "standing-intro"
      },
      "source": [
        "过拟合了，最高准确率大概89%"
      ],
      "id": "standing-intro"
    },
    {
      "cell_type": "markdown",
      "metadata": {
        "id": "subsequent-sympathy"
      },
      "source": [
        "# Save Learned Word Embedding\n",
        "有时候在大规模预料上训练得到的embedding layer是可以继续拿来在其他task中使用的"
      ],
      "id": "subsequent-sympathy"
    },
    {
      "cell_type": "code",
      "metadata": {
        "id": "impaired-bread"
      },
      "source": [
        "weights = model.get_layer('embedding').get_weights()[0]\n",
        "vocab = vectorize_layer.get_vocabulary()"
      ],
      "id": "impaired-bread",
      "execution_count": 19,
      "outputs": []
    },
    {
      "cell_type": "markdown",
      "metadata": {
        "id": "hungry-transsexual"
      },
      "source": [
        "## 在Embedding Projector中可视化\n",
        "[Embedding Projector](http://projector.tensorflow.org/)是一个高维数据可视化工具，可以用来可视化我们的word embedding结果"
      ],
      "id": "hungry-transsexual"
    },
    {
      "cell_type": "code",
      "metadata": {
        "id": "incomplete-fiber"
      },
      "source": [
        "out_v = io.open('vectors.tsv', 'w', encoding='utf-8')\n",
        "out_m = io.open('metadata.tsv', 'w', encoding='utf-8')\n",
        "\n",
        "for index, word in enumerate(vocab):\n",
        "    if  index == 0: continue # skip 0, it's padding.\n",
        "    vec = weights[index] \n",
        "    out_v.write('\\t'.join([str(x) for x in vec]) + \"\\n\")\n",
        "    out_m.write(word + \"\\n\")\n",
        "out_v.close()\n",
        "out_m.close()"
      ],
      "id": "incomplete-fiber",
      "execution_count": 20,
      "outputs": []
    },
    {
      "cell_type": "markdown",
      "metadata": {
        "id": "figured-genetics"
      },
      "source": [
        "去upload试一下吧"
      ],
      "id": "figured-genetics"
    },
    {
      "cell_type": "markdown",
      "metadata": {
        "id": "numerous-middle"
      },
      "source": [
        "# 使用RNN"
      ],
      "id": "numerous-middle"
    },
    {
      "cell_type": "code",
      "metadata": {
        "id": "signal-vietnamese"
      },
      "source": [
        "model2=tf.keras.Sequential([\n",
        "    vectorize_layer,\n",
        "    Embedding(vocab_size, 64, name=\"embedding\",mask_zero=True),\n",
        "    tf.keras.layers.Bidirectional(tf.keras.layers.LSTM(64, return_sequences=True)),\n",
        "    tf.keras.layers.Bidirectional(tf.keras.layers.LSTM(32)),\n",
        "    tf.keras.layers.Dense(64, activation='relu'),\n",
        "    tf.keras.layers.Dense(1)\n",
        "])"
      ],
      "id": "signal-vietnamese",
      "execution_count": 21,
      "outputs": []
    },
    {
      "cell_type": "code",
      "metadata": {
        "id": "creative-anchor"
      },
      "source": [
        "model2.compile(loss=tf.keras.losses.BinaryCrossentropy(from_logits=True),\n",
        "              optimizer=tf.keras.optimizers.Adam(1e-4),\n",
        "              metrics=['accuracy'])"
      ],
      "id": "creative-anchor",
      "execution_count": 22,
      "outputs": []
    },
    {
      "cell_type": "code",
      "metadata": {
        "id": "public-symphony",
        "colab": {
          "base_uri": "https://localhost:8080/"
        },
        "outputId": "dbaed3bb-eb5a-4530-bee0-1e09c4e80bd1"
      },
      "source": [
        "history2 = model2.fit(train_ds, epochs=15,\n",
        "                    validation_data=val_ds)"
      ],
      "id": "public-symphony",
      "execution_count": 23,
      "outputs": [
        {
          "output_type": "stream",
          "text": [
            "Epoch 1/15\n",
            "313/313 [==============================] - 61s 146ms/step - loss: 0.6703 - accuracy: 0.5238 - val_loss: 0.3449 - val_accuracy: 0.8478\n",
            "Epoch 2/15\n",
            "313/313 [==============================] - 42s 134ms/step - loss: 0.3206 - accuracy: 0.8676 - val_loss: 0.2791 - val_accuracy: 0.8860\n",
            "Epoch 3/15\n",
            "313/313 [==============================] - 42s 135ms/step - loss: 0.2126 - accuracy: 0.9200 - val_loss: 0.2810 - val_accuracy: 0.8740\n",
            "Epoch 4/15\n",
            "313/313 [==============================] - 42s 135ms/step - loss: 0.1860 - accuracy: 0.9335 - val_loss: 0.2774 - val_accuracy: 0.8910\n",
            "Epoch 5/15\n",
            "313/313 [==============================] - 42s 135ms/step - loss: 0.1211 - accuracy: 0.9612 - val_loss: 0.3015 - val_accuracy: 0.8832\n",
            "Epoch 6/15\n",
            "313/313 [==============================] - 42s 136ms/step - loss: 0.0994 - accuracy: 0.9723 - val_loss: 0.3239 - val_accuracy: 0.8862\n",
            "Epoch 7/15\n",
            "313/313 [==============================] - 43s 136ms/step - loss: 0.0804 - accuracy: 0.9787 - val_loss: 0.3989 - val_accuracy: 0.8802\n",
            "Epoch 8/15\n",
            "313/313 [==============================] - 43s 137ms/step - loss: 0.0638 - accuracy: 0.9830 - val_loss: 0.3803 - val_accuracy: 0.8784\n",
            "Epoch 9/15\n",
            "313/313 [==============================] - 43s 136ms/step - loss: 0.0551 - accuracy: 0.9859 - val_loss: 0.3954 - val_accuracy: 0.8766\n",
            "Epoch 10/15\n",
            "313/313 [==============================] - 42s 135ms/step - loss: 0.0512 - accuracy: 0.9873 - val_loss: 0.4534 - val_accuracy: 0.8768\n",
            "Epoch 11/15\n",
            "313/313 [==============================] - 42s 136ms/step - loss: 0.0507 - accuracy: 0.9884 - val_loss: 0.4840 - val_accuracy: 0.8664\n",
            "Epoch 12/15\n",
            "313/313 [==============================] - 42s 136ms/step - loss: 0.0394 - accuracy: 0.9908 - val_loss: 0.4950 - val_accuracy: 0.8722\n",
            "Epoch 13/15\n",
            "313/313 [==============================] - 43s 136ms/step - loss: 0.0385 - accuracy: 0.9916 - val_loss: 0.4847 - val_accuracy: 0.8726\n",
            "Epoch 14/15\n",
            "313/313 [==============================] - 43s 136ms/step - loss: 0.0361 - accuracy: 0.9924 - val_loss: 0.5029 - val_accuracy: 0.8726\n",
            "Epoch 15/15\n",
            "313/313 [==============================] - 43s 137ms/step - loss: 0.0322 - accuracy: 0.9935 - val_loss: 0.4892 - val_accuracy: 0.8754\n"
          ],
          "name": "stdout"
        }
      ]
    },
    {
      "cell_type": "code",
      "metadata": {
        "colab": {
          "base_uri": "https://localhost:8080/",
          "height": 297
        },
        "id": "VGc1ioHZTpkH",
        "outputId": "5ab297ce-9b61-4361-ebc1-078425faf6ad"
      },
      "source": [
        "show_acc.plot(history2)"
      ],
      "id": "VGc1ioHZTpkH",
      "execution_count": 24,
      "outputs": [
        {
          "output_type": "display_data",
          "data": {
            "image/png": "[encoded data removed]",
            "text/plain": [
              "<Figure size 432x288 with 4 Axes>"
            ]
          },
          "metadata": {
            "tags": [],
            "needs_background": "light"
          }
        }
      ]
    },
    {
      "cell_type": "markdown",
      "metadata": {
        "id": "8yUrIBC0TC1Y"
      },
      "source": [
        "最终效果和没用RNN差不多，推测原因是情感分类可能取决于一些能表明情绪的关键词，如recommend, dislike等，和语序等关系不大，所以RNN能记住上下文的特性在这一任务中用途不大，并没有带来很大的提升。"
      ],
      "id": "8yUrIBC0TC1Y"
    }
  ]
}